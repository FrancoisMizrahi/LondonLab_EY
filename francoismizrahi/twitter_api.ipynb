{
 "cells": [
  {
   "cell_type": "code",
   "execution_count": 3,
   "id": "90975a40",
   "metadata": {
    "ExecuteTime": {
     "end_time": "2022-04-27T21:45:30.007122Z",
     "start_time": "2022-04-27T21:45:28.762804Z"
    }
   },
   "outputs": [],
   "source": [
    "# importing libraries and packages\n",
    "import snscrape.modules.twitter as sntwitter\n",
    "import pandas as pd"
   ]
  },
  {
   "cell_type": "code",
   "execution_count": 7,
   "id": "32cb8db1",
   "metadata": {
    "ExecuteTime": {
     "end_time": "2022-04-27T21:49:37.497649Z",
     "start_time": "2022-04-27T21:49:08.060454Z"
    }
   },
   "outputs": [],
   "source": [
    "\n",
    "# Creating list to append tweet data to\n",
    "tweets_list = []\n",
    "\n",
    "# Using TwitterSearchScraper to scrape data and append tweets to list\n",
    "for i,tweet in enumerate(sntwitter.TwitterSearchScraper('United Airlines since:2018-01-01 until:2018-01-02').get_items()):\n",
    "    tweets_list.append([tweet.date, tweet.id, tweet.content])\n",
    "    \n",
    "# Creating a dataframe from the tweets list above\n",
    "df_tweets = pd.DataFrame(tweets_list, columns=['Datetime', 'Tweet Id', 'Text'])\n"
   ]
  },
  {
   "cell_type": "code",
   "execution_count": 10,
   "id": "222cdea8",
   "metadata": {
    "ExecuteTime": {
     "end_time": "2022-04-27T21:50:21.316039Z",
     "start_time": "2022-04-27T21:50:21.307965Z"
    }
   },
   "outputs": [
    {
     "data": {
      "text/plain": [
       "'How in the world does @united not have a Premier/F check-in line at EWR Terminal A?'"
      ]
     },
     "execution_count": 10,
     "metadata": {},
     "output_type": "execute_result"
    }
   ],
   "source": [
    "df_tweets.Text[0]"
   ]
  },
  {
   "cell_type": "code",
   "execution_count": null,
   "id": "53d80fdf",
   "metadata": {},
   "outputs": [],
   "source": []
  }
 ],
 "metadata": {
  "kernelspec": {
   "display_name": "Python 3",
   "language": "python",
   "name": "python3"
  },
  "language_info": {
   "codemirror_mode": {
    "name": "ipython",
    "version": 3
   },
   "file_extension": ".py",
   "mimetype": "text/x-python",
   "name": "python",
   "nbconvert_exporter": "python",
   "pygments_lexer": "ipython3",
   "version": "3.7.10"
  },
  "toc": {
   "base_numbering": 1,
   "nav_menu": {},
   "number_sections": true,
   "sideBar": true,
   "skip_h1_title": false,
   "title_cell": "Table of Contents",
   "title_sidebar": "Contents",
   "toc_cell": false,
   "toc_position": {},
   "toc_section_display": true,
   "toc_window_display": false
  },
  "varInspector": {
   "cols": {
    "lenName": 16,
    "lenType": 16,
    "lenVar": 40
   },
   "kernels_config": {
    "python": {
     "delete_cmd_postfix": "",
     "delete_cmd_prefix": "del ",
     "library": "var_list.py",
     "varRefreshCmd": "print(var_dic_list())"
    },
    "r": {
     "delete_cmd_postfix": ") ",
     "delete_cmd_prefix": "rm(",
     "library": "var_list.r",
     "varRefreshCmd": "cat(var_dic_list()) "
    }
   },
   "types_to_exclude": [
    "module",
    "function",
    "builtin_function_or_method",
    "instance",
    "_Feature"
   ],
   "window_display": false
  }
 },
 "nbformat": 4,
 "nbformat_minor": 5
}

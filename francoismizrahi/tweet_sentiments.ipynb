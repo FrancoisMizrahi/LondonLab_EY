{
 "cells": [
  {
   "cell_type": "code",
   "execution_count": 9,
   "id": "744a80e9",
   "metadata": {
    "ExecuteTime": {
     "end_time": "2022-05-04T21:27:57.167491Z",
     "start_time": "2022-05-04T21:27:57.162776Z"
    }
   },
   "outputs": [],
   "source": [
    "import pandas as pd\n",
    "from datetime import datetime"
   ]
  },
  {
   "cell_type": "code",
   "execution_count": 28,
   "id": "32082993",
   "metadata": {
    "ExecuteTime": {
     "end_time": "2022-05-04T21:39:25.262803Z",
     "start_time": "2022-05-04T21:39:25.144001Z"
    }
   },
   "outputs": [],
   "source": [
    "df = pd.read_csv(\"/Users/francoismizrahi/Documents/LBS/Courses/London Lab/data/clean_tweets/clean_eng_facebook_data_2018-06-30_2018-07-30.csv\")\n"
   ]
  },
  {
   "cell_type": "code",
   "execution_count": 29,
   "id": "88307e85",
   "metadata": {
    "ExecuteTime": {
     "end_time": "2022-05-04T21:39:25.772161Z",
     "start_time": "2022-05-04T21:39:25.755953Z"
    }
   },
   "outputs": [
    {
     "data": {
      "text/html": [
       "<div>\n",
       "<style scoped>\n",
       "    .dataframe tbody tr th:only-of-type {\n",
       "        vertical-align: middle;\n",
       "    }\n",
       "\n",
       "    .dataframe tbody tr th {\n",
       "        vertical-align: top;\n",
       "    }\n",
       "\n",
       "    .dataframe thead th {\n",
       "        text-align: right;\n",
       "    }\n",
       "</style>\n",
       "<table border=\"1\" class=\"dataframe\">\n",
       "  <thead>\n",
       "    <tr style=\"text-align: right;\">\n",
       "      <th></th>\n",
       "      <th>Unnamed: 0</th>\n",
       "      <th>Unnamed: 0.1</th>\n",
       "      <th>Datetime</th>\n",
       "      <th>Tweet Id</th>\n",
       "      <th>Text</th>\n",
       "      <th>label</th>\n",
       "      <th>score</th>\n",
       "      <th>elapsed_time</th>\n",
       "    </tr>\n",
       "  </thead>\n",
       "  <tbody>\n",
       "    <tr>\n",
       "      <th>0</th>\n",
       "      <td>0</td>\n",
       "      <td>0</td>\n",
       "      <td>2018-07-29 23:56:00+00:00</td>\n",
       "      <td>1023718816683982848</td>\n",
       "      <td>facebook departing security chief alex stamos ...</td>\n",
       "      <td>NEUTRAL</td>\n",
       "      <td>0.598769</td>\n",
       "      <td>0.285001</td>\n",
       "    </tr>\n",
       "    <tr>\n",
       "      <th>1</th>\n",
       "      <td>1</td>\n",
       "      <td>1</td>\n",
       "      <td>2018-07-29 23:48:17+00:00</td>\n",
       "      <td>1023716874150805504</td>\n",
       "      <td>phone either iphone android american companies...</td>\n",
       "      <td>NEGATIVE</td>\n",
       "      <td>0.144630</td>\n",
       "      <td>0.354314</td>\n",
       "    </tr>\n",
       "    <tr>\n",
       "      <th>2</th>\n",
       "      <td>2</td>\n",
       "      <td>2</td>\n",
       "      <td>2018-07-29 23:42:29+00:00</td>\n",
       "      <td>1023715414512001024</td>\n",
       "      <td>follower experienced facebook developer electi...</td>\n",
       "      <td>NEGATIVE</td>\n",
       "      <td>0.335644</td>\n",
       "      <td>0.420555</td>\n",
       "    </tr>\n",
       "    <tr>\n",
       "      <th>3</th>\n",
       "      <td>3</td>\n",
       "      <td>3</td>\n",
       "      <td>2018-07-29 23:39:11+00:00</td>\n",
       "      <td>1023714585986191361</td>\n",
       "      <td>liked youtube video zuckerberg explains advert...</td>\n",
       "      <td>NEUTRAL</td>\n",
       "      <td>0.680306</td>\n",
       "      <td>0.493134</td>\n",
       "    </tr>\n",
       "    <tr>\n",
       "      <th>4</th>\n",
       "      <td>4</td>\n",
       "      <td>4</td>\n",
       "      <td>2018-07-29 23:32:39+00:00</td>\n",
       "      <td>1023712939696504833</td>\n",
       "      <td>facebook data breach</td>\n",
       "      <td>NEUTRAL</td>\n",
       "      <td>0.475181</td>\n",
       "      <td>0.551222</td>\n",
       "    </tr>\n",
       "  </tbody>\n",
       "</table>\n",
       "</div>"
      ],
      "text/plain": [
       "   Unnamed: 0  Unnamed: 0.1                   Datetime             Tweet Id  \\\n",
       "0           0             0  2018-07-29 23:56:00+00:00  1023718816683982848   \n",
       "1           1             1  2018-07-29 23:48:17+00:00  1023716874150805504   \n",
       "2           2             2  2018-07-29 23:42:29+00:00  1023715414512001024   \n",
       "3           3             3  2018-07-29 23:39:11+00:00  1023714585986191361   \n",
       "4           4             4  2018-07-29 23:32:39+00:00  1023712939696504833   \n",
       "\n",
       "                                                Text     label     score  \\\n",
       "0  facebook departing security chief alex stamos ...   NEUTRAL  0.598769   \n",
       "1  phone either iphone android american companies...  NEGATIVE  0.144630   \n",
       "2  follower experienced facebook developer electi...  NEGATIVE  0.335644   \n",
       "3  liked youtube video zuckerberg explains advert...   NEUTRAL  0.680306   \n",
       "4                               facebook data breach   NEUTRAL  0.475181   \n",
       "\n",
       "   elapsed_time  \n",
       "0      0.285001  \n",
       "1      0.354314  \n",
       "2      0.420555  \n",
       "3      0.493134  \n",
       "4      0.551222  "
      ]
     },
     "execution_count": 29,
     "metadata": {},
     "output_type": "execute_result"
    }
   ],
   "source": [
    "df.head()"
   ]
  },
  {
   "cell_type": "code",
   "execution_count": 39,
   "id": "04a66977",
   "metadata": {
    "ExecuteTime": {
     "end_time": "2022-05-04T21:44:53.363658Z",
     "start_time": "2022-05-04T21:44:53.315610Z"
    }
   },
   "outputs": [
    {
     "data": {
      "text/plain": [
       "0        30\n",
       "1        30\n",
       "2        30\n",
       "3        30\n",
       "4        30\n",
       "         ..\n",
       "40200    26\n",
       "40201    26\n",
       "40202    26\n",
       "40203    26\n",
       "40204    26\n",
       "Name: week, Length: 40205, dtype: UInt32"
      ]
     },
     "execution_count": 39,
     "metadata": {},
     "output_type": "execute_result"
    }
   ],
   "source": [
    "pd.to_datetime(df['Datetime']).dt.isocalendar().week"
   ]
  },
  {
   "cell_type": "code",
   "execution_count": 30,
   "id": "7e1745ca",
   "metadata": {
    "ExecuteTime": {
     "end_time": "2022-05-04T21:39:27.408620Z",
     "start_time": "2022-05-04T21:39:27.367178Z"
    }
   },
   "outputs": [],
   "source": [
    "df['Date'] = pd.to_datetime(df['Datetime']).dt.isocalendar().week"
   ]
  },
  {
   "cell_type": "code",
   "execution_count": 31,
   "id": "b32e7f4e",
   "metadata": {
    "ExecuteTime": {
     "end_time": "2022-05-04T21:39:28.463557Z",
     "start_time": "2022-05-04T21:39:28.450447Z"
    }
   },
   "outputs": [
    {
     "data": {
      "text/plain": [
       "array([datetime.date(2018, 7, 29), datetime.date(2018, 7, 28),\n",
       "       datetime.date(2018, 7, 27), datetime.date(2018, 7, 26),\n",
       "       datetime.date(2018, 7, 25), datetime.date(2018, 7, 24),\n",
       "       datetime.date(2018, 7, 23), datetime.date(2018, 7, 22),\n",
       "       datetime.date(2018, 7, 21), datetime.date(2018, 7, 20),\n",
       "       datetime.date(2018, 7, 19), datetime.date(2018, 7, 18),\n",
       "       datetime.date(2018, 7, 17), datetime.date(2018, 7, 16),\n",
       "       datetime.date(2018, 7, 15), datetime.date(2018, 7, 14),\n",
       "       datetime.date(2018, 7, 13), datetime.date(2018, 7, 12),\n",
       "       datetime.date(2018, 7, 11), datetime.date(2018, 7, 10),\n",
       "       datetime.date(2018, 7, 9), datetime.date(2018, 7, 8),\n",
       "       datetime.date(2018, 7, 7), datetime.date(2018, 7, 6),\n",
       "       datetime.date(2018, 7, 5), datetime.date(2018, 7, 4),\n",
       "       datetime.date(2018, 7, 3), datetime.date(2018, 7, 2),\n",
       "       datetime.date(2018, 7, 1), datetime.date(2018, 6, 30)],\n",
       "      dtype=object)"
      ]
     },
     "execution_count": 31,
     "metadata": {},
     "output_type": "execute_result"
    }
   ],
   "source": [
    "df[\"Date\"].unique()"
   ]
  },
  {
   "cell_type": "code",
   "execution_count": 33,
   "id": "d15d2982",
   "metadata": {
    "ExecuteTime": {
     "end_time": "2022-05-04T21:41:18.025371Z",
     "start_time": "2022-05-04T21:41:18.012038Z"
    }
   },
   "outputs": [],
   "source": [
    "group_df = df.groupby(['Date']).mean()"
   ]
  },
  {
   "cell_type": "code",
   "execution_count": 36,
   "id": "b93339a2",
   "metadata": {
    "ExecuteTime": {
     "end_time": "2022-05-04T21:43:54.217102Z",
     "start_time": "2022-05-04T21:43:54.040203Z"
    }
   },
   "outputs": [
    {
     "data": {
      "text/plain": [
       "[<matplotlib.lines.Line2D at 0x7ff6c9a98210>]"
      ]
     },
     "execution_count": 36,
     "metadata": {},
     "output_type": "execute_result"
    },
    {
     "data": {
      "image/png": "[encoded data removed]",
      "text/plain": [
       "<Figure size 432x288 with 1 Axes>"
      ]
     },
     "metadata": {
      "needs_background": "light"
     },
     "output_type": "display_data"
    }
   ],
   "source": [
    "# libraries\n",
    "import matplotlib.pyplot as plt\n",
    "\n",
    "# plot\n",
    "plt.plot(group_df.score)"
   ]
  },
  {
   "cell_type": "code",
   "execution_count": null,
   "id": "b94461a1",
   "metadata": {},
   "outputs": [],
   "source": []
  }
 ],
 "metadata": {
  "kernelspec": {
   "display_name": "Python 3",
   "language": "python",
   "name": "python3"
  },
  "language_info": {
   "codemirror_mode": {
    "name": "ipython",
    "version": 3
   },
   "file_extension": ".py",
   "mimetype": "text/x-python",
   "name": "python",
   "nbconvert_exporter": "python",
   "pygments_lexer": "ipython3",
   "version": "3.7.10"
  },
  "toc": {
   "base_numbering": 1,
   "nav_menu": {},
   "number_sections": true,
   "sideBar": true,
   "skip_h1_title": false,
   "title_cell": "Table of Contents",
   "title_sidebar": "Contents",
   "toc_cell": false,
   "toc_position": {},
   "toc_section_display": true,
   "toc_window_display": false
  },
  "varInspector": {
   "cols": {
    "lenName": 16,
    "lenType": 16,
    "lenVar": 40
   },
   "kernels_config": {
    "python": {
     "delete_cmd_postfix": "",
     "delete_cmd_prefix": "del ",
     "library": "var_list.py",
     "varRefreshCmd": "print(var_dic_list())"
    },
    "r": {
     "delete_cmd_postfix": ") ",
     "delete_cmd_prefix": "rm(",
     "library": "var_list.r",
     "varRefreshCmd": "cat(var_dic_list()) "
    }
   },
   "types_to_exclude": [
    "module",
    "function",
    "builtin_function_or_method",
    "instance",
    "_Feature"
   ],
   "window_display": false
  }
 },
 "nbformat": 4,
 "nbformat_minor": 5
}

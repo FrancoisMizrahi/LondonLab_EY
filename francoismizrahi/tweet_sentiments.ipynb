{
 "cells": [
  {
   "cell_type": "code",
   "execution_count": 24,
   "id": "42cc46bc",
   "metadata": {
    "ExecuteTime": {
     "end_time": "2022-05-06T08:51:35.905232Z",
     "start_time": "2022-05-06T08:51:35.900727Z"
    }
   },
   "outputs": [],
   "source": [
    "import pandas as pd\n",
    "from datetime import datetime\n",
    "import glob\n",
    "import os\n",
    "from matplotlib import pyplot as plt"
   ]
  },
  {
   "cell_type": "code",
   "execution_count": 17,
   "id": "1d48081d",
   "metadata": {
    "ExecuteTime": {
     "end_time": "2022-05-06T08:49:00.421600Z",
     "start_time": "2022-05-06T08:48:59.173270Z"
    }
   },
   "outputs": [],
   "source": [
    "path = r'/Users/francoismizrahi/Documents/LBS/Courses/London Lab/data/clean_tweets/'\n",
    "all_files = glob.glob(os.path.join(path, \"*.csv\"))\n",
    "\n",
    "df = pd.concat((pd.read_csv(f) for f in all_files))"
   ]
  },
  {
   "cell_type": "code",
   "execution_count": 19,
   "id": "811ee498",
   "metadata": {
    "ExecuteTime": {
     "end_time": "2022-05-06T08:49:02.027110Z",
     "start_time": "2022-05-06T08:49:00.502082Z"
    }
   },
   "outputs": [],
   "source": [
    "df.drop_duplicates(subset=['Tweet Id'], inplace=True)\n",
    "df.sort_values(by=['Datetime'], inplace = True)\n",
    "df = df.reset_index().drop(columns=[\"index\", \"Unnamed: 0\", \"Unnamed: 0.1\"])\n",
    "df['date'] = pd.to_datetime(df['Datetime']).dt.date\n",
    "df['week'] = pd.to_datetime(df['Datetime']).dt.isocalendar().week\n",
    "df['month'] = pd.to_datetime(df['Datetime']).dt.month"
   ]
  },
  {
   "cell_type": "code",
   "execution_count": 68,
   "id": "1084eed6",
   "metadata": {
    "ExecuteTime": {
     "end_time": "2022-05-06T09:11:08.959782Z",
     "start_time": "2022-05-06T09:11:08.952706Z"
    }
   },
   "outputs": [
    {
     "data": {
      "text/plain": [
       "615176"
      ]
     },
     "execution_count": 68,
     "metadata": {},
     "output_type": "execute_result"
    }
   ],
   "source": [
    "len(df)"
   ]
  },
  {
   "cell_type": "code",
   "execution_count": 20,
   "id": "097faa53",
   "metadata": {
    "ExecuteTime": {
     "end_time": "2022-05-06T08:49:02.080095Z",
     "start_time": "2022-05-06T08:49:02.068372Z"
    }
   },
   "outputs": [
    {
     "data": {
      "text/html": [
       "<div>\n",
       "<style scoped>\n",
       "    .dataframe tbody tr th:only-of-type {\n",
       "        vertical-align: middle;\n",
       "    }\n",
       "\n",
       "    .dataframe tbody tr th {\n",
       "        vertical-align: top;\n",
       "    }\n",
       "\n",
       "    .dataframe thead th {\n",
       "        text-align: right;\n",
       "    }\n",
       "</style>\n",
       "<table border=\"1\" class=\"dataframe\">\n",
       "  <thead>\n",
       "    <tr style=\"text-align: right;\">\n",
       "      <th></th>\n",
       "      <th>Datetime</th>\n",
       "      <th>Tweet Id</th>\n",
       "      <th>Text</th>\n",
       "      <th>label</th>\n",
       "      <th>score</th>\n",
       "      <th>elapsed_time</th>\n",
       "      <th>date</th>\n",
       "      <th>week</th>\n",
       "      <th>month</th>\n",
       "    </tr>\n",
       "  </thead>\n",
       "  <tbody>\n",
       "    <tr>\n",
       "      <th>0</th>\n",
       "      <td>2018-01-01 00:00:49+00:00</td>\n",
       "      <td>9.476186e+17</td>\n",
       "      <td>whatsapp sharing data facebook turn</td>\n",
       "      <td>NEUTRAL</td>\n",
       "      <td>0.669781</td>\n",
       "      <td>786.223723</td>\n",
       "      <td>2018-01-01</td>\n",
       "      <td>1</td>\n",
       "      <td>1.0</td>\n",
       "    </tr>\n",
       "    <tr>\n",
       "      <th>1</th>\n",
       "      <td>2018-01-01 00:32:38+00:00</td>\n",
       "      <td>9.476266e+17</td>\n",
       "      <td>aawaradude whatsapp whatsapp primarily hosted ...</td>\n",
       "      <td>NEUTRAL</td>\n",
       "      <td>0.674525</td>\n",
       "      <td>786.131584</td>\n",
       "      <td>2018-01-01</td>\n",
       "      <td>1</td>\n",
       "      <td>1.0</td>\n",
       "    </tr>\n",
       "    <tr>\n",
       "      <th>2</th>\n",
       "      <td>2018-01-01 00:48:51+00:00</td>\n",
       "      <td>9.476307e+17</td>\n",
       "      <td>bfd much data freely available via internet pu...</td>\n",
       "      <td>NEGATIVE</td>\n",
       "      <td>0.106863</td>\n",
       "      <td>786.031810</td>\n",
       "      <td>2018-01-01</td>\n",
       "      <td>1</td>\n",
       "      <td>1.0</td>\n",
       "    </tr>\n",
       "    <tr>\n",
       "      <th>3</th>\n",
       "      <td>2018-01-01 00:54:24+00:00</td>\n",
       "      <td>9.476321e+17</td>\n",
       "      <td>check facebook audience insights guide know lo...</td>\n",
       "      <td>POSITIVE</td>\n",
       "      <td>0.758573</td>\n",
       "      <td>785.921700</td>\n",
       "      <td>2018-01-01</td>\n",
       "      <td>1</td>\n",
       "      <td>1.0</td>\n",
       "    </tr>\n",
       "    <tr>\n",
       "      <th>4</th>\n",
       "      <td>2018-01-01 00:58:11+00:00</td>\n",
       "      <td>9.476330e+17</td>\n",
       "      <td>cloud opinion sure facebook data reliable</td>\n",
       "      <td>NEUTRAL</td>\n",
       "      <td>0.665141</td>\n",
       "      <td>785.841592</td>\n",
       "      <td>2018-01-01</td>\n",
       "      <td>1</td>\n",
       "      <td>1.0</td>\n",
       "    </tr>\n",
       "  </tbody>\n",
       "</table>\n",
       "</div>"
      ],
      "text/plain": [
       "                    Datetime      Tweet Id  \\\n",
       "0  2018-01-01 00:00:49+00:00  9.476186e+17   \n",
       "1  2018-01-01 00:32:38+00:00  9.476266e+17   \n",
       "2  2018-01-01 00:48:51+00:00  9.476307e+17   \n",
       "3  2018-01-01 00:54:24+00:00  9.476321e+17   \n",
       "4  2018-01-01 00:58:11+00:00  9.476330e+17   \n",
       "\n",
       "                                                Text     label     score  \\\n",
       "0                whatsapp sharing data facebook turn   NEUTRAL  0.669781   \n",
       "1  aawaradude whatsapp whatsapp primarily hosted ...   NEUTRAL  0.674525   \n",
       "2  bfd much data freely available via internet pu...  NEGATIVE  0.106863   \n",
       "3  check facebook audience insights guide know lo...  POSITIVE  0.758573   \n",
       "4          cloud opinion sure facebook data reliable   NEUTRAL  0.665141   \n",
       "\n",
       "   elapsed_time        date  week  month  \n",
       "0    786.223723  2018-01-01     1    1.0  \n",
       "1    786.131584  2018-01-01     1    1.0  \n",
       "2    786.031810  2018-01-01     1    1.0  \n",
       "3    785.921700  2018-01-01     1    1.0  \n",
       "4    785.841592  2018-01-01     1    1.0  "
      ]
     },
     "execution_count": 20,
     "metadata": {},
     "output_type": "execute_result"
    }
   ],
   "source": [
    "df.head()"
   ]
  },
  {
   "cell_type": "code",
   "execution_count": 26,
   "id": "77cc0e5b",
   "metadata": {
    "ExecuteTime": {
     "end_time": "2022-05-06T08:54:15.413834Z",
     "start_time": "2022-05-06T08:54:15.338217Z"
    }
   },
   "outputs": [],
   "source": [
    "df_group = df.groupby(['date']).mean()"
   ]
  },
  {
   "cell_type": "code",
   "execution_count": 28,
   "id": "08fdf0e4",
   "metadata": {
    "ExecuteTime": {
     "end_time": "2022-05-06T08:54:16.296682Z",
     "start_time": "2022-05-06T08:54:16.156345Z"
    }
   },
   "outputs": [
    {
     "data": {
      "text/plain": [
       "[<matplotlib.lines.Line2D at 0x7fca50512390>]"
      ]
     },
     "execution_count": 28,
     "metadata": {},
     "output_type": "execute_result"
    },
    {
     "data": {
      "image/png": "[encoded data removed]",
      "text/plain": [
       "<Figure size 432x288 with 1 Axes>"
      ]
     },
     "metadata": {
      "needs_background": "light"
     },
     "output_type": "display_data"
    }
   ],
   "source": [
    "plt.plot(df_group.score, marker='o', alpha=0.4)"
   ]
  },
  {
   "cell_type": "code",
   "execution_count": 89,
   "id": "811472db",
   "metadata": {
    "ExecuteTime": {
     "end_time": "2022-05-06T09:22:52.577340Z",
     "start_time": "2022-05-06T09:22:52.571125Z"
    }
   },
   "outputs": [],
   "source": [
    "rolling = df_group.rolling(30).mean().score[30:]"
   ]
  },
  {
   "cell_type": "code",
   "execution_count": 90,
   "id": "7817f373",
   "metadata": {
    "ExecuteTime": {
     "end_time": "2022-05-06T09:22:53.005158Z",
     "start_time": "2022-05-06T09:22:52.848274Z"
    }
   },
   "outputs": [
    {
     "data": {
      "text/plain": [
       "<matplotlib.patches.Polygon at 0x7fcab1067590>"
      ]
     },
     "execution_count": 90,
     "metadata": {},
     "output_type": "execute_result"
    },
    {
     "data": {
      "image/png": "[encoded data removed]",
      "text/plain": [
       "<Figure size 432x288 with 1 Axes>"
      ]
     },
     "metadata": {
      "needs_background": "light"
     },
     "output_type": "display_data"
    }
   ],
   "source": [
    "plt.plot(rolling, marker='o', alpha=0.4)\n",
    "plt.axvspan(datetime.strptime(\"2018-03-01\", '%Y-%m-%d').date(),datetime.strptime(\"2018-04-01\", '%Y-%m-%d').date(), color= \"red\", alpha=0.2)\n"
   ]
  },
  {
   "cell_type": "code",
   "execution_count": 86,
   "id": "25d67f97",
   "metadata": {
    "ExecuteTime": {
     "end_time": "2022-05-06T09:22:02.410531Z",
     "start_time": "2022-05-06T09:22:02.318937Z"
    }
   },
   "outputs": [],
   "source": [
    "df_months_before = df[(df[\"date\"] < datetime.strptime(\"2018-03-01\", '%Y-%m-%d').date())]\n",
    "df_months_after = df[(df[\"date\"] >= datetime.strptime(\"2018-03-01\", '%Y-%m-%d').date()) & (df[\"date\"] < datetime.strptime(\"2018-04-01\", '%Y-%m-%d').date())]\n"
   ]
  },
  {
   "cell_type": "code",
   "execution_count": 74,
   "id": "2ebf3ff0",
   "metadata": {
    "ExecuteTime": {
     "end_time": "2022-05-06T09:16:43.623643Z",
     "start_time": "2022-05-06T09:16:43.618214Z"
    }
   },
   "outputs": [
    {
     "data": {
      "text/plain": [
       "0.5217077693939209"
      ]
     },
     "execution_count": 74,
     "metadata": {},
     "output_type": "execute_result"
    }
   ],
   "source": [
    "df_months_before.score.mean()"
   ]
  },
  {
   "cell_type": "code",
   "execution_count": 75,
   "id": "a3e98197",
   "metadata": {
    "ExecuteTime": {
     "end_time": "2022-05-06T09:16:44.208702Z",
     "start_time": "2022-05-06T09:16:44.201349Z"
    }
   },
   "outputs": [
    {
     "data": {
      "text/plain": [
       "0.48285639431166166"
      ]
     },
     "execution_count": 75,
     "metadata": {},
     "output_type": "execute_result"
    }
   ],
   "source": [
    "df_months_after.score.mean()"
   ]
  },
  {
   "cell_type": "code",
   "execution_count": 76,
   "id": "8a49facf",
   "metadata": {
    "ExecuteTime": {
     "end_time": "2022-05-06T09:16:44.799369Z",
     "start_time": "2022-05-06T09:16:44.788068Z"
    }
   },
   "outputs": [
    {
     "data": {
      "text/plain": [
       "-7.446961184303187"
      ]
     },
     "execution_count": 76,
     "metadata": {},
     "output_type": "execute_result"
    }
   ],
   "source": [
    "(df_months_after.score.mean()-df_months_before.score.mean())/df_months_before.score.mean()*100"
   ]
  },
  {
   "cell_type": "code",
   "execution_count": null,
   "id": "e122336a",
   "metadata": {},
   "outputs": [],
   "source": []
  }
 ],
 "metadata": {
  "kernelspec": {
   "display_name": "Python 3",
   "language": "python",
   "name": "python3"
  },
  "language_info": {
   "codemirror_mode": {
    "name": "ipython",
    "version": 3
   },
   "file_extension": ".py",
   "mimetype": "text/x-python",
   "name": "python",
   "nbconvert_exporter": "python",
   "pygments_lexer": "ipython3",
   "version": "3.7.10"
  },
  "toc": {
   "base_numbering": 1,
   "nav_menu": {},
   "number_sections": true,
   "sideBar": true,
   "skip_h1_title": false,
   "title_cell": "Table of Contents",
   "title_sidebar": "Contents",
   "toc_cell": false,
   "toc_position": {},
   "toc_section_display": true,
   "toc_window_display": false
  },
  "varInspector": {
   "cols": {
    "lenName": 16,
    "lenType": 16,
    "lenVar": 40
   },
   "kernels_config": {
    "python": {
     "delete_cmd_postfix": "",
     "delete_cmd_prefix": "del ",
     "library": "var_list.py",
     "varRefreshCmd": "print(var_dic_list())"
    },
    "r": {
     "delete_cmd_postfix": ") ",
     "delete_cmd_prefix": "rm(",
     "library": "var_list.r",
     "varRefreshCmd": "cat(var_dic_list()) "
    }
   },
   "types_to_exclude": [
    "module",
    "function",
    "builtin_function_or_method",
    "instance",
    "_Feature"
   ],
   "window_display": false
  }
 },
 "nbformat": 4,
 "nbformat_minor": 5
}

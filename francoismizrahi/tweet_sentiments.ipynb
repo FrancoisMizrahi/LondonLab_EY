{
 "cells": [
  {
   "cell_type": "code",
   "execution_count": null,
   "id": "42cc46bc",
   "metadata": {
    "ExecuteTime": {
     "end_time": "2022-05-05T21:00:15.001586Z",
     "start_time": "2022-05-05T21:00:14.551075Z"
    }
   },
   "outputs": [],
   "source": [
    "import pandas as pd\n",
    "from datetime import datetime"
   ]
  },
  {
   "cell_type": "code",
   "execution_count": null,
   "id": "ad35d7c6",
   "metadata": {
    "ExecuteTime": {
     "end_time": "2022-05-05T21:00:15.756132Z",
     "start_time": "2022-05-05T21:00:15.026510Z"
    }
   },
   "outputs": [],
   "source": [
    "df1 = pd.read_csv(\"/Users/francoismizrahi/Documents/LBS/Courses/London Lab/data/clean_tweets/clean_eng_facebook_data_2018-04-01_2018-05-01.csv\")\n",
    "df2 = pd.read_csv(\"/Users/francoismizrahi/Documents/LBS/Courses/London Lab/data/clean_tweets/clean_eng_facebook_data_2018-05-01_2018-05-31.csv\")\n",
    "df3 = pd.read_csv(\"/Users/francoismizrahi/Documents/LBS/Courses/London Lab/data/clean_tweets/clean_eng_facebook_data_2018-05-31_2018-06-30.csv\")\n",
    "df4 = pd.read_csv(\"/Users/francoismizrahi/Documents/LBS/Courses/London Lab/data/clean_tweets/clean_eng_facebook_data_2018-06-30_2018-07-30.csv\")\n",
    "df5 = pd.read_csv(\"/Users/francoismizrahi/Documents/LBS/Courses/London Lab/data/clean_tweets/clean_eng_facebook_data_2018-07-30_2018-08-01.csv\")\n"
   ]
  },
  {
   "cell_type": "code",
   "execution_count": null,
   "id": "daaa074c",
   "metadata": {
    "ExecuteTime": {
     "end_time": "2022-05-05T21:00:20.719801Z",
     "start_time": "2022-05-05T21:00:20.662719Z"
    }
   },
   "outputs": [],
   "source": [
    "df = pd.concat([df1, df2, df3, df4, df5])"
   ]
  },
  {
   "cell_type": "code",
   "execution_count": null,
   "id": "811ee498",
   "metadata": {
    "ExecuteTime": {
     "end_time": "2022-05-05T21:00:24.646861Z",
     "start_time": "2022-05-05T21:00:24.096994Z"
    }
   },
   "outputs": [],
   "source": [
    "df.drop_duplicates(subset=['Tweet Id'], inplace=True)\n",
    "df.sort_values(by=['Datetime'], inplace = True)\n",
    "df = df.reset_index().drop(columns=[\"index\", \"Unnamed: 0\", \"Unnamed: 0.1\"])\n",
    "df['week'] = pd.to_datetime(df['Datetime']).dt.isocalendar().week "
   ]
  },
  {
   "cell_type": "code",
   "execution_count": null,
   "id": "097faa53",
   "metadata": {
    "ExecuteTime": {
     "end_time": "2022-05-05T21:00:25.171415Z",
     "start_time": "2022-05-05T21:00:25.145172Z"
    }
   },
   "outputs": [],
   "source": [
    "df.head()"
   ]
  },
  {
   "cell_type": "code",
   "execution_count": null,
   "id": "77cc0e5b",
   "metadata": {
    "ExecuteTime": {
     "end_time": "2022-05-05T21:00:26.587161Z",
     "start_time": "2022-05-05T21:00:26.549104Z"
    }
   },
   "outputs": [],
   "source": [
    "df_group_week = df.groupby(['week']).mean()"
   ]
  },
  {
   "cell_type": "code",
   "execution_count": null,
   "id": "08fdf0e4",
   "metadata": {
    "ExecuteTime": {
     "end_time": "2022-05-05T21:00:28.333857Z",
     "start_time": "2022-05-05T21:00:27.875031Z"
    }
   },
   "outputs": [],
   "source": [
    "# libraries\n",
    "import matplotlib.pyplot as plt\n",
    "\n",
    "# plot\n",
    "plt.plot(df_group_week.score)"
   ]
  },
  {
   "cell_type": "code",
   "execution_count": null,
   "id": "811472db",
   "metadata": {
    "ExecuteTime": {
     "end_time": "2022-05-05T20:24:01.806605Z",
     "start_time": "2022-05-05T20:24:01.786711Z"
    }
   },
   "outputs": [],
   "source": [
    "df.rolling(10000).mean().score[10000:]"
   ]
  },
  {
   "cell_type": "code",
   "execution_count": null,
   "id": "c97ee052",
   "metadata": {
    "ExecuteTime": {
     "end_time": "2022-05-05T19:25:42.130194Z",
     "start_time": "2022-05-05T19:25:42.121211Z"
    }
   },
   "outputs": [],
   "source": [
    "len(df1)"
   ]
  },
  {
   "cell_type": "code",
   "execution_count": null,
   "id": "daddb4b3",
   "metadata": {},
   "outputs": [],
   "source": []
  }
 ],
 "metadata": {
  "kernelspec": {
   "display_name": "Python 3",
   "language": "python",
   "name": "python3"
  },
  "language_info": {
   "codemirror_mode": {
    "name": "ipython",
    "version": 3
   },
   "file_extension": ".py",
   "mimetype": "text/x-python",
   "name": "python",
   "nbconvert_exporter": "python",
   "pygments_lexer": "ipython3",
   "version": "3.7.10"
  },
  "toc": {
   "base_numbering": 1,
   "nav_menu": {},
   "number_sections": true,
   "sideBar": true,
   "skip_h1_title": false,
   "title_cell": "Table of Contents",
   "title_sidebar": "Contents",
   "toc_cell": false,
   "toc_position": {},
   "toc_section_display": true,
   "toc_window_display": false
  },
  "varInspector": {
   "cols": {
    "lenName": 16,
    "lenType": 16,
    "lenVar": 40
   },
   "kernels_config": {
    "python": {
     "delete_cmd_postfix": "",
     "delete_cmd_prefix": "del ",
     "library": "var_list.py",
     "varRefreshCmd": "print(var_dic_list())"
    },
    "r": {
     "delete_cmd_postfix": ") ",
     "delete_cmd_prefix": "rm(",
     "library": "var_list.r",
     "varRefreshCmd": "cat(var_dic_list()) "
    }
   },
   "types_to_exclude": [
    "module",
    "function",
    "builtin_function_or_method",
    "instance",
    "_Feature"
   ],
   "window_display": false
  }
 },
 "nbformat": 4,
 "nbformat_minor": 5
}

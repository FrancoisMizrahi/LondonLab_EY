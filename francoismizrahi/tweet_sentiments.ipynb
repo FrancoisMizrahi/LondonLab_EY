{
 "cells": [
  {
   "cell_type": "code",
   "execution_count": null,
   "id": "42cc46bc",
   "metadata": {
    "ExecuteTime": {
     "end_time": "2022-05-04T21:27:57.167491Z",
     "start_time": "2022-05-04T21:27:57.162776Z"
    }
   },
   "outputs": [],
   "source": [
    "import pandas as pd\n",
    "from datetime import datetime"
   ]
  },
  {
   "cell_type": "code",
   "execution_count": null,
   "id": "ad35d7c6",
   "metadata": {
    "ExecuteTime": {
     "end_time": "2022-05-04T21:39:25.262803Z",
     "start_time": "2022-05-04T21:39:25.144001Z"
    }
   },
   "outputs": [],
   "source": [
    "df = pd.read_csv(\"/Users/francoismizrahi/Documents/LBS/Courses/London Lab/data/clean_tweets/clean_eng_facebook_data_2018-06-30_2018-07-30.csv\")\n"
   ]
  },
  {
   "cell_type": "code",
   "execution_count": null,
   "id": "daaa074c",
   "metadata": {
    "ExecuteTime": {
     "end_time": "2022-05-04T21:39:25.772161Z",
     "start_time": "2022-05-04T21:39:25.755953Z"
    }
   },
   "outputs": [],
   "source": [
    "df.head()"
   ]
  },
  {
   "cell_type": "code",
   "execution_count": null,
   "id": "ebb1f16c",
   "metadata": {
    "ExecuteTime": {
     "end_time": "2022-05-04T21:44:53.363658Z",
     "start_time": "2022-05-04T21:44:53.315610Z"
    }
   },
   "outputs": [],
   "source": [
    "pd.to_datetime(df['Datetime']).dt.isocalendar().week"
   ]
  },
  {
   "cell_type": "code",
   "execution_count": null,
   "id": "0eb6814e",
   "metadata": {
    "ExecuteTime": {
     "end_time": "2022-05-04T21:46:40.646854Z",
     "start_time": "2022-05-04T21:46:40.606653Z"
    }
   },
   "outputs": [],
   "source": [
    "df['Date'] = pd.to_datetime(df['Datetime']).dt.date"
   ]
  },
  {
   "cell_type": "code",
   "execution_count": null,
   "id": "1ca50cb5",
   "metadata": {
    "ExecuteTime": {
     "end_time": "2022-05-04T21:46:40.941216Z",
     "start_time": "2022-05-04T21:46:40.930050Z"
    }
   },
   "outputs": [],
   "source": [
    "df[\"Date\"].unique()"
   ]
  },
  {
   "cell_type": "code",
   "execution_count": null,
   "id": "77cc0e5b",
   "metadata": {
    "ExecuteTime": {
     "end_time": "2022-05-04T21:46:41.469506Z",
     "start_time": "2022-05-04T21:46:41.446400Z"
    }
   },
   "outputs": [],
   "source": [
    "group_df = df.groupby(['Date']).mean()"
   ]
  },
  {
   "cell_type": "code",
   "execution_count": null,
   "id": "08fdf0e4",
   "metadata": {
    "ExecuteTime": {
     "end_time": "2022-05-04T21:46:42.142307Z",
     "start_time": "2022-05-04T21:46:41.979437Z"
    }
   },
   "outputs": [],
   "source": [
    "# libraries\n",
    "import matplotlib.pyplot as plt\n",
    "\n",
    "# plot\n",
    "plt.plot(group_df.score)"
   ]
  },
  {
   "cell_type": "code",
   "execution_count": null,
   "id": "811472db",
   "metadata": {},
   "outputs": [],
   "source": []
  }
 ],
 "metadata": {
  "kernelspec": {
   "display_name": "Python 3",
   "language": "python",
   "name": "python3"
  },
  "language_info": {
   "codemirror_mode": {
    "name": "ipython",
    "version": 3
   },
   "file_extension": ".py",
   "mimetype": "text/x-python",
   "name": "python",
   "nbconvert_exporter": "python",
   "pygments_lexer": "ipython3",
   "version": "3.7.10"
  },
  "toc": {
   "base_numbering": 1,
   "nav_menu": {},
   "number_sections": true,
   "sideBar": true,
   "skip_h1_title": false,
   "title_cell": "Table of Contents",
   "title_sidebar": "Contents",
   "toc_cell": false,
   "toc_position": {},
   "toc_section_display": true,
   "toc_window_display": false
  },
  "varInspector": {
   "cols": {
    "lenName": 16,
    "lenType": 16,
    "lenVar": 40
   },
   "kernels_config": {
    "python": {
     "delete_cmd_postfix": "",
     "delete_cmd_prefix": "del ",
     "library": "var_list.py",
     "varRefreshCmd": "print(var_dic_list())"
    },
    "r": {
     "delete_cmd_postfix": ") ",
     "delete_cmd_prefix": "rm(",
     "library": "var_list.r",
     "varRefreshCmd": "cat(var_dic_list()) "
    }
   },
   "types_to_exclude": [
    "module",
    "function",
    "builtin_function_or_method",
    "instance",
    "_Feature"
   ],
   "window_display": false
  }
 },
 "nbformat": 4,
 "nbformat_minor": 5
}

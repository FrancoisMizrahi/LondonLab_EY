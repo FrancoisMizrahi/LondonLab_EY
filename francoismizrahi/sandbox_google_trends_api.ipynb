{
 "cells": [
  {
   "cell_type": "code",
   "execution_count": 1,
   "id": "8ed930af",
   "metadata": {
    "ExecuteTime": {
     "end_time": "2022-04-21T16:52:07.011340Z",
     "start_time": "2022-04-21T16:52:02.783077Z"
    }
   },
   "outputs": [
    {
     "name": "stdout",
     "output_type": "stream",
     "text": [
      "Collecting pytrends\n",
      "  Downloading pytrends-4.8.0.tar.gz (19 kB)\n",
      "Requirement already satisfied: requests>=2.0 in /Users/francoismizrahi/opt/anaconda3/lib/python3.7/site-packages (from pytrends) (2.27.1)\n",
      "Requirement already satisfied: pandas>=0.25 in /Users/francoismizrahi/opt/anaconda3/lib/python3.7/site-packages (from pytrends) (1.3.5)\n",
      "Requirement already satisfied: lxml in /Users/francoismizrahi/opt/anaconda3/lib/python3.7/site-packages (from pytrends) (4.6.3)\n",
      "Requirement already satisfied: pytz>=2017.3 in /Users/francoismizrahi/opt/anaconda3/lib/python3.7/site-packages (from pandas>=0.25->pytrends) (2021.3)\n",
      "Requirement already satisfied: python-dateutil>=2.7.3 in /Users/francoismizrahi/opt/anaconda3/lib/python3.7/site-packages (from pandas>=0.25->pytrends) (2.8.2)\n",
      "Requirement already satisfied: numpy>=1.17.3 in /Users/francoismizrahi/opt/anaconda3/lib/python3.7/site-packages (from pandas>=0.25->pytrends) (1.21.5)\n",
      "Requirement already satisfied: six>=1.5 in /Users/francoismizrahi/opt/anaconda3/lib/python3.7/site-packages (from python-dateutil>=2.7.3->pandas>=0.25->pytrends) (1.16.0)\n",
      "Requirement already satisfied: urllib3<1.27,>=1.21.1 in /Users/francoismizrahi/opt/anaconda3/lib/python3.7/site-packages (from requests>=2.0->pytrends) (1.26.8)\n",
      "Requirement already satisfied: certifi>=2017.4.17 in /Users/francoismizrahi/opt/anaconda3/lib/python3.7/site-packages (from requests>=2.0->pytrends) (2021.10.8)\n",
      "Requirement already satisfied: idna<4,>=2.5 in /Users/francoismizrahi/opt/anaconda3/lib/python3.7/site-packages (from requests>=2.0->pytrends) (3.3)\n",
      "Requirement already satisfied: charset-normalizer~=2.0.0 in /Users/francoismizrahi/opt/anaconda3/lib/python3.7/site-packages (from requests>=2.0->pytrends) (2.0.11)\n",
      "Building wheels for collected packages: pytrends\n",
      "  Building wheel for pytrends (setup.py) ... \u001b[?25ldone\n",
      "\u001b[?25h  Created wheel for pytrends: filename=pytrends-4.8.0-py3-none-any.whl size=16126 sha256=9f043e9c513637606b5b088c42f046921bbb1aa4455c7316412a30639a503c14\n",
      "  Stored in directory: /Users/francoismizrahi/Library/Caches/pip/wheels/07/6f/5c/8174f98dec1bfbc7d5da4092854afcbcff4b26c3d9b66b5183\n",
      "Successfully built pytrends\n",
      "Installing collected packages: pytrends\n",
      "Successfully installed pytrends-4.8.0\n"
     ]
    }
   ],
   "source": [
    "!pip install pytrends"
   ]
  },
  {
   "cell_type": "code",
   "execution_count": 2,
   "id": "f96f173a",
   "metadata": {
    "ExecuteTime": {
     "end_time": "2022-04-21T17:08:42.804184Z",
     "start_time": "2022-04-21T17:08:41.951624Z"
    }
   },
   "outputs": [],
   "source": [
    "import pandas as pd"
   ]
  },
  {
   "cell_type": "code",
   "execution_count": 8,
   "id": "78df0c1b",
   "metadata": {
    "ExecuteTime": {
     "end_time": "2022-04-21T17:11:29.419419Z",
     "start_time": "2022-04-21T17:11:29.394513Z"
    }
   },
   "outputs": [],
   "source": [
    "df = pd.read_csv(\"../data/google_trends_gamestop.csv\")"
   ]
  },
  {
   "cell_type": "code",
   "execution_count": 25,
   "id": "6d876929",
   "metadata": {
    "ExecuteTime": {
     "end_time": "2022-04-21T17:16:31.176734Z",
     "start_time": "2022-04-21T17:16:31.172277Z"
    }
   },
   "outputs": [],
   "source": [
    "df = df.iloc[1:]"
   ]
  },
  {
   "cell_type": "code",
   "execution_count": 26,
   "id": "5976cd75",
   "metadata": {
    "ExecuteTime": {
     "end_time": "2022-04-21T17:16:42.642587Z",
     "start_time": "2022-04-21T17:16:42.638335Z"
    }
   },
   "outputs": [],
   "source": [
    "df.columns = ['values']"
   ]
  },
  {
   "cell_type": "code",
   "execution_count": 27,
   "id": "02b7321a",
   "metadata": {
    "ExecuteTime": {
     "end_time": "2022-04-21T17:16:44.207044Z",
     "start_time": "2022-04-21T17:16:44.198497Z"
    }
   },
   "outputs": [
    {
     "data": {
      "text/plain": [
       "array(['1', '0', '<\\xa01', '2', '3', '4', '5', '6', '7', '9', '8', '100',\n",
       "       '69', '29', '15', '12', '14'], dtype=object)"
      ]
     },
     "execution_count": 27,
     "metadata": {},
     "output_type": "execute_result"
    }
   ],
   "source": [
    "df[\"values\"].unique()"
   ]
  },
  {
   "cell_type": "code",
   "execution_count": 28,
   "id": "cc516d33",
   "metadata": {
    "ExecuteTime": {
     "end_time": "2022-04-21T17:17:25.494211Z",
     "start_time": "2022-04-21T17:17:25.487292Z"
    }
   },
   "outputs": [
    {
     "data": {
      "text/plain": [
       "220"
      ]
     },
     "execution_count": 28,
     "metadata": {},
     "output_type": "execute_result"
    }
   ],
   "source": [
    "len(df)"
   ]
  },
  {
   "cell_type": "code",
   "execution_count": null,
   "id": "cc914c6d",
   "metadata": {},
   "outputs": [],
   "source": []
  },
  {
   "cell_type": "code",
   "execution_count": null,
   "id": "713b0b40",
   "metadata": {},
   "outputs": [],
   "source": []
  },
  {
   "cell_type": "code",
   "execution_count": null,
   "id": "46f72874",
   "metadata": {},
   "outputs": [],
   "source": []
  },
  {
   "cell_type": "code",
   "execution_count": null,
   "id": "e3434cb1",
   "metadata": {},
   "outputs": [],
   "source": []
  },
  {
   "cell_type": "code",
   "execution_count": null,
   "id": "796ffc07",
   "metadata": {},
   "outputs": [],
   "source": []
  }
 ],
 "metadata": {
  "kernelspec": {
   "display_name": "Python 3",
   "language": "python",
   "name": "python3"
  },
  "language_info": {
   "codemirror_mode": {
    "name": "ipython",
    "version": 3
   },
   "file_extension": ".py",
   "mimetype": "text/x-python",
   "name": "python",
   "nbconvert_exporter": "python",
   "pygments_lexer": "ipython3",
   "version": "3.7.10"
  },
  "toc": {
   "base_numbering": 1,
   "nav_menu": {},
   "number_sections": true,
   "sideBar": true,
   "skip_h1_title": false,
   "title_cell": "Table of Contents",
   "title_sidebar": "Contents",
   "toc_cell": false,
   "toc_position": {},
   "toc_section_display": true,
   "toc_window_display": false
  },
  "varInspector": {
   "cols": {
    "lenName": 16,
    "lenType": 16,
    "lenVar": 40
   },
   "kernels_config": {
    "python": {
     "delete_cmd_postfix": "",
     "delete_cmd_prefix": "del ",
     "library": "var_list.py",
     "varRefreshCmd": "print(var_dic_list())"
    },
    "r": {
     "delete_cmd_postfix": ") ",
     "delete_cmd_prefix": "rm(",
     "library": "var_list.r",
     "varRefreshCmd": "cat(var_dic_list()) "
    }
   },
   "types_to_exclude": [
    "module",
    "function",
    "builtin_function_or_method",
    "instance",
    "_Feature"
   ],
   "window_display": false
  }
 },
 "nbformat": 4,
 "nbformat_minor": 5
}

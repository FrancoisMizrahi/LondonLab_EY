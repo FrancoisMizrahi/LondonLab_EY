{
 "cells": [
  {
   "cell_type": "markdown",
   "id": "6951d4f4",
   "metadata": {},
   "source": [
    "# Libraries"
   ]
  },
  {
   "cell_type": "code",
   "execution_count": null,
   "id": "175f379e",
   "metadata": {
    "ExecuteTime": {
     "end_time": "2022-06-06T12:56:15.938931Z",
     "start_time": "2022-06-06T12:55:56.511106Z"
    }
   },
   "outputs": [],
   "source": [
    "# DataFrame\n",
    "import pandas as pd\n",
    "\n",
    "# Matplot\n",
    "import matplotlib.pyplot as plt\n",
    "%matplotlib inline\n",
    "\n",
    "# Scikit-learn\n",
    "from sklearn.model_selection import train_test_split\n",
    "from sklearn.preprocessing import LabelEncoder\n",
    "from sklearn.metrics import confusion_matrix, classification_report, accuracy_score\n",
    "from sklearn.manifold import TSNE\n",
    "from sklearn.feature_extraction.text import TfidfVectorizer\n",
    "\n",
    "# Keras\n",
    "from keras.preprocessing.text import Tokenizer\n",
    "from keras.preprocessing.sequence import pad_sequences\n",
    "from keras.models import Sequential\n",
    "from keras.layers import Activation, Dense, Dropout, Embedding, Flatten, Conv1D, MaxPooling1D, LSTM\n",
    "from keras import utils\n",
    "from keras.callbacks import ReduceLROnPlateau, EarlyStopping\n",
    "\n",
    "# nltk\n",
    "import nltk\n",
    "from nltk.corpus import stopwords\n",
    "from  nltk.stem import SnowballStemmer\n",
    "\n",
    "# Word2vec\n",
    "import gensim\n",
    "\n",
    "# Utility\n",
    "import re\n",
    "import numpy as np\n",
    "import os\n",
    "from collections import Counter\n",
    "import logging\n",
    "import time\n",
    "import pickle\n",
    "import itertools\n",
    "\n",
    "# Set log\n",
    "logging.basicConfig(format='%(asctime)s : %(levelname)s : %(message)s', level=logging.INFO)"
   ]
  },
  {
   "cell_type": "markdown",
   "id": "29a17122",
   "metadata": {},
   "source": [
    "# Settings"
   ]
  },
  {
   "cell_type": "code",
   "execution_count": null,
   "id": "efb579b6",
   "metadata": {
    "ExecuteTime": {
     "end_time": "2022-06-06T12:56:16.025150Z",
     "start_time": "2022-06-06T12:56:15.960719Z"
    }
   },
   "outputs": [],
   "source": [
    "nltk.download('stopwords')"
   ]
  },
  {
   "cell_type": "code",
   "execution_count": null,
   "id": "84e9499e",
   "metadata": {
    "ExecuteTime": {
     "end_time": "2022-06-06T12:56:16.040159Z",
     "start_time": "2022-06-06T12:56:16.036420Z"
    }
   },
   "outputs": [],
   "source": [
    "# DATASET\n",
    "DATASET_COLUMNS = [\"target\", \"ids\", \"date\", \"flag\", \"user\", \"text\"]\n",
    "DATASET_ENCODING = \"ISO-8859-1\"\n",
    "TRAIN_SIZE = 0.8\n",
    "\n",
    "# TEXT CLENAING\n",
    "TEXT_CLEANING_RE = \"@\\S+|https?:\\S+|http?:\\S|[^A-Za-z0-9]+\"\n",
    "\n",
    "# WORD2VEC \n",
    "W2V_SIZE = 300\n",
    "W2V_WINDOW = 7\n",
    "W2V_EPOCH = 32\n",
    "W2V_MIN_COUNT = 10\n",
    "\n",
    "# KERAS\n",
    "SEQUENCE_LENGTH = 300\n",
    "EPOCHS = 8\n",
    "BATCH_SIZE = 1024\n",
    "\n",
    "# SENTIMENT\n",
    "POSITIVE = \"POSITIVE\"\n",
    "NEGATIVE = \"NEGATIVE\"\n",
    "NEUTRAL = \"NEUTRAL\"\n",
    "SENTIMENT_THRESHOLDS = (0.4, 0.7)\n",
    "\n",
    "# EXPORT\n",
    "KERAS_MODEL = \"model.h5\"\n",
    "WORD2VEC_MODEL = \"model.w2v\"\n",
    "TOKENIZER_MODEL = \"tokenizer.pkl\"\n",
    "ENCODER_MODEL = \"encoder.pkl\""
   ]
  },
  {
   "cell_type": "markdown",
   "id": "11819d6e",
   "metadata": {},
   "source": [
    "# Read Dataset"
   ]
  },
  {
   "cell_type": "code",
   "execution_count": null,
   "id": "212cff5b",
   "metadata": {
    "ExecuteTime": {
     "end_time": "2022-06-06T12:56:18.818694Z",
     "start_time": "2022-06-06T12:56:16.053542Z"
    }
   },
   "outputs": [],
   "source": [
    "# Load the data in a dataframe\n",
    "df = pd.read_csv(\"../data/training.1600000.processed.noemoticon.csv\", \n",
    "                 encoding=DATASET_ENCODING,\n",
    "                 names=DATASET_COLUMNS)"
   ]
  },
  {
   "cell_type": "code",
   "execution_count": null,
   "id": "11c80c74",
   "metadata": {
    "ExecuteTime": {
     "end_time": "2022-06-06T12:56:18.860999Z",
     "start_time": "2022-06-06T12:56:18.852003Z"
    }
   },
   "outputs": [],
   "source": [
    "df.head()"
   ]
  },
  {
   "cell_type": "code",
   "execution_count": null,
   "id": "7221cd3b",
   "metadata": {
    "ExecuteTime": {
     "end_time": "2022-06-06T12:56:18.882455Z",
     "start_time": "2022-06-06T12:56:18.879494Z"
    }
   },
   "outputs": [],
   "source": [
    "# Create function to change target values from interger to words\n",
    "decode_map = {0: \"NEGATIVE\", 2: \"NEUTRAL\", 4: \"POSITIVE\"}\n",
    "def decode_sentiment(label):\n",
    "    return decode_map[int(label)]"
   ]
  },
  {
   "cell_type": "code",
   "execution_count": null,
   "id": "575fdc3f",
   "metadata": {
    "ExecuteTime": {
     "end_time": "2022-06-06T12:56:34.549614Z",
     "start_time": "2022-06-06T12:56:34.139503Z"
    }
   },
   "outputs": [],
   "source": [
    "# Print time used to apply the function\n",
    "#%%time\n",
    "\n",
    "# Apply the function to change target values\n",
    "df.target = df.target.apply(lambda x: decode_sentiment(x))"
   ]
  },
  {
   "cell_type": "code",
   "execution_count": null,
   "id": "8cbcc9a8",
   "metadata": {
    "ExecuteTime": {
     "end_time": "2022-06-06T12:56:36.052997Z",
     "start_time": "2022-06-06T12:56:35.740538Z"
    }
   },
   "outputs": [],
   "source": [
    "# Display target values proportion\n",
    "target_cnt = Counter(df.target)\n",
    "\n",
    "plt.figure(figsize=(16,8))\n",
    "plt.bar(target_cnt.keys(), target_cnt.values())\n",
    "plt.title(\"Dataset labels distribuition\")"
   ]
  },
  {
   "cell_type": "markdown",
   "id": "53692e0d",
   "metadata": {},
   "source": [
    "We can see that there is no neutral tweets"
   ]
  },
  {
   "cell_type": "markdown",
   "id": "209fc55e",
   "metadata": {},
   "source": [
    "# Pre-Process dataset"
   ]
  },
  {
   "cell_type": "code",
   "execution_count": null,
   "id": "0bfe1d40",
   "metadata": {
    "ExecuteTime": {
     "end_time": "2022-06-06T12:56:37.641034Z",
     "start_time": "2022-06-06T12:56:37.635039Z"
    }
   },
   "outputs": [],
   "source": [
    "# Stop words are filler words that are not supposed to add values to the sentence\n",
    "stop_words = stopwords.words(\"english\")\n",
    "\n",
    "# Stemmer allows to only go back to the root of the words\n",
    "stemmer = SnowballStemmer(\"english\")"
   ]
  },
  {
   "cell_type": "code",
   "execution_count": null,
   "id": "c9201d08",
   "metadata": {
    "ExecuteTime": {
     "end_time": "2022-06-06T12:56:38.222003Z",
     "start_time": "2022-06-06T12:56:38.215599Z"
    }
   },
   "outputs": [],
   "source": [
    "# Create a function to clean text\n",
    "# We use the regular expression defined in settings\n",
    "# We leave the option to use the stemmer or not\n",
    "\n",
    "def preprocess(text, stem=False):\n",
    "    # Remove link,user and special characters\n",
    "    text = re.sub(TEXT_CLEANING_RE, ' ', str(text).lower()).strip()\n",
    "    tokens = []\n",
    "    for token in text.split():\n",
    "        if token not in stop_words:\n",
    "            if stem:\n",
    "                tokens.append(stemmer.stem(token))\n",
    "            else:\n",
    "                tokens.append(token)\n",
    "    return \" \".join(tokens)"
   ]
  },
  {
   "cell_type": "code",
   "execution_count": null,
   "id": "2058454d",
   "metadata": {
    "ExecuteTime": {
     "end_time": "2022-06-06T12:57:21.455875Z",
     "start_time": "2022-06-06T12:56:38.889982Z"
    }
   },
   "outputs": [],
   "source": [
    "%%time\n",
    "df.text = df.text.apply(lambda x: preprocess(x))"
   ]
  },
  {
   "cell_type": "markdown",
   "id": "38f20ba3",
   "metadata": {},
   "source": [
    "# Split train and test"
   ]
  },
  {
   "cell_type": "code",
   "execution_count": null,
   "id": "f5786ff3",
   "metadata": {
    "ExecuteTime": {
     "end_time": "2022-06-06T12:57:22.005193Z",
     "start_time": "2022-06-06T12:57:21.486665Z"
    }
   },
   "outputs": [],
   "source": [
    "df_train, df_test = train_test_split(df, test_size=1-TRAIN_SIZE, random_state=42)"
   ]
  },
  {
   "cell_type": "code",
   "execution_count": null,
   "id": "d49f3b06",
   "metadata": {
    "ExecuteTime": {
     "end_time": "2022-06-06T12:57:22.054079Z",
     "start_time": "2022-06-06T12:57:22.049908Z"
    }
   },
   "outputs": [],
   "source": [
    "print(\"Train size:\", len(df_train))\n",
    "print(\"Test size:\", len(df_test))"
   ]
  },
  {
   "cell_type": "markdown",
   "id": "05e32c68",
   "metadata": {},
   "source": [
    "# Word2Vec"
   ]
  },
  {
   "cell_type": "code",
   "execution_count": null,
   "id": "24366eba",
   "metadata": {
    "ExecuteTime": {
     "end_time": "2022-06-06T12:57:24.308711Z",
     "start_time": "2022-06-06T12:57:22.097453Z"
    }
   },
   "outputs": [],
   "source": [
    "#%%time\n",
    "documents = [_text.split() for _text in df_train.text]"
   ]
  },
  {
   "cell_type": "code",
   "execution_count": null,
   "id": "a12633a3",
   "metadata": {
    "ExecuteTime": {
     "end_time": "2022-06-06T12:58:30.381088Z",
     "start_time": "2022-06-06T12:58:30.365450Z"
    }
   },
   "outputs": [],
   "source": [
    "w2v_model = gensim.models.word2vec.Word2Vec(vector_size=W2V_SIZE, \n",
    "                                            window=W2V_WINDOW, \n",
    "                                            min_count=W2V_MIN_COUNT, \n",
    "                                            workers=8)"
   ]
  },
  {
   "cell_type": "code",
   "execution_count": null,
   "id": "a1455451",
   "metadata": {
    "ExecuteTime": {
     "end_time": "2022-06-06T12:57:26.919214Z",
     "start_time": "2022-06-06T12:56:50.900Z"
    }
   },
   "outputs": [],
   "source": [
    "%%time\n",
    "w2v_model.build_vocab(documents)"
   ]
  },
  {
   "cell_type": "code",
   "execution_count": null,
   "id": "4ad1bf81",
   "metadata": {
    "ExecuteTime": {
     "end_time": "2022-06-06T12:56:18.969658Z",
     "start_time": "2022-06-06T12:56:08.550Z"
    }
   },
   "outputs": [],
   "source": [
    "words = w2v_model.wv.key_to_index.keys()\n",
    "vocab_size = len(words)\n",
    "print(\"Vocab size\", vocab_size)"
   ]
  },
  {
   "cell_type": "code",
   "execution_count": null,
   "id": "699aecba",
   "metadata": {
    "ExecuteTime": {
     "end_time": "2022-06-06T12:56:18.974554Z",
     "start_time": "2022-06-06T12:56:09.113Z"
    }
   },
   "outputs": [],
   "source": [
    "%%time\n",
    "w2v_model.train(documents, total_examples=len(documents), epochs=W2V_EPOCH)"
   ]
  },
  {
   "cell_type": "code",
   "execution_count": null,
   "id": "ea1b58e2",
   "metadata": {
    "ExecuteTime": {
     "end_time": "2022-06-06T12:56:18.978939Z",
     "start_time": "2022-06-06T12:56:10.057Z"
    }
   },
   "outputs": [],
   "source": [
    "w2v_model.wv.most_similar(\"hate\")"
   ]
  },
  {
   "cell_type": "markdown",
   "id": "af8db8f2",
   "metadata": {},
   "source": [
    "# Tokenize Text"
   ]
  },
  {
   "cell_type": "code",
   "execution_count": null,
   "id": "2324e682",
   "metadata": {
    "ExecuteTime": {
     "end_time": "2022-04-18T12:57:52.366640Z",
     "start_time": "2022-04-18T12:57:34.761719Z"
    }
   },
   "outputs": [],
   "source": [
    "%%time\n",
    "tokenizer = Tokenizer()\n",
    "tokenizer.fit_on_texts(df_train.text)\n",
    "\n",
    "vocab_size = len(tokenizer.word_index) + 1\n",
    "print(\"Total words\", vocab_size)"
   ]
  },
  {
   "cell_type": "code",
   "execution_count": null,
   "id": "7a65db05",
   "metadata": {
    "ExecuteTime": {
     "end_time": "2022-04-18T12:58:14.642404Z",
     "start_time": "2022-04-18T12:57:54.253305Z"
    }
   },
   "outputs": [],
   "source": [
    "%%time\n",
    "x_train = pad_sequences(tokenizer.texts_to_sequences(df_train.text), maxlen=SEQUENCE_LENGTH)\n",
    "x_test = pad_sequences(tokenizer.texts_to_sequences(df_test.text), maxlen=SEQUENCE_LENGTH)"
   ]
  },
  {
   "cell_type": "markdown",
   "id": "4e8a7fcf",
   "metadata": {},
   "source": [
    "# Label Encoder"
   ]
  },
  {
   "cell_type": "code",
   "execution_count": null,
   "id": "bf98354a",
   "metadata": {
    "ExecuteTime": {
     "end_time": "2022-04-18T12:58:41.460491Z",
     "start_time": "2022-04-18T12:58:41.391177Z"
    }
   },
   "outputs": [],
   "source": [
    "labels = df_train.target.unique().tolist()\n",
    "labels.append(NEUTRAL)\n",
    "labels"
   ]
  },
  {
   "cell_type": "code",
   "execution_count": null,
   "id": "3aa4e667",
   "metadata": {
    "ExecuteTime": {
     "end_time": "2022-04-18T12:59:21.745832Z",
     "start_time": "2022-04-18T12:59:20.463013Z"
    }
   },
   "outputs": [],
   "source": [
    "encoder = LabelEncoder()\n",
    "encoder.fit(df_train.target.tolist())\n",
    "\n",
    "y_train = encoder.transform(df_train.target.tolist())\n",
    "y_test = encoder.transform(df_test.target.tolist())\n",
    "\n",
    "y_train = y_train.reshape(-1,1)\n",
    "y_test = y_test.reshape(-1,1)\n",
    "\n",
    "print(\"y_train\",y_train.shape)\n",
    "print(\"y_test\",y_test.shape)"
   ]
  },
  {
   "cell_type": "code",
   "execution_count": null,
   "id": "7ed50bcc",
   "metadata": {
    "ExecuteTime": {
     "end_time": "2022-04-18T12:59:28.332842Z",
     "start_time": "2022-04-18T12:59:28.326606Z"
    }
   },
   "outputs": [],
   "source": [
    "print(\"x_train\", x_train.shape)\n",
    "print(\"y_train\", y_train.shape)\n",
    "print()\n",
    "print(\"x_test\", x_test.shape)\n",
    "print(\"y_test\", y_test.shape)"
   ]
  },
  {
   "cell_type": "markdown",
   "id": "6b34f811",
   "metadata": {},
   "source": [
    "# Embedding layer"
   ]
  },
  {
   "cell_type": "code",
   "execution_count": null,
   "id": "1265a126",
   "metadata": {
    "ExecuteTime": {
     "end_time": "2022-04-18T13:00:30.950264Z",
     "start_time": "2022-04-18T13:00:30.582484Z"
    }
   },
   "outputs": [],
   "source": [
    "embedding_matrix = np.zeros((vocab_size, W2V_SIZE))\n",
    "for word, i in tokenizer.word_index.items():\n",
    "    if word in w2v_model.wv:\n",
    "        embedding_matrix[i] = w2v_model.wv[word]\n",
    "print(embedding_matrix.shape)\n"
   ]
  },
  {
   "cell_type": "code",
   "execution_count": null,
   "id": "2a798390",
   "metadata": {
    "ExecuteTime": {
     "end_time": "2022-04-18T13:00:56.710885Z",
     "start_time": "2022-04-18T13:00:56.701250Z"
    }
   },
   "outputs": [],
   "source": [
    "embedding_layer = Embedding(vocab_size, \n",
    "                            W2V_SIZE, \n",
    "                            weights=[embedding_matrix], \n",
    "                            input_length=SEQUENCE_LENGTH, \n",
    "                            trainable=False)"
   ]
  },
  {
   "cell_type": "markdown",
   "id": "c9b88276",
   "metadata": {},
   "source": [
    "# Build Model"
   ]
  },
  {
   "cell_type": "code",
   "execution_count": null,
   "id": "05502f14",
   "metadata": {
    "ExecuteTime": {
     "end_time": "2022-04-18T13:01:39.106503Z",
     "start_time": "2022-04-18T13:01:37.963802Z"
    }
   },
   "outputs": [],
   "source": [
    "model = Sequential()\n",
    "model.add(embedding_layer)\n",
    "model.add(Dropout(0.5))\n",
    "model.add(LSTM(100, dropout=0.2, recurrent_dropout=0.2))\n",
    "model.add(Dense(1, activation='sigmoid'))\n",
    "\n",
    "model.summary()"
   ]
  },
  {
   "cell_type": "markdown",
   "id": "22809597",
   "metadata": {},
   "source": [
    "# Compile model"
   ]
  },
  {
   "cell_type": "code",
   "execution_count": null,
   "id": "9fb615e1",
   "metadata": {
    "ExecuteTime": {
     "end_time": "2022-04-18T13:02:04.348679Z",
     "start_time": "2022-04-18T13:02:04.331656Z"
    }
   },
   "outputs": [],
   "source": [
    "model.compile(loss='binary_crossentropy',\n",
    "              optimizer=\"adam\",\n",
    "              metrics=['accuracy'])"
   ]
  },
  {
   "cell_type": "markdown",
   "id": "08ecb1ae",
   "metadata": {},
   "source": [
    "# Callbacks"
   ]
  },
  {
   "cell_type": "code",
   "execution_count": null,
   "id": "3db6654c",
   "metadata": {
    "ExecuteTime": {
     "end_time": "2022-04-18T13:21:30.399370Z",
     "start_time": "2022-04-18T13:21:30.392936Z"
    }
   },
   "outputs": [],
   "source": [
    "callbacks = [ReduceLROnPlateau(monitor='val_loss', patience=5, cooldown=0),\n",
    "             EarlyStopping(monitor='val_accuracy', min_delta=1e-4, patience=5)]"
   ]
  },
  {
   "cell_type": "markdown",
   "id": "73da3247",
   "metadata": {},
   "source": [
    "# Train"
   ]
  },
  {
   "cell_type": "code",
   "execution_count": null,
   "id": "83965d04",
   "metadata": {
    "ExecuteTime": {
     "end_time": "2022-04-18T13:45:42.087947Z",
     "start_time": "2022-04-18T13:45:41.968060Z"
    }
   },
   "outputs": [],
   "source": [
    "%%time\n",
    "history = model.fit(x_train, y_train,\n",
    "                    batch_size=BATCH_SIZE,\n",
    "                    epochs=EPOCHS,\n",
    "                    validation_split=0.1,\n",
    "                    verbose=1,\n",
    "                    callbacks=callbacks)"
   ]
  },
  {
   "cell_type": "markdown",
   "id": "8961c226",
   "metadata": {},
   "source": [
    "# Application"
   ]
  },
  {
   "cell_type": "code",
   "execution_count": null,
   "id": "4246c58f",
   "metadata": {},
   "outputs": [],
   "source": [
    "def get_tweets_sentiment_analysis(self):\n",
    "        print(\"Getting Tweets...\")\n",
    "        tweets = self.TwitterApi.get_tweets(self.keyword, self.max_results)\n",
    "        sentiments = []\n",
    "        print(\"Getting Sentiments...\")\n",
    "        for tweet in tweets.data:\n",
    "            text = self.TextPreprocessing.preprocess(tweet[\"text\"], self.stem, self.keep_stop_words)\n",
    "            sentiment = self.SentimentAnalysis.predict(text, self.include_neutral)\n",
    "            sentiments.append(sentiment)\n",
    "        return sentiments"
   ]
  },
  {
   "cell_type": "code",
   "execution_count": null,
   "id": "85855032",
   "metadata": {},
   "outputs": [],
   "source": []
  }
 ],
 "metadata": {
  "kernelspec": {
   "display_name": "Python 3",
   "language": "python",
   "name": "python3"
  },
  "language_info": {
   "codemirror_mode": {
    "name": "ipython",
    "version": 3
   },
   "file_extension": ".py",
   "mimetype": "text/x-python",
   "name": "python",
   "nbconvert_exporter": "python",
   "pygments_lexer": "ipython3",
   "version": "3.7.10"
  },
  "toc": {
   "base_numbering": 1,
   "nav_menu": {},
   "number_sections": true,
   "sideBar": true,
   "skip_h1_title": false,
   "title_cell": "Table of Contents",
   "title_sidebar": "Contents",
   "toc_cell": false,
   "toc_position": {},
   "toc_section_display": true,
   "toc_window_display": true
  },
  "varInspector": {
   "cols": {
    "lenName": 16,
    "lenType": 16,
    "lenVar": 40
   },
   "kernels_config": {
    "python": {
     "delete_cmd_postfix": "",
     "delete_cmd_prefix": "del ",
     "library": "var_list.py",
     "varRefreshCmd": "print(var_dic_list())"
    },
    "r": {
     "delete_cmd_postfix": ") ",
     "delete_cmd_prefix": "rm(",
     "library": "var_list.r",
     "varRefreshCmd": "cat(var_dic_list()) "
    }
   },
   "position": {
    "height": "144.844px",
    "left": "938.091px",
    "right": "20px",
    "top": "120px",
    "width": "350px"
   },
   "types_to_exclude": [
    "module",
    "function",
    "builtin_function_or_method",
    "instance",
    "_Feature"
   ],
   "window_display": false
  }
 },
 "nbformat": 4,
 "nbformat_minor": 5
}

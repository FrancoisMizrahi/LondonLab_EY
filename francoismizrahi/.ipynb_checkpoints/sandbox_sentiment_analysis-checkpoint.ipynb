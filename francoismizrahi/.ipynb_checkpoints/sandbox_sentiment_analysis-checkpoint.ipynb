{
 "cells": [
  {
   "cell_type": "markdown",
   "id": "e132fb5d",
   "metadata": {},
   "source": [
    "# Libraries"
   ]
  },
  {
   "cell_type": "code",
   "execution_count": 1,
   "id": "7051e95c",
   "metadata": {
    "ExecuteTime": {
     "end_time": "2022-04-18T12:29:26.077314Z",
     "start_time": "2022-04-18T12:28:52.492191Z"
    }
   },
   "outputs": [],
   "source": [
    "# DataFrame\n",
    "import pandas as pd\n",
    "\n",
    "# Matplot\n",
    "import matplotlib.pyplot as plt\n",
    "%matplotlib inline\n",
    "\n",
    "# Scikit-learn\n",
    "from sklearn.model_selection import train_test_split\n",
    "from sklearn.preprocessing import LabelEncoder\n",
    "from sklearn.metrics import confusion_matrix, classification_report, accuracy_score\n",
    "from sklearn.manifold import TSNE\n",
    "from sklearn.feature_extraction.text import TfidfVectorizer\n",
    "\n",
    "# Keras\n",
    "from keras.preprocessing.text import Tokenizer\n",
    "from keras.preprocessing.sequence import pad_sequences\n",
    "from keras.models import Sequential\n",
    "from keras.layers import Activation, Dense, Dropout, Embedding, Flatten, Conv1D, MaxPooling1D, LSTM\n",
    "from keras import utils\n",
    "from keras.callbacks import ReduceLROnPlateau, EarlyStopping\n",
    "\n",
    "# nltk\n",
    "import nltk\n",
    "from nltk.corpus import stopwords\n",
    "from  nltk.stem import SnowballStemmer\n",
    "\n",
    "# Word2vec\n",
    "import gensim\n",
    "\n",
    "# Utility\n",
    "import re\n",
    "import numpy as np\n",
    "import os\n",
    "from collections import Counter\n",
    "import logging\n",
    "import time\n",
    "import pickle\n",
    "import itertools\n",
    "\n",
    "# Set log\n",
    "logging.basicConfig(format='%(asctime)s : %(levelname)s : %(message)s', level=logging.INFO)"
   ]
  },
  {
   "cell_type": "markdown",
   "id": "a62e25f9",
   "metadata": {},
   "source": [
    "# Settings"
   ]
  },
  {
   "cell_type": "code",
   "execution_count": 2,
   "id": "b95476d2",
   "metadata": {
    "ExecuteTime": {
     "end_time": "2022-04-18T12:30:22.345792Z",
     "start_time": "2022-04-18T12:30:22.249870Z"
    }
   },
   "outputs": [
    {
     "name": "stderr",
     "output_type": "stream",
     "text": [
      "[nltk_data] Downloading package stopwords to\n",
      "[nltk_data]     /Users/francoismizrahi/nltk_data...\n",
      "[nltk_data]   Package stopwords is already up-to-date!\n"
     ]
    },
    {
     "data": {
      "text/plain": [
       "True"
      ]
     },
     "execution_count": 2,
     "metadata": {},
     "output_type": "execute_result"
    }
   ],
   "source": [
    "nltk.download('stopwords')"
   ]
  },
  {
   "cell_type": "code",
   "execution_count": 3,
   "id": "bd83b527",
   "metadata": {
    "ExecuteTime": {
     "end_time": "2022-04-18T12:30:25.769239Z",
     "start_time": "2022-04-18T12:30:25.762108Z"
    }
   },
   "outputs": [],
   "source": [
    "# DATASET\n",
    "DATASET_COLUMNS = [\"target\", \"ids\", \"date\", \"flag\", \"user\", \"text\"]\n",
    "DATASET_ENCODING = \"ISO-8859-1\"\n",
    "TRAIN_SIZE = 0.8\n",
    "\n",
    "# TEXT CLENAING\n",
    "TEXT_CLEANING_RE = \"@\\S+|https?:\\S+|http?:\\S|[^A-Za-z0-9]+\"\n",
    "\n",
    "# WORD2VEC \n",
    "W2V_SIZE = 300\n",
    "W2V_WINDOW = 7\n",
    "W2V_EPOCH = 32\n",
    "W2V_MIN_COUNT = 10\n",
    "\n",
    "# KERAS\n",
    "SEQUENCE_LENGTH = 300\n",
    "EPOCHS = 8\n",
    "BATCH_SIZE = 1024\n",
    "\n",
    "# SENTIMENT\n",
    "POSITIVE = \"POSITIVE\"\n",
    "NEGATIVE = \"NEGATIVE\"\n",
    "NEUTRAL = \"NEUTRAL\"\n",
    "SENTIMENT_THRESHOLDS = (0.4, 0.7)\n",
    "\n",
    "# EXPORT\n",
    "KERAS_MODEL = \"model.h5\"\n",
    "WORD2VEC_MODEL = \"model.w2v\"\n",
    "TOKENIZER_MODEL = \"tokenizer.pkl\"\n",
    "ENCODER_MODEL = \"encoder.pkl\""
   ]
  },
  {
   "cell_type": "markdown",
   "id": "16163e9d",
   "metadata": {},
   "source": [
    "# Read Dataset"
   ]
  },
  {
   "cell_type": "code",
   "execution_count": 4,
   "id": "4031cc92",
   "metadata": {
    "ExecuteTime": {
     "end_time": "2022-04-18T12:32:16.827215Z",
     "start_time": "2022-04-18T12:32:13.674485Z"
    }
   },
   "outputs": [],
   "source": [
    "# Load the data in a dataframe\n",
    "df = pd.read_csv(\"../data/training.1600000.processed.noemoticon.csv\", \n",
    "                 encoding=DATASET_ENCODING,\n",
    "                 names=DATASET_COLUMNS)"
   ]
  },
  {
   "cell_type": "code",
   "execution_count": 6,
   "id": "4b2284fe",
   "metadata": {
    "ExecuteTime": {
     "end_time": "2022-04-18T12:32:47.670448Z",
     "start_time": "2022-04-18T12:32:47.656862Z"
    }
   },
   "outputs": [
    {
     "data": {
      "text/html": [
       "<div>\n",
       "<style scoped>\n",
       "    .dataframe tbody tr th:only-of-type {\n",
       "        vertical-align: middle;\n",
       "    }\n",
       "\n",
       "    .dataframe tbody tr th {\n",
       "        vertical-align: top;\n",
       "    }\n",
       "\n",
       "    .dataframe thead th {\n",
       "        text-align: right;\n",
       "    }\n",
       "</style>\n",
       "<table border=\"1\" class=\"dataframe\">\n",
       "  <thead>\n",
       "    <tr style=\"text-align: right;\">\n",
       "      <th></th>\n",
       "      <th>target</th>\n",
       "      <th>ids</th>\n",
       "      <th>date</th>\n",
       "      <th>flag</th>\n",
       "      <th>user</th>\n",
       "      <th>text</th>\n",
       "    </tr>\n",
       "  </thead>\n",
       "  <tbody>\n",
       "    <tr>\n",
       "      <th>0</th>\n",
       "      <td>0</td>\n",
       "      <td>1467810369</td>\n",
       "      <td>Mon Apr 06 22:19:45 PDT 2009</td>\n",
       "      <td>NO_QUERY</td>\n",
       "      <td>_TheSpecialOne_</td>\n",
       "      <td>@switchfoot http://twitpic.com/2y1zl - Awww, t...</td>\n",
       "    </tr>\n",
       "    <tr>\n",
       "      <th>1</th>\n",
       "      <td>0</td>\n",
       "      <td>1467810672</td>\n",
       "      <td>Mon Apr 06 22:19:49 PDT 2009</td>\n",
       "      <td>NO_QUERY</td>\n",
       "      <td>scotthamilton</td>\n",
       "      <td>is upset that he can't update his Facebook by ...</td>\n",
       "    </tr>\n",
       "    <tr>\n",
       "      <th>2</th>\n",
       "      <td>0</td>\n",
       "      <td>1467810917</td>\n",
       "      <td>Mon Apr 06 22:19:53 PDT 2009</td>\n",
       "      <td>NO_QUERY</td>\n",
       "      <td>mattycus</td>\n",
       "      <td>@Kenichan I dived many times for the ball. Man...</td>\n",
       "    </tr>\n",
       "    <tr>\n",
       "      <th>3</th>\n",
       "      <td>0</td>\n",
       "      <td>1467811184</td>\n",
       "      <td>Mon Apr 06 22:19:57 PDT 2009</td>\n",
       "      <td>NO_QUERY</td>\n",
       "      <td>ElleCTF</td>\n",
       "      <td>my whole body feels itchy and like its on fire</td>\n",
       "    </tr>\n",
       "    <tr>\n",
       "      <th>4</th>\n",
       "      <td>0</td>\n",
       "      <td>1467811193</td>\n",
       "      <td>Mon Apr 06 22:19:57 PDT 2009</td>\n",
       "      <td>NO_QUERY</td>\n",
       "      <td>Karoli</td>\n",
       "      <td>@nationwideclass no, it's not behaving at all....</td>\n",
       "    </tr>\n",
       "  </tbody>\n",
       "</table>\n",
       "</div>"
      ],
      "text/plain": [
       "   target         ids                          date      flag  \\\n",
       "0       0  1467810369  Mon Apr 06 22:19:45 PDT 2009  NO_QUERY   \n",
       "1       0  1467810672  Mon Apr 06 22:19:49 PDT 2009  NO_QUERY   \n",
       "2       0  1467810917  Mon Apr 06 22:19:53 PDT 2009  NO_QUERY   \n",
       "3       0  1467811184  Mon Apr 06 22:19:57 PDT 2009  NO_QUERY   \n",
       "4       0  1467811193  Mon Apr 06 22:19:57 PDT 2009  NO_QUERY   \n",
       "\n",
       "              user                                               text  \n",
       "0  _TheSpecialOne_  @switchfoot http://twitpic.com/2y1zl - Awww, t...  \n",
       "1    scotthamilton  is upset that he can't update his Facebook by ...  \n",
       "2         mattycus  @Kenichan I dived many times for the ball. Man...  \n",
       "3          ElleCTF    my whole body feels itchy and like its on fire   \n",
       "4           Karoli  @nationwideclass no, it's not behaving at all....  "
      ]
     },
     "execution_count": 6,
     "metadata": {},
     "output_type": "execute_result"
    }
   ],
   "source": [
    "df.head()"
   ]
  },
  {
   "cell_type": "code",
   "execution_count": 7,
   "id": "aa262f5f",
   "metadata": {
    "ExecuteTime": {
     "end_time": "2022-04-18T12:33:26.060814Z",
     "start_time": "2022-04-18T12:33:26.057943Z"
    }
   },
   "outputs": [],
   "source": [
    "# Create function to change target values from interger to words\n",
    "decode_map = {0: \"NEGATIVE\", 2: \"NEUTRAL\", 4: \"POSITIVE\"}\n",
    "def decode_sentiment(label):\n",
    "    return decode_map[int(label)]"
   ]
  },
  {
   "cell_type": "code",
   "execution_count": 8,
   "id": "559867a4",
   "metadata": {
    "ExecuteTime": {
     "end_time": "2022-04-18T12:33:38.485288Z",
     "start_time": "2022-04-18T12:33:38.067641Z"
    }
   },
   "outputs": [
    {
     "name": "stdout",
     "output_type": "stream",
     "text": [
      "CPU times: user 401 ms, sys: 8.29 ms, total: 410 ms\n",
      "Wall time: 413 ms\n"
     ]
    }
   ],
   "source": [
    "# Print time used to apply the function\n",
    "%%time\n",
    "\n",
    "# Apply the function to change target values\n",
    "df.target = df.target.apply(lambda x: decode_sentiment(x))"
   ]
  },
  {
   "cell_type": "code",
   "execution_count": 9,
   "id": "7b2ae9ee",
   "metadata": {
    "ExecuteTime": {
     "end_time": "2022-04-18T12:34:01.310018Z",
     "start_time": "2022-04-18T12:34:00.990188Z"
    }
   },
   "outputs": [
    {
     "data": {
      "text/plain": [
       "Text(0.5, 1.0, 'Dataset labels distribuition')"
      ]
     },
     "execution_count": 9,
     "metadata": {},
     "output_type": "execute_result"
    },
    {
     "data": {
      "image/png": "[encoded data removed]",
      "text/plain": [
       "<Figure size 1152x576 with 1 Axes>"
      ]
     },
     "metadata": {
      "needs_background": "light"
     },
     "output_type": "display_data"
    }
   ],
   "source": [
    "# Display target values proportion\n",
    "target_cnt = Counter(df.target)\n",
    "\n",
    "plt.figure(figsize=(16,8))\n",
    "plt.bar(target_cnt.keys(), target_cnt.values())\n",
    "plt.title(\"Dataset labels distribuition\")"
   ]
  },
  {
   "cell_type": "markdown",
   "id": "40a28b54",
   "metadata": {},
   "source": [
    "We can see that there is no neutral tweets"
   ]
  },
  {
   "cell_type": "markdown",
   "id": "668cb315",
   "metadata": {},
   "source": [
    "# Pre-Process dataset"
   ]
  },
  {
   "cell_type": "code",
   "execution_count": 11,
   "id": "88387195",
   "metadata": {
    "ExecuteTime": {
     "end_time": "2022-04-18T12:39:25.633551Z",
     "start_time": "2022-04-18T12:39:25.626776Z"
    }
   },
   "outputs": [],
   "source": [
    "# Stop words are filler words that are not supposed to add values to the sentence\n",
    "stop_words = stopwords.words(\"english\")\n",
    "\n",
    "# Stemmer allows to only go back to the root of the words\n",
    "stemmer = SnowballStemmer(\"english\")"
   ]
  },
  {
   "cell_type": "code",
   "execution_count": 13,
   "id": "4e7c23b9",
   "metadata": {
    "ExecuteTime": {
     "end_time": "2022-04-18T12:46:52.897971Z",
     "start_time": "2022-04-18T12:46:52.894309Z"
    }
   },
   "outputs": [],
   "source": [
    "# Create a function to clean text\n",
    "# We use the regular expression defined in settings\n",
    "# We leave the option to use the stemmer or not\n",
    "\n",
    "def preprocess(text, stem=False):\n",
    "    # Remove link,user and special characters\n",
    "    text = re.sub(TEXT_CLEANING_RE, ' ', str(text).lower()).strip()\n",
    "    tokens = []\n",
    "    for token in text.split():\n",
    "        if token not in stop_words:\n",
    "            if stem:\n",
    "                tokens.append(stemmer.stem(token))\n",
    "            else:\n",
    "                tokens.append(token)\n",
    "    return \" \".join(tokens)"
   ]
  },
  {
   "cell_type": "code",
   "execution_count": 14,
   "id": "82522a94",
   "metadata": {
    "ExecuteTime": {
     "end_time": "2022-04-18T12:47:48.572269Z",
     "start_time": "2022-04-18T12:47:04.846905Z"
    }
   },
   "outputs": [
    {
     "name": "stdout",
     "output_type": "stream",
     "text": [
      "CPU times: user 43.2 s, sys: 203 ms, total: 43.4 s\n",
      "Wall time: 43.7 s\n"
     ]
    }
   ],
   "source": [
    "%%time\n",
    "df.text = df.text.apply(lambda x: preprocess(x))"
   ]
  },
  {
   "cell_type": "markdown",
   "id": "c2c5e701",
   "metadata": {},
   "source": [
    "# Split train and test"
   ]
  },
  {
   "cell_type": "code",
   "execution_count": 15,
   "id": "8358c5ea",
   "metadata": {
    "ExecuteTime": {
     "end_time": "2022-04-18T12:48:27.013327Z",
     "start_time": "2022-04-18T12:48:26.488133Z"
    }
   },
   "outputs": [],
   "source": [
    "df_train, df_test = train_test_split(df, test_size=1-TRAIN_SIZE, random_state=42)"
   ]
  },
  {
   "cell_type": "code",
   "execution_count": 17,
   "id": "7778941d",
   "metadata": {
    "ExecuteTime": {
     "end_time": "2022-04-18T12:48:43.336940Z",
     "start_time": "2022-04-18T12:48:43.331541Z"
    }
   },
   "outputs": [
    {
     "name": "stdout",
     "output_type": "stream",
     "text": [
      "Train size: 1280000\n",
      "Test size: 320000\n"
     ]
    }
   ],
   "source": [
    "print(\"Train size:\", len(df_train))\n",
    "print(\"Test size:\", len(df_test))"
   ]
  },
  {
   "cell_type": "markdown",
   "id": "925b77d7",
   "metadata": {},
   "source": [
    "# Word2Vec"
   ]
  },
  {
   "cell_type": "code",
   "execution_count": 18,
   "id": "61b2a5f9",
   "metadata": {
    "ExecuteTime": {
     "end_time": "2022-04-18T12:49:50.626157Z",
     "start_time": "2022-04-18T12:49:48.042933Z"
    }
   },
   "outputs": [
    {
     "name": "stdout",
     "output_type": "stream",
     "text": [
      "CPU times: user 2.24 s, sys: 219 ms, total: 2.46 s\n",
      "Wall time: 2.58 s\n"
     ]
    }
   ],
   "source": [
    "%%time\n",
    "documents = [_text.split() for _text in df_train.text]"
   ]
  },
  {
   "cell_type": "code",
   "execution_count": 51,
   "id": "d3686f74",
   "metadata": {
    "ExecuteTime": {
     "end_time": "2022-04-18T13:14:27.858083Z",
     "start_time": "2022-04-18T13:14:27.835361Z"
    }
   },
   "outputs": [
    {
     "name": "stderr",
     "output_type": "stream",
     "text": [
      "2022-04-18 14:14:27,837 : INFO : Word2Vec lifecycle event {'params': 'Word2Vec(vocab=0, vector_size=300, alpha=0.025)', 'datetime': '2022-04-18T14:14:27.837581', 'gensim': '4.1.2', 'python': '3.7.10 (default, Feb 26 2021, 10:16:00) \\n[Clang 10.0.0 ]', 'platform': 'Darwin-21.3.0-x86_64-i386-64bit', 'event': 'created'}\n"
     ]
    }
   ],
   "source": [
    "w2v_model = gensim.models.word2vec.Word2Vec(vector_size=W2V_SIZE, \n",
    "                                            window=W2V_WINDOW, \n",
    "                                            min_count=W2V_MIN_COUNT, \n",
    "                                            workers=8)"
   ]
  },
  {
   "cell_type": "code",
   "execution_count": 21,
   "id": "28fe5ca5",
   "metadata": {
    "ExecuteTime": {
     "end_time": "2022-04-18T12:51:38.291783Z",
     "start_time": "2022-04-18T12:51:34.286591Z"
    },
    "collapsed": true
   },
   "outputs": [
    {
     "name": "stderr",
     "output_type": "stream",
     "text": [
      "2022-04-18 13:51:34,288 : INFO : collecting all words and their counts\n",
      "2022-04-18 13:51:34,290 : INFO : PROGRESS: at sentence #0, processed 0 words, keeping 0 word types\n",
      "2022-04-18 13:51:34,322 : INFO : PROGRESS: at sentence #10000, processed 72565 words, keeping 14005 word types\n",
      "2022-04-18 13:51:34,351 : INFO : PROGRESS: at sentence #20000, processed 144393 words, keeping 21587 word types\n",
      "2022-04-18 13:51:34,382 : INFO : PROGRESS: at sentence #30000, processed 215826 words, keeping 27541 word types\n",
      "2022-04-18 13:51:34,409 : INFO : PROGRESS: at sentence #40000, processed 288271 words, keeping 32764 word types\n",
      "2022-04-18 13:51:34,434 : INFO : PROGRESS: at sentence #50000, processed 359772 words, keeping 37587 word types\n",
      "2022-04-18 13:51:34,457 : INFO : PROGRESS: at sentence #60000, processed 431431 words, keeping 42198 word types\n",
      "2022-04-18 13:51:34,481 : INFO : PROGRESS: at sentence #70000, processed 503103 words, keeping 46458 word types\n",
      "2022-04-18 13:51:34,505 : INFO : PROGRESS: at sentence #80000, processed 575709 words, keeping 50476 word types\n",
      "2022-04-18 13:51:34,529 : INFO : PROGRESS: at sentence #90000, processed 647100 words, keeping 54140 word types\n",
      "2022-04-18 13:51:34,553 : INFO : PROGRESS: at sentence #100000, processed 718681 words, keeping 57777 word types\n",
      "2022-04-18 13:51:34,582 : INFO : PROGRESS: at sentence #110000, processed 790696 words, keeping 61207 word types\n",
      "2022-04-18 13:51:34,602 : INFO : PROGRESS: at sentence #120000, processed 863134 words, keeping 64583 word types\n",
      "2022-04-18 13:51:34,624 : INFO : PROGRESS: at sentence #130000, processed 935111 words, keeping 67865 word types\n",
      "2022-04-18 13:51:34,648 : INFO : PROGRESS: at sentence #140000, processed 1006668 words, keeping 70966 word types\n",
      "2022-04-18 13:51:34,670 : INFO : PROGRESS: at sentence #150000, processed 1078512 words, keeping 74119 word types\n",
      "2022-04-18 13:51:34,693 : INFO : PROGRESS: at sentence #160000, processed 1149914 words, keeping 77187 word types\n",
      "2022-04-18 13:51:34,733 : INFO : PROGRESS: at sentence #170000, processed 1222145 words, keeping 80267 word types\n",
      "2022-04-18 13:51:34,756 : INFO : PROGRESS: at sentence #180000, processed 1294708 words, keeping 83393 word types\n",
      "2022-04-18 13:51:34,781 : INFO : PROGRESS: at sentence #190000, processed 1367608 words, keeping 86329 word types\n",
      "2022-04-18 13:51:34,809 : INFO : PROGRESS: at sentence #200000, processed 1439469 words, keeping 89103 word types\n",
      "2022-04-18 13:51:34,830 : INFO : PROGRESS: at sentence #210000, processed 1512099 words, keeping 91840 word types\n",
      "2022-04-18 13:51:34,858 : INFO : PROGRESS: at sentence #220000, processed 1584149 words, keeping 94636 word types\n",
      "2022-04-18 13:51:34,883 : INFO : PROGRESS: at sentence #230000, processed 1656354 words, keeping 97353 word types\n",
      "2022-04-18 13:51:34,906 : INFO : PROGRESS: at sentence #240000, processed 1728573 words, keeping 99975 word types\n",
      "2022-04-18 13:51:34,930 : INFO : PROGRESS: at sentence #250000, processed 1801102 words, keeping 102594 word types\n",
      "2022-04-18 13:51:34,955 : INFO : PROGRESS: at sentence #260000, processed 1873103 words, keeping 105162 word types\n",
      "2022-04-18 13:51:34,979 : INFO : PROGRESS: at sentence #270000, processed 1945245 words, keeping 107626 word types\n",
      "2022-04-18 13:51:35,003 : INFO : PROGRESS: at sentence #280000, processed 2017163 words, keeping 110141 word types\n",
      "2022-04-18 13:51:35,028 : INFO : PROGRESS: at sentence #290000, processed 2089574 words, keeping 112539 word types\n",
      "2022-04-18 13:51:35,053 : INFO : PROGRESS: at sentence #300000, processed 2160996 words, keeping 114893 word types\n",
      "2022-04-18 13:51:35,078 : INFO : PROGRESS: at sentence #310000, processed 2232913 words, keeping 117298 word types\n",
      "2022-04-18 13:51:35,105 : INFO : PROGRESS: at sentence #320000, processed 2305039 words, keeping 119693 word types\n",
      "2022-04-18 13:51:35,134 : INFO : PROGRESS: at sentence #330000, processed 2377119 words, keeping 122131 word types\n",
      "2022-04-18 13:51:35,161 : INFO : PROGRESS: at sentence #340000, processed 2449370 words, keeping 124416 word types\n",
      "2022-04-18 13:51:35,186 : INFO : PROGRESS: at sentence #350000, processed 2521564 words, keeping 126669 word types\n",
      "2022-04-18 13:51:35,213 : INFO : PROGRESS: at sentence #360000, processed 2593681 words, keeping 128912 word types\n",
      "2022-04-18 13:51:35,238 : INFO : PROGRESS: at sentence #370000, processed 2665692 words, keeping 131135 word types\n",
      "2022-04-18 13:51:35,265 : INFO : PROGRESS: at sentence #380000, processed 2737859 words, keeping 133403 word types\n",
      "2022-04-18 13:51:35,288 : INFO : PROGRESS: at sentence #390000, processed 2809848 words, keeping 135551 word types\n",
      "2022-04-18 13:51:35,314 : INFO : PROGRESS: at sentence #400000, processed 2882438 words, keeping 137742 word types\n",
      "2022-04-18 13:51:35,343 : INFO : PROGRESS: at sentence #410000, processed 2954075 words, keeping 139909 word types\n",
      "2022-04-18 13:51:35,367 : INFO : PROGRESS: at sentence #420000, processed 3026247 words, keeping 142144 word types\n",
      "2022-04-18 13:51:35,392 : INFO : PROGRESS: at sentence #430000, processed 3098659 words, keeping 144364 word types\n",
      "2022-04-18 13:51:35,416 : INFO : PROGRESS: at sentence #440000, processed 3170663 words, keeping 146439 word types\n",
      "2022-04-18 13:51:35,440 : INFO : PROGRESS: at sentence #450000, processed 3243344 words, keeping 148526 word types\n",
      "2022-04-18 13:51:35,464 : INFO : PROGRESS: at sentence #460000, processed 3315466 words, keeping 150610 word types\n",
      "2022-04-18 13:51:35,487 : INFO : PROGRESS: at sentence #470000, processed 3388295 words, keeping 152737 word types\n",
      "2022-04-18 13:51:35,511 : INFO : PROGRESS: at sentence #480000, processed 3460120 words, keeping 154757 word types\n",
      "2022-04-18 13:51:35,539 : INFO : PROGRESS: at sentence #490000, processed 3531883 words, keeping 156825 word types\n",
      "2022-04-18 13:51:35,563 : INFO : PROGRESS: at sentence #500000, processed 3604217 words, keeping 158859 word types\n",
      "2022-04-18 13:51:35,587 : INFO : PROGRESS: at sentence #510000, processed 3676427 words, keeping 160852 word types\n",
      "2022-04-18 13:51:35,611 : INFO : PROGRESS: at sentence #520000, processed 3749045 words, keeping 162863 word types\n",
      "2022-04-18 13:51:35,635 : INFO : PROGRESS: at sentence #530000, processed 3821622 words, keeping 164929 word types\n",
      "2022-04-18 13:51:35,659 : INFO : PROGRESS: at sentence #540000, processed 3893627 words, keeping 166840 word types\n",
      "2022-04-18 13:51:35,683 : INFO : PROGRESS: at sentence #550000, processed 3965477 words, keeping 168799 word types\n",
      "2022-04-18 13:51:35,706 : INFO : PROGRESS: at sentence #560000, processed 4038050 words, keeping 170802 word types\n",
      "2022-04-18 13:51:35,730 : INFO : PROGRESS: at sentence #570000, processed 4110296 words, keeping 172760 word types\n",
      "2022-04-18 13:51:35,754 : INFO : PROGRESS: at sentence #580000, processed 4182385 words, keeping 174635 word types\n",
      "2022-04-18 13:51:35,785 : INFO : PROGRESS: at sentence #590000, processed 4254632 words, keeping 176470 word types\n",
      "2022-04-18 13:51:35,809 : INFO : PROGRESS: at sentence #600000, processed 4326859 words, keeping 178350 word types\n",
      "2022-04-18 13:51:35,835 : INFO : PROGRESS: at sentence #610000, processed 4399183 words, keeping 180290 word types\n",
      "2022-04-18 13:51:35,877 : INFO : PROGRESS: at sentence #620000, processed 4471343 words, keeping 182129 word types\n",
      "2022-04-18 13:51:35,921 : INFO : PROGRESS: at sentence #630000, processed 4543286 words, keeping 184005 word types\n",
      "2022-04-18 13:51:35,942 : INFO : PROGRESS: at sentence #640000, processed 4615780 words, keeping 185835 word types\n",
      "2022-04-18 13:51:35,969 : INFO : PROGRESS: at sentence #650000, processed 4688481 words, keeping 187705 word types\n",
      "2022-04-18 13:51:35,990 : INFO : PROGRESS: at sentence #660000, processed 4760481 words, keeping 189439 word types\n",
      "2022-04-18 13:51:36,014 : INFO : PROGRESS: at sentence #670000, processed 4833024 words, keeping 191232 word types\n",
      "2022-04-18 13:51:36,037 : INFO : PROGRESS: at sentence #680000, processed 4904516 words, keeping 193177 word types\n",
      "2022-04-18 13:51:36,061 : INFO : PROGRESS: at sentence #690000, processed 4976968 words, keeping 194960 word types\n",
      "2022-04-18 13:51:36,086 : INFO : PROGRESS: at sentence #700000, processed 5049412 words, keeping 196725 word types\n",
      "2022-04-18 13:51:36,113 : INFO : PROGRESS: at sentence #710000, processed 5121976 words, keeping 198516 word types\n"
     ]
    },
    {
     "name": "stderr",
     "output_type": "stream",
     "text": [
      "2022-04-18 13:51:36,136 : INFO : PROGRESS: at sentence #720000, processed 5193881 words, keeping 200325 word types\n",
      "2022-04-18 13:51:36,160 : INFO : PROGRESS: at sentence #730000, processed 5265467 words, keeping 202133 word types\n",
      "2022-04-18 13:51:36,184 : INFO : PROGRESS: at sentence #740000, processed 5337518 words, keeping 203818 word types\n",
      "2022-04-18 13:51:36,207 : INFO : PROGRESS: at sentence #750000, processed 5409321 words, keeping 205535 word types\n",
      "2022-04-18 13:51:36,231 : INFO : PROGRESS: at sentence #760000, processed 5481512 words, keeping 207282 word types\n",
      "2022-04-18 13:51:36,256 : INFO : PROGRESS: at sentence #770000, processed 5554093 words, keeping 209076 word types\n",
      "2022-04-18 13:51:36,279 : INFO : PROGRESS: at sentence #780000, processed 5625382 words, keeping 210805 word types\n",
      "2022-04-18 13:51:36,302 : INFO : PROGRESS: at sentence #790000, processed 5698066 words, keeping 212618 word types\n",
      "2022-04-18 13:51:36,326 : INFO : PROGRESS: at sentence #800000, processed 5770880 words, keeping 214374 word types\n",
      "2022-04-18 13:51:36,350 : INFO : PROGRESS: at sentence #810000, processed 5843418 words, keeping 216009 word types\n",
      "2022-04-18 13:51:36,374 : INFO : PROGRESS: at sentence #820000, processed 5915628 words, keeping 217804 word types\n",
      "2022-04-18 13:51:36,398 : INFO : PROGRESS: at sentence #830000, processed 5987499 words, keeping 219585 word types\n",
      "2022-04-18 13:51:36,421 : INFO : PROGRESS: at sentence #840000, processed 6058973 words, keeping 221344 word types\n",
      "2022-04-18 13:51:36,454 : INFO : PROGRESS: at sentence #850000, processed 6131125 words, keeping 223002 word types\n",
      "2022-04-18 13:51:36,473 : INFO : PROGRESS: at sentence #860000, processed 6202951 words, keeping 224643 word types\n",
      "2022-04-18 13:51:36,507 : INFO : PROGRESS: at sentence #870000, processed 6275461 words, keeping 226362 word types\n",
      "2022-04-18 13:51:36,527 : INFO : PROGRESS: at sentence #880000, processed 6347661 words, keeping 227986 word types\n",
      "2022-04-18 13:51:36,549 : INFO : PROGRESS: at sentence #890000, processed 6419806 words, keeping 229634 word types\n",
      "2022-04-18 13:51:36,575 : INFO : PROGRESS: at sentence #900000, processed 6491644 words, keeping 231389 word types\n",
      "2022-04-18 13:51:36,600 : INFO : PROGRESS: at sentence #910000, processed 6564022 words, keeping 233050 word types\n",
      "2022-04-18 13:51:36,625 : INFO : PROGRESS: at sentence #920000, processed 6636228 words, keeping 234686 word types\n",
      "2022-04-18 13:51:36,653 : INFO : PROGRESS: at sentence #930000, processed 6708573 words, keeping 236393 word types\n",
      "2022-04-18 13:51:36,675 : INFO : PROGRESS: at sentence #940000, processed 6779956 words, keeping 238052 word types\n",
      "2022-04-18 13:51:36,694 : INFO : PROGRESS: at sentence #950000, processed 6852599 words, keeping 239716 word types\n",
      "2022-04-18 13:51:36,722 : INFO : PROGRESS: at sentence #960000, processed 6924717 words, keeping 241354 word types\n",
      "2022-04-18 13:51:36,747 : INFO : PROGRESS: at sentence #970000, processed 6996992 words, keeping 242980 word types\n",
      "2022-04-18 13:51:36,771 : INFO : PROGRESS: at sentence #980000, processed 7068402 words, keeping 244646 word types\n",
      "2022-04-18 13:51:36,796 : INFO : PROGRESS: at sentence #990000, processed 7140346 words, keeping 246186 word types\n",
      "2022-04-18 13:51:36,843 : INFO : PROGRESS: at sentence #1000000, processed 7211757 words, keeping 247726 word types\n",
      "2022-04-18 13:51:36,868 : INFO : PROGRESS: at sentence #1010000, processed 7283267 words, keeping 249288 word types\n",
      "2022-04-18 13:51:36,892 : INFO : PROGRESS: at sentence #1020000, processed 7355299 words, keeping 250860 word types\n",
      "2022-04-18 13:51:36,916 : INFO : PROGRESS: at sentence #1030000, processed 7426918 words, keeping 252366 word types\n",
      "2022-04-18 13:51:36,940 : INFO : PROGRESS: at sentence #1040000, processed 7498815 words, keeping 253930 word types\n",
      "2022-04-18 13:51:36,963 : INFO : PROGRESS: at sentence #1050000, processed 7570499 words, keeping 255471 word types\n",
      "2022-04-18 13:51:36,991 : INFO : PROGRESS: at sentence #1060000, processed 7643251 words, keeping 257035 word types\n",
      "2022-04-18 13:51:37,015 : INFO : PROGRESS: at sentence #1070000, processed 7714721 words, keeping 258509 word types\n",
      "2022-04-18 13:51:37,040 : INFO : PROGRESS: at sentence #1080000, processed 7787371 words, keeping 260071 word types\n",
      "2022-04-18 13:51:37,063 : INFO : PROGRESS: at sentence #1090000, processed 7859336 words, keeping 261683 word types\n",
      "2022-04-18 13:51:37,085 : INFO : PROGRESS: at sentence #1100000, processed 7932029 words, keeping 263278 word types\n",
      "2022-04-18 13:51:37,107 : INFO : PROGRESS: at sentence #1110000, processed 8004146 words, keeping 264800 word types\n",
      "2022-04-18 13:51:37,130 : INFO : PROGRESS: at sentence #1120000, processed 8075880 words, keeping 266309 word types\n",
      "2022-04-18 13:51:37,152 : INFO : PROGRESS: at sentence #1130000, processed 8148163 words, keeping 267826 word types\n",
      "2022-04-18 13:51:37,175 : INFO : PROGRESS: at sentence #1140000, processed 8220487 words, keeping 269391 word types\n",
      "2022-04-18 13:51:37,197 : INFO : PROGRESS: at sentence #1150000, processed 8292498 words, keeping 270894 word types\n",
      "2022-04-18 13:51:37,220 : INFO : PROGRESS: at sentence #1160000, processed 8363838 words, keeping 272400 word types\n",
      "2022-04-18 13:51:37,242 : INFO : PROGRESS: at sentence #1170000, processed 8435510 words, keeping 273970 word types\n",
      "2022-04-18 13:51:37,264 : INFO : PROGRESS: at sentence #1180000, processed 8507795 words, keeping 275521 word types\n",
      "2022-04-18 13:51:37,289 : INFO : PROGRESS: at sentence #1190000, processed 8579080 words, keeping 277007 word types\n",
      "2022-04-18 13:51:37,313 : INFO : PROGRESS: at sentence #1200000, processed 8650606 words, keeping 278457 word types\n",
      "2022-04-18 13:51:37,336 : INFO : PROGRESS: at sentence #1210000, processed 8721893 words, keeping 279959 word types\n",
      "2022-04-18 13:51:37,354 : INFO : PROGRESS: at sentence #1220000, processed 8793795 words, keeping 281427 word types\n",
      "2022-04-18 13:51:37,377 : INFO : PROGRESS: at sentence #1230000, processed 8865726 words, keeping 282981 word types\n",
      "2022-04-18 13:51:37,403 : INFO : PROGRESS: at sentence #1240000, processed 8938173 words, keeping 284542 word types\n",
      "2022-04-18 13:51:37,428 : INFO : PROGRESS: at sentence #1250000, processed 9010842 words, keeping 286064 word types\n",
      "2022-04-18 13:51:37,449 : INFO : PROGRESS: at sentence #1260000, processed 9083261 words, keeping 287521 word types\n",
      "2022-04-18 13:51:37,473 : INFO : PROGRESS: at sentence #1270000, processed 9155616 words, keeping 288987 word types\n",
      "2022-04-18 13:51:37,494 : INFO : collected 290418 word types from a corpus of 9227204 raw words and 1280000 sentences\n",
      "2022-04-18 13:51:37,495 : INFO : Creating a fresh vocabulary\n",
      "2022-04-18 13:51:37,733 : INFO : Word2Vec lifecycle event {'msg': 'effective_min_count=10 retains 30369 unique words (10.456996467161126%% of original 290418, drops 260049)', 'datetime': '2022-04-18T13:51:37.733759', 'gensim': '4.1.2', 'python': '3.7.10 (default, Feb 26 2021, 10:16:00) \\n[Clang 10.0.0 ]', 'platform': 'Darwin-21.3.0-x86_64-i386-64bit', 'event': 'prepare_vocab'}\n",
      "2022-04-18 13:51:37,735 : INFO : Word2Vec lifecycle event {'msg': 'effective_min_count=10 leaves 8780739 word corpus (95.16142701516083%% of original 9227204, drops 446465)', 'datetime': '2022-04-18T13:51:37.735026', 'gensim': '4.1.2', 'python': '3.7.10 (default, Feb 26 2021, 10:16:00) \\n[Clang 10.0.0 ]', 'platform': 'Darwin-21.3.0-x86_64-i386-64bit', 'event': 'prepare_vocab'}\n",
      "2022-04-18 13:51:37,918 : INFO : deleting the raw counts dictionary of 290418 items\n",
      "2022-04-18 13:51:37,923 : INFO : sample=0.001 downsamples 45 most-common words\n",
      "2022-04-18 13:51:37,924 : INFO : Word2Vec lifecycle event {'msg': 'downsampling leaves estimated 8222658.616429881 word corpus (93.6%% of prior 8780739)', 'datetime': '2022-04-18T13:51:37.924788', 'gensim': '4.1.2', 'python': '3.7.10 (default, Feb 26 2021, 10:16:00) \\n[Clang 10.0.0 ]', 'platform': 'Darwin-21.3.0-x86_64-i386-64bit', 'event': 'prepare_vocab'}\n",
      "2022-04-18 13:51:38,238 : INFO : estimated required memory for 30369 words and 300 dimensions: 88070100 bytes\n",
      "2022-04-18 13:51:38,239 : INFO : resetting layer weights\n",
      "2022-04-18 13:51:38,288 : INFO : Word2Vec lifecycle event {'update': False, 'trim_rule': 'None', 'datetime': '2022-04-18T13:51:38.288809', 'gensim': '4.1.2', 'python': '3.7.10 (default, Feb 26 2021, 10:16:00) \\n[Clang 10.0.0 ]', 'platform': 'Darwin-21.3.0-x86_64-i386-64bit', 'event': 'build_vocab'}\n"
     ]
    },
    {
     "name": "stdout",
     "output_type": "stream",
     "text": [
      "CPU times: user 3.58 s, sys: 265 ms, total: 3.84 s\n",
      "Wall time: 4 s\n"
     ]
    }
   ],
   "source": [
    "%%time\n",
    "w2v_model.build_vocab(documents)"
   ]
  },
  {
   "cell_type": "code",
   "execution_count": 22,
   "id": "d2045729",
   "metadata": {
    "ExecuteTime": {
     "end_time": "2022-04-18T12:52:08.635214Z",
     "start_time": "2022-04-18T12:52:08.630045Z"
    }
   },
   "outputs": [
    {
     "name": "stdout",
     "output_type": "stream",
     "text": [
      "Vocab size 30369\n"
     ]
    }
   ],
   "source": [
    "words = w2v_model.wv.key_to_index.keys()\n",
    "vocab_size = len(words)\n",
    "print(\"Vocab size\", vocab_size)"
   ]
  },
  {
   "cell_type": "code",
   "execution_count": 23,
   "id": "6bbac1fa",
   "metadata": {
    "ExecuteTime": {
     "end_time": "2022-04-18T12:56:23.911964Z",
     "start_time": "2022-04-18T12:52:21.789108Z"
    },
    "collapsed": true
   },
   "outputs": [
    {
     "name": "stderr",
     "output_type": "stream",
     "text": [
      "2022-04-18 13:52:21,791 : INFO : Word2Vec lifecycle event {'msg': 'training model with 8 workers on 30369 vocabulary and 300 features, using sg=0 hs=0 sample=0.001 negative=5 window=7 shrink_windows=True', 'datetime': '2022-04-18T13:52:21.791366', 'gensim': '4.1.2', 'python': '3.7.10 (default, Feb 26 2021, 10:16:00) \\n[Clang 10.0.0 ]', 'platform': 'Darwin-21.3.0-x86_64-i386-64bit', 'event': 'train'}\n",
      "2022-04-18 13:52:22,816 : INFO : EPOCH 1 - PROGRESS: at 16.59% examples, 1344558 words/s, in_qsize 15, out_qsize 0\n",
      "2022-04-18 13:52:23,836 : INFO : EPOCH 1 - PROGRESS: at 31.64% examples, 1279588 words/s, in_qsize 14, out_qsize 1\n",
      "2022-04-18 13:52:24,844 : INFO : EPOCH 1 - PROGRESS: at 46.35% examples, 1253731 words/s, in_qsize 15, out_qsize 0\n",
      "2022-04-18 13:52:25,850 : INFO : EPOCH 1 - PROGRESS: at 61.93% examples, 1259172 words/s, in_qsize 12, out_qsize 3\n",
      "2022-04-18 13:52:26,880 : INFO : EPOCH 1 - PROGRESS: at 76.00% examples, 1231728 words/s, in_qsize 16, out_qsize 1\n",
      "2022-04-18 13:52:27,881 : INFO : EPOCH 1 - PROGRESS: at 92.07% examples, 1245672 words/s, in_qsize 16, out_qsize 0\n",
      "2022-04-18 13:52:28,353 : INFO : worker thread finished; awaiting finish of 7 more threads\n",
      "2022-04-18 13:52:28,354 : INFO : worker thread finished; awaiting finish of 6 more threads\n",
      "2022-04-18 13:52:28,358 : INFO : worker thread finished; awaiting finish of 5 more threads\n",
      "2022-04-18 13:52:28,359 : INFO : worker thread finished; awaiting finish of 4 more threads\n",
      "2022-04-18 13:52:28,365 : INFO : worker thread finished; awaiting finish of 3 more threads\n",
      "2022-04-18 13:52:28,367 : INFO : worker thread finished; awaiting finish of 2 more threads\n",
      "2022-04-18 13:52:28,377 : INFO : worker thread finished; awaiting finish of 1 more threads\n",
      "2022-04-18 13:52:28,378 : INFO : worker thread finished; awaiting finish of 0 more threads\n",
      "2022-04-18 13:52:28,378 : INFO : EPOCH - 1 : training on 9227204 raw words (8222590 effective words) took 6.6s, 1250474 effective words/s\n",
      "2022-04-18 13:52:29,390 : INFO : EPOCH 2 - PROGRESS: at 16.81% examples, 1376291 words/s, in_qsize 13, out_qsize 2\n",
      "2022-04-18 13:52:30,402 : INFO : EPOCH 2 - PROGRESS: at 34.02% examples, 1388281 words/s, in_qsize 13, out_qsize 2\n",
      "2022-04-18 13:52:31,416 : INFO : EPOCH 2 - PROGRESS: at 51.86% examples, 1408498 words/s, in_qsize 15, out_qsize 0\n",
      "2022-04-18 13:52:32,431 : INFO : EPOCH 2 - PROGRESS: at 70.15% examples, 1427362 words/s, in_qsize 15, out_qsize 0\n",
      "2022-04-18 13:52:33,442 : INFO : EPOCH 2 - PROGRESS: at 88.81% examples, 1444804 words/s, in_qsize 14, out_qsize 1\n",
      "2022-04-18 13:52:34,000 : INFO : worker thread finished; awaiting finish of 7 more threads\n",
      "2022-04-18 13:52:34,001 : INFO : worker thread finished; awaiting finish of 6 more threads\n",
      "2022-04-18 13:52:34,003 : INFO : worker thread finished; awaiting finish of 5 more threads\n",
      "2022-04-18 13:52:34,004 : INFO : worker thread finished; awaiting finish of 4 more threads\n",
      "2022-04-18 13:52:34,015 : INFO : worker thread finished; awaiting finish of 3 more threads\n",
      "2022-04-18 13:52:34,016 : INFO : worker thread finished; awaiting finish of 2 more threads\n",
      "2022-04-18 13:52:34,017 : INFO : worker thread finished; awaiting finish of 1 more threads\n",
      "2022-04-18 13:52:34,022 : INFO : worker thread finished; awaiting finish of 0 more threads\n",
      "2022-04-18 13:52:34,023 : INFO : EPOCH - 2 : training on 9227204 raw words (8222187 effective words) took 5.6s, 1458709 effective words/s\n",
      "2022-04-18 13:52:35,042 : INFO : EPOCH 3 - PROGRESS: at 18.22% examples, 1480714 words/s, in_qsize 15, out_qsize 0\n",
      "2022-04-18 13:52:36,046 : INFO : EPOCH 3 - PROGRESS: at 36.61% examples, 1495191 words/s, in_qsize 16, out_qsize 0\n",
      "2022-04-18 13:52:37,059 : INFO : EPOCH 3 - PROGRESS: at 54.03% examples, 1468625 words/s, in_qsize 14, out_qsize 1\n",
      "2022-04-18 13:52:38,062 : INFO : EPOCH 3 - PROGRESS: at 69.72% examples, 1423491 words/s, in_qsize 15, out_qsize 0\n",
      "2022-04-18 13:52:39,092 : INFO : EPOCH 3 - PROGRESS: at 86.53% examples, 1406412 words/s, in_qsize 12, out_qsize 3\n",
      "2022-04-18 13:52:39,821 : INFO : worker thread finished; awaiting finish of 7 more threads\n",
      "2022-04-18 13:52:39,824 : INFO : worker thread finished; awaiting finish of 6 more threads\n",
      "2022-04-18 13:52:39,829 : INFO : worker thread finished; awaiting finish of 5 more threads\n",
      "2022-04-18 13:52:39,834 : INFO : worker thread finished; awaiting finish of 4 more threads\n",
      "2022-04-18 13:52:39,837 : INFO : worker thread finished; awaiting finish of 3 more threads\n",
      "2022-04-18 13:52:39,838 : INFO : worker thread finished; awaiting finish of 2 more threads\n",
      "2022-04-18 13:52:39,846 : INFO : worker thread finished; awaiting finish of 1 more threads\n",
      "2022-04-18 13:52:39,848 : INFO : worker thread finished; awaiting finish of 0 more threads\n",
      "2022-04-18 13:52:39,849 : INFO : EPOCH - 3 : training on 9227204 raw words (8221580 effective words) took 5.8s, 1413377 effective words/s\n",
      "2022-04-18 13:52:40,880 : INFO : EPOCH 4 - PROGRESS: at 15.73% examples, 1274874 words/s, in_qsize 15, out_qsize 0\n",
      "2022-04-18 13:52:41,884 : INFO : EPOCH 4 - PROGRESS: at 32.62% examples, 1329846 words/s, in_qsize 15, out_qsize 0\n",
      "2022-04-18 13:52:42,897 : INFO : EPOCH 4 - PROGRESS: at 50.24% examples, 1364490 words/s, in_qsize 15, out_qsize 0\n",
      "2022-04-18 13:52:43,899 : INFO : EPOCH 4 - PROGRESS: at 66.91% examples, 1365536 words/s, in_qsize 14, out_qsize 1\n",
      "2022-04-18 13:52:44,907 : INFO : EPOCH 4 - PROGRESS: at 84.69% examples, 1382195 words/s, in_qsize 15, out_qsize 0\n",
      "2022-04-18 13:52:45,754 : INFO : worker thread finished; awaiting finish of 7 more threads\n",
      "2022-04-18 13:52:45,756 : INFO : worker thread finished; awaiting finish of 6 more threads\n",
      "2022-04-18 13:52:45,758 : INFO : worker thread finished; awaiting finish of 5 more threads\n",
      "2022-04-18 13:52:45,760 : INFO : worker thread finished; awaiting finish of 4 more threads\n",
      "2022-04-18 13:52:45,761 : INFO : worker thread finished; awaiting finish of 3 more threads\n",
      "2022-04-18 13:52:45,764 : INFO : worker thread finished; awaiting finish of 2 more threads\n",
      "2022-04-18 13:52:45,774 : INFO : worker thread finished; awaiting finish of 1 more threads\n",
      "2022-04-18 13:52:45,775 : INFO : worker thread finished; awaiting finish of 0 more threads\n",
      "2022-04-18 13:52:45,776 : INFO : EPOCH - 4 : training on 9227204 raw words (8222694 effective words) took 5.9s, 1391606 effective words/s\n",
      "2022-04-18 13:52:46,798 : INFO : EPOCH 5 - PROGRESS: at 13.79% examples, 1119890 words/s, in_qsize 13, out_qsize 2\n",
      "2022-04-18 13:52:47,800 : INFO : EPOCH 5 - PROGRESS: at 28.51% examples, 1163925 words/s, in_qsize 14, out_qsize 1\n",
      "2022-04-18 13:52:48,809 : INFO : EPOCH 5 - PROGRESS: at 40.51% examples, 1102750 words/s, in_qsize 14, out_qsize 1\n",
      "2022-04-18 13:52:49,812 : INFO : EPOCH 5 - PROGRESS: at 54.35% examples, 1111270 words/s, in_qsize 15, out_qsize 0\n",
      "2022-04-18 13:52:50,827 : INFO : EPOCH 5 - PROGRESS: at 69.72% examples, 1138419 words/s, in_qsize 16, out_qsize 1\n",
      "2022-04-18 13:52:51,828 : INFO : EPOCH 5 - PROGRESS: at 86.21% examples, 1173702 words/s, in_qsize 15, out_qsize 1\n",
      "2022-04-18 13:52:52,759 : INFO : worker thread finished; awaiting finish of 7 more threads\n",
      "2022-04-18 13:52:52,764 : INFO : worker thread finished; awaiting finish of 6 more threads\n",
      "2022-04-18 13:52:52,766 : INFO : worker thread finished; awaiting finish of 5 more threads\n",
      "2022-04-18 13:52:52,775 : INFO : worker thread finished; awaiting finish of 4 more threads\n",
      "2022-04-18 13:52:52,777 : INFO : worker thread finished; awaiting finish of 3 more threads\n",
      "2022-04-18 13:52:52,778 : INFO : worker thread finished; awaiting finish of 2 more threads\n",
      "2022-04-18 13:52:52,786 : INFO : worker thread finished; awaiting finish of 1 more threads\n",
      "2022-04-18 13:52:52,787 : INFO : worker thread finished; awaiting finish of 0 more threads\n",
      "2022-04-18 13:52:52,788 : INFO : EPOCH - 5 : training on 9227204 raw words (8221999 effective words) took 7.0s, 1174433 effective words/s\n",
      "2022-04-18 13:52:53,808 : INFO : EPOCH 6 - PROGRESS: at 14.76% examples, 1204161 words/s, in_qsize 14, out_qsize 1\n",
      "2022-04-18 13:52:54,822 : INFO : EPOCH 6 - PROGRESS: at 30.35% examples, 1234643 words/s, in_qsize 14, out_qsize 1\n",
      "2022-04-18 13:52:55,828 : INFO : EPOCH 6 - PROGRESS: at 46.57% examples, 1265855 words/s, in_qsize 14, out_qsize 1\n",
      "2022-04-18 13:52:56,832 : INFO : EPOCH 6 - PROGRESS: at 63.11% examples, 1288921 words/s, in_qsize 14, out_qsize 1\n"
     ]
    },
    {
     "name": "stderr",
     "output_type": "stream",
     "text": [
      "2022-04-18 13:52:57,842 : INFO : EPOCH 6 - PROGRESS: at 79.60% examples, 1299023 words/s, in_qsize 15, out_qsize 0\n",
      "2022-04-18 13:52:58,848 : INFO : EPOCH 6 - PROGRESS: at 94.69% examples, 1287636 words/s, in_qsize 15, out_qsize 0\n",
      "2022-04-18 13:52:59,156 : INFO : worker thread finished; awaiting finish of 7 more threads\n",
      "2022-04-18 13:52:59,159 : INFO : worker thread finished; awaiting finish of 6 more threads\n",
      "2022-04-18 13:52:59,160 : INFO : worker thread finished; awaiting finish of 5 more threads\n",
      "2022-04-18 13:52:59,161 : INFO : worker thread finished; awaiting finish of 4 more threads\n",
      "2022-04-18 13:52:59,164 : INFO : worker thread finished; awaiting finish of 3 more threads\n",
      "2022-04-18 13:52:59,189 : INFO : worker thread finished; awaiting finish of 2 more threads\n",
      "2022-04-18 13:52:59,198 : INFO : worker thread finished; awaiting finish of 1 more threads\n",
      "2022-04-18 13:52:59,204 : INFO : worker thread finished; awaiting finish of 0 more threads\n",
      "2022-04-18 13:52:59,205 : INFO : EPOCH - 6 : training on 9227204 raw words (8222643 effective words) took 6.4s, 1284206 effective words/s\n",
      "2022-04-18 13:53:00,220 : INFO : EPOCH 7 - PROGRESS: at 15.95% examples, 1304195 words/s, in_qsize 15, out_qsize 0\n",
      "2022-04-18 13:53:01,223 : INFO : EPOCH 7 - PROGRESS: at 31.86% examples, 1304930 words/s, in_qsize 13, out_qsize 2\n",
      "2022-04-18 13:53:02,228 : INFO : EPOCH 7 - PROGRESS: at 46.24% examples, 1263132 words/s, in_qsize 13, out_qsize 2\n",
      "2022-04-18 13:53:03,228 : INFO : EPOCH 7 - PROGRESS: at 60.74% examples, 1245781 words/s, in_qsize 15, out_qsize 0\n",
      "2022-04-18 13:53:04,242 : INFO : EPOCH 7 - PROGRESS: at 76.55% examples, 1253163 words/s, in_qsize 15, out_qsize 0\n",
      "2022-04-18 13:53:05,255 : INFO : EPOCH 7 - PROGRESS: at 88.16% examples, 1200903 words/s, in_qsize 13, out_qsize 2\n",
      "2022-04-18 13:53:06,120 : INFO : worker thread finished; awaiting finish of 7 more threads\n",
      "2022-04-18 13:53:06,125 : INFO : worker thread finished; awaiting finish of 6 more threads\n",
      "2022-04-18 13:53:06,128 : INFO : worker thread finished; awaiting finish of 5 more threads\n",
      "2022-04-18 13:53:06,132 : INFO : worker thread finished; awaiting finish of 4 more threads\n",
      "2022-04-18 13:53:06,134 : INFO : worker thread finished; awaiting finish of 3 more threads\n",
      "2022-04-18 13:53:06,135 : INFO : worker thread finished; awaiting finish of 2 more threads\n",
      "2022-04-18 13:53:06,152 : INFO : worker thread finished; awaiting finish of 1 more threads\n",
      "2022-04-18 13:53:06,155 : INFO : worker thread finished; awaiting finish of 0 more threads\n",
      "2022-04-18 13:53:06,157 : INFO : EPOCH - 7 : training on 9227204 raw words (8223198 effective words) took 6.9s, 1184715 effective words/s\n",
      "2022-04-18 13:53:07,194 : INFO : EPOCH 8 - PROGRESS: at 12.71% examples, 1040223 words/s, in_qsize 15, out_qsize 0\n",
      "2022-04-18 13:53:08,199 : INFO : EPOCH 8 - PROGRESS: at 26.66% examples, 1091772 words/s, in_qsize 14, out_qsize 1\n",
      "2022-04-18 13:53:09,202 : INFO : EPOCH 8 - PROGRESS: at 42.78% examples, 1168821 words/s, in_qsize 14, out_qsize 1\n",
      "2022-04-18 13:53:10,215 : INFO : EPOCH 8 - PROGRESS: at 57.93% examples, 1184624 words/s, in_qsize 14, out_qsize 1\n",
      "2022-04-18 13:53:11,215 : INFO : EPOCH 8 - PROGRESS: at 72.53% examples, 1188190 words/s, in_qsize 15, out_qsize 0\n",
      "2022-04-18 13:53:12,219 : INFO : EPOCH 8 - PROGRESS: at 88.37% examples, 1206067 words/s, in_qsize 16, out_qsize 0\n",
      "2022-04-18 13:53:12,994 : INFO : worker thread finished; awaiting finish of 7 more threads\n",
      "2022-04-18 13:53:13,006 : INFO : worker thread finished; awaiting finish of 6 more threads\n",
      "2022-04-18 13:53:13,007 : INFO : worker thread finished; awaiting finish of 5 more threads\n",
      "2022-04-18 13:53:13,009 : INFO : worker thread finished; awaiting finish of 4 more threads\n",
      "2022-04-18 13:53:13,016 : INFO : worker thread finished; awaiting finish of 3 more threads\n",
      "2022-04-18 13:53:13,023 : INFO : worker thread finished; awaiting finish of 2 more threads\n",
      "2022-04-18 13:53:13,024 : INFO : worker thread finished; awaiting finish of 1 more threads\n",
      "2022-04-18 13:53:13,035 : INFO : worker thread finished; awaiting finish of 0 more threads\n",
      "2022-04-18 13:53:13,036 : INFO : EPOCH - 8 : training on 9227204 raw words (8222526 effective words) took 6.8s, 1201427 effective words/s\n",
      "2022-04-18 13:53:14,051 : INFO : EPOCH 9 - PROGRESS: at 13.25% examples, 1083900 words/s, in_qsize 15, out_qsize 0\n",
      "2022-04-18 13:53:15,053 : INFO : EPOCH 9 - PROGRESS: at 28.50% examples, 1168278 words/s, in_qsize 15, out_qsize 0\n",
      "2022-04-18 13:53:16,060 : INFO : EPOCH 9 - PROGRESS: at 44.62% examples, 1218411 words/s, in_qsize 13, out_qsize 2\n",
      "2022-04-18 13:53:17,061 : INFO : EPOCH 9 - PROGRESS: at 61.39% examples, 1258656 words/s, in_qsize 14, out_qsize 1\n",
      "2022-04-18 13:53:18,076 : INFO : EPOCH 9 - PROGRESS: at 77.74% examples, 1272282 words/s, in_qsize 13, out_qsize 2\n",
      "2022-04-18 13:53:19,078 : INFO : EPOCH 9 - PROGRESS: at 93.05% examples, 1269081 words/s, in_qsize 16, out_qsize 1\n",
      "2022-04-18 13:53:19,440 : INFO : worker thread finished; awaiting finish of 7 more threads\n",
      "2022-04-18 13:53:19,444 : INFO : worker thread finished; awaiting finish of 6 more threads\n",
      "2022-04-18 13:53:19,447 : INFO : worker thread finished; awaiting finish of 5 more threads\n",
      "2022-04-18 13:53:19,458 : INFO : worker thread finished; awaiting finish of 4 more threads\n",
      "2022-04-18 13:53:19,460 : INFO : worker thread finished; awaiting finish of 3 more threads\n",
      "2022-04-18 13:53:19,461 : INFO : worker thread finished; awaiting finish of 2 more threads\n",
      "2022-04-18 13:53:19,470 : INFO : worker thread finished; awaiting finish of 1 more threads\n",
      "2022-04-18 13:53:19,472 : INFO : worker thread finished; awaiting finish of 0 more threads\n",
      "2022-04-18 13:53:19,473 : INFO : EPOCH - 9 : training on 9227204 raw words (8223869 effective words) took 6.4s, 1279904 effective words/s\n",
      "2022-04-18 13:53:20,490 : INFO : EPOCH 10 - PROGRESS: at 16.37% examples, 1338435 words/s, in_qsize 15, out_qsize 0\n",
      "2022-04-18 13:53:21,494 : INFO : EPOCH 10 - PROGRESS: at 32.95% examples, 1348456 words/s, in_qsize 14, out_qsize 1\n",
      "2022-04-18 13:53:22,510 : INFO : EPOCH 10 - PROGRESS: at 47.43% examples, 1289699 words/s, in_qsize 13, out_qsize 2\n",
      "2022-04-18 13:53:23,513 : INFO : EPOCH 10 - PROGRESS: at 64.08% examples, 1309425 words/s, in_qsize 15, out_qsize 0\n",
      "2022-04-18 13:53:24,524 : INFO : EPOCH 10 - PROGRESS: at 75.02% examples, 1225212 words/s, in_qsize 15, out_qsize 0\n",
      "2022-04-18 13:53:25,533 : INFO : EPOCH 10 - PROGRESS: at 90.76% examples, 1234367 words/s, in_qsize 16, out_qsize 0\n",
      "2022-04-18 13:53:26,032 : INFO : worker thread finished; awaiting finish of 7 more threads\n",
      "2022-04-18 13:53:26,039 : INFO : worker thread finished; awaiting finish of 6 more threads\n",
      "2022-04-18 13:53:26,042 : INFO : worker thread finished; awaiting finish of 5 more threads\n",
      "2022-04-18 13:53:26,043 : INFO : worker thread finished; awaiting finish of 4 more threads\n",
      "2022-04-18 13:53:26,045 : INFO : worker thread finished; awaiting finish of 3 more threads\n",
      "2022-04-18 13:53:26,060 : INFO : worker thread finished; awaiting finish of 2 more threads\n",
      "2022-04-18 13:53:26,062 : INFO : worker thread finished; awaiting finish of 1 more threads\n",
      "2022-04-18 13:53:26,063 : INFO : worker thread finished; awaiting finish of 0 more threads\n",
      "2022-04-18 13:53:26,063 : INFO : EPOCH - 10 : training on 9227204 raw words (8223140 effective words) took 6.6s, 1250092 effective words/s\n",
      "2022-04-18 13:53:27,076 : INFO : EPOCH 11 - PROGRESS: at 15.84% examples, 1298784 words/s, in_qsize 14, out_qsize 1\n",
      "2022-04-18 13:53:28,090 : INFO : EPOCH 11 - PROGRESS: at 32.51% examples, 1326015 words/s, in_qsize 15, out_qsize 0\n",
      "2022-04-18 13:53:29,091 : INFO : EPOCH 11 - PROGRESS: at 44.83% examples, 1222332 words/s, in_qsize 15, out_qsize 3\n",
      "2022-04-18 13:53:30,096 : INFO : EPOCH 11 - PROGRESS: at 54.89% examples, 1123266 words/s, in_qsize 13, out_qsize 2\n",
      "2022-04-18 13:53:31,106 : INFO : EPOCH 11 - PROGRESS: at 64.40% examples, 1053611 words/s, in_qsize 14, out_qsize 1\n",
      "2022-04-18 13:53:32,122 : INFO : EPOCH 11 - PROGRESS: at 74.27% examples, 1010463 words/s, in_qsize 15, out_qsize 0\n",
      "2022-04-18 13:53:33,144 : INFO : EPOCH 11 - PROGRESS: at 83.72% examples, 974057 words/s, in_qsize 15, out_qsize 0\n",
      "2022-04-18 13:53:34,148 : INFO : EPOCH 11 - PROGRESS: at 92.83% examples, 945555 words/s, in_qsize 15, out_qsize 0\n"
     ]
    },
    {
     "name": "stderr",
     "output_type": "stream",
     "text": [
      "2022-04-18 13:53:34,850 : INFO : worker thread finished; awaiting finish of 7 more threads\n",
      "2022-04-18 13:53:34,853 : INFO : worker thread finished; awaiting finish of 6 more threads\n",
      "2022-04-18 13:53:34,866 : INFO : worker thread finished; awaiting finish of 5 more threads\n",
      "2022-04-18 13:53:34,883 : INFO : worker thread finished; awaiting finish of 4 more threads\n",
      "2022-04-18 13:53:34,898 : INFO : worker thread finished; awaiting finish of 3 more threads\n",
      "2022-04-18 13:53:34,921 : INFO : worker thread finished; awaiting finish of 2 more threads\n",
      "2022-04-18 13:53:34,933 : INFO : worker thread finished; awaiting finish of 1 more threads\n",
      "2022-04-18 13:53:34,935 : INFO : worker thread finished; awaiting finish of 0 more threads\n",
      "2022-04-18 13:53:34,937 : INFO : EPOCH - 11 : training on 9227204 raw words (8223237 effective words) took 8.9s, 927824 effective words/s\n",
      "2022-04-18 13:53:35,996 : INFO : EPOCH 12 - PROGRESS: at 7.16% examples, 568972 words/s, in_qsize 14, out_qsize 1\n",
      "2022-04-18 13:53:37,006 : INFO : EPOCH 12 - PROGRESS: at 15.19% examples, 610516 words/s, in_qsize 16, out_qsize 0\n",
      "2022-04-18 13:53:38,017 : INFO : EPOCH 12 - PROGRESS: at 21.25% examples, 571759 words/s, in_qsize 16, out_qsize 0\n",
      "2022-04-18 13:53:39,040 : INFO : EPOCH 12 - PROGRESS: at 27.85% examples, 561581 words/s, in_qsize 15, out_qsize 0\n",
      "2022-04-18 13:53:40,045 : INFO : EPOCH 12 - PROGRESS: at 34.13% examples, 552204 words/s, in_qsize 13, out_qsize 0\n",
      "2022-04-18 13:53:41,192 : INFO : EPOCH 12 - PROGRESS: at 38.89% examples, 513499 words/s, in_qsize 12, out_qsize 3\n",
      "2022-04-18 13:53:42,261 : INFO : EPOCH 12 - PROGRESS: at 43.11% examples, 485846 words/s, in_qsize 12, out_qsize 5\n",
      "2022-04-18 13:53:43,300 : INFO : EPOCH 12 - PROGRESS: at 49.16% examples, 485146 words/s, in_qsize 14, out_qsize 2\n",
      "2022-04-18 13:53:44,303 : INFO : EPOCH 12 - PROGRESS: at 55.53% examples, 489351 words/s, in_qsize 14, out_qsize 0\n",
      "2022-04-18 13:53:45,331 : INFO : EPOCH 12 - PROGRESS: at 62.36% examples, 494958 words/s, in_qsize 15, out_qsize 0\n",
      "2022-04-18 13:53:46,335 : INFO : EPOCH 12 - PROGRESS: at 67.77% examples, 490398 words/s, in_qsize 13, out_qsize 5\n",
      "2022-04-18 13:53:47,413 : INFO : EPOCH 12 - PROGRESS: at 73.73% examples, 487276 words/s, in_qsize 14, out_qsize 1\n",
      "2022-04-18 13:53:48,433 : INFO : EPOCH 12 - PROGRESS: at 79.49% examples, 485412 words/s, in_qsize 13, out_qsize 2\n",
      "2022-04-18 13:53:49,439 : INFO : EPOCH 12 - PROGRESS: at 86.42% examples, 491042 words/s, in_qsize 12, out_qsize 3\n",
      "2022-04-18 13:53:50,445 : INFO : EPOCH 12 - PROGRESS: at 94.80% examples, 503418 words/s, in_qsize 15, out_qsize 0\n",
      "2022-04-18 13:53:51,029 : INFO : worker thread finished; awaiting finish of 7 more threads\n",
      "2022-04-18 13:53:51,032 : INFO : worker thread finished; awaiting finish of 6 more threads\n",
      "2022-04-18 13:53:51,037 : INFO : worker thread finished; awaiting finish of 5 more threads\n",
      "2022-04-18 13:53:51,039 : INFO : worker thread finished; awaiting finish of 4 more threads\n",
      "2022-04-18 13:53:51,057 : INFO : worker thread finished; awaiting finish of 3 more threads\n",
      "2022-04-18 13:53:51,066 : INFO : worker thread finished; awaiting finish of 2 more threads\n",
      "2022-04-18 13:53:51,070 : INFO : worker thread finished; awaiting finish of 1 more threads\n",
      "2022-04-18 13:53:51,077 : INFO : worker thread finished; awaiting finish of 0 more threads\n",
      "2022-04-18 13:53:51,078 : INFO : EPOCH - 12 : training on 9227204 raw words (8222302 effective words) took 16.1s, 510225 effective words/s\n",
      "2022-04-18 13:53:52,101 : INFO : EPOCH 13 - PROGRESS: at 7.82% examples, 638782 words/s, in_qsize 15, out_qsize 0\n",
      "2022-04-18 13:53:53,102 : INFO : EPOCH 13 - PROGRESS: at 17.57% examples, 719465 words/s, in_qsize 15, out_qsize 0\n",
      "2022-04-18 13:53:54,118 : INFO : EPOCH 13 - PROGRESS: at 29.27% examples, 795960 words/s, in_qsize 15, out_qsize 0\n",
      "2022-04-18 13:53:55,121 : INFO : EPOCH 13 - PROGRESS: at 39.86% examples, 814566 words/s, in_qsize 16, out_qsize 0\n",
      "2022-04-18 13:53:56,151 : INFO : EPOCH 13 - PROGRESS: at 48.51% examples, 789509 words/s, in_qsize 14, out_qsize 1\n",
      "2022-04-18 13:53:57,169 : INFO : EPOCH 13 - PROGRESS: at 58.03% examples, 786435 words/s, in_qsize 14, out_qsize 1\n",
      "2022-04-18 13:53:58,210 : INFO : EPOCH 13 - PROGRESS: at 67.02% examples, 775227 words/s, in_qsize 12, out_qsize 3\n",
      "2022-04-18 13:53:59,262 : INFO : EPOCH 13 - PROGRESS: at 75.46% examples, 760401 words/s, in_qsize 14, out_qsize 1\n",
      "2022-04-18 13:54:00,285 : INFO : EPOCH 13 - PROGRESS: at 84.48% examples, 756246 words/s, in_qsize 14, out_qsize 1\n",
      "2022-04-18 13:54:01,286 : INFO : EPOCH 13 - PROGRESS: at 94.25% examples, 760526 words/s, in_qsize 16, out_qsize 0\n",
      "2022-04-18 13:54:01,680 : INFO : worker thread finished; awaiting finish of 7 more threads\n",
      "2022-04-18 13:54:01,695 : INFO : worker thread finished; awaiting finish of 6 more threads\n",
      "2022-04-18 13:54:01,701 : INFO : worker thread finished; awaiting finish of 5 more threads\n",
      "2022-04-18 13:54:01,703 : INFO : worker thread finished; awaiting finish of 4 more threads\n",
      "2022-04-18 13:54:01,706 : INFO : worker thread finished; awaiting finish of 3 more threads\n",
      "2022-04-18 13:54:01,725 : INFO : worker thread finished; awaiting finish of 2 more threads\n",
      "2022-04-18 13:54:01,726 : INFO : worker thread finished; awaiting finish of 1 more threads\n",
      "2022-04-18 13:54:01,727 : INFO : worker thread finished; awaiting finish of 0 more threads\n",
      "2022-04-18 13:54:01,728 : INFO : EPOCH - 13 : training on 9227204 raw words (8222468 effective words) took 10.6s, 773411 effective words/s\n",
      "2022-04-18 13:54:02,769 : INFO : EPOCH 14 - PROGRESS: at 10.75% examples, 864731 words/s, in_qsize 12, out_qsize 3\n",
      "2022-04-18 13:54:03,771 : INFO : EPOCH 14 - PROGRESS: at 23.52% examples, 955749 words/s, in_qsize 15, out_qsize 0\n",
      "2022-04-18 13:54:04,772 : INFO : EPOCH 14 - PROGRESS: at 35.97% examples, 977978 words/s, in_qsize 15, out_qsize 0\n",
      "2022-04-18 13:54:05,773 : INFO : EPOCH 14 - PROGRESS: at 48.19% examples, 984888 words/s, in_qsize 15, out_qsize 0\n",
      "2022-04-18 13:54:06,800 : INFO : EPOCH 14 - PROGRESS: at 59.87% examples, 975360 words/s, in_qsize 15, out_qsize 0\n",
      "2022-04-18 13:54:07,801 : INFO : EPOCH 14 - PROGRESS: at 71.88% examples, 977393 words/s, in_qsize 16, out_qsize 0\n",
      "2022-04-18 13:54:08,809 : INFO : EPOCH 14 - PROGRESS: at 83.83% examples, 976579 words/s, in_qsize 14, out_qsize 1\n",
      "2022-04-18 13:54:09,855 : INFO : EPOCH 14 - PROGRESS: at 94.04% examples, 953765 words/s, in_qsize 15, out_qsize 0\n",
      "2022-04-18 13:54:10,315 : INFO : worker thread finished; awaiting finish of 7 more threads\n",
      "2022-04-18 13:54:10,324 : INFO : worker thread finished; awaiting finish of 6 more threads\n",
      "2022-04-18 13:54:10,333 : INFO : worker thread finished; awaiting finish of 5 more threads\n",
      "2022-04-18 13:54:10,336 : INFO : worker thread finished; awaiting finish of 4 more threads\n",
      "2022-04-18 13:54:10,345 : INFO : worker thread finished; awaiting finish of 3 more threads\n",
      "2022-04-18 13:54:10,348 : INFO : worker thread finished; awaiting finish of 2 more threads\n",
      "2022-04-18 13:54:10,349 : INFO : worker thread finished; awaiting finish of 1 more threads\n",
      "2022-04-18 13:54:10,357 : INFO : worker thread finished; awaiting finish of 0 more threads\n",
      "2022-04-18 13:54:10,359 : INFO : EPOCH - 14 : training on 9227204 raw words (8222643 effective words) took 8.6s, 954928 effective words/s\n",
      "2022-04-18 13:54:11,384 : INFO : EPOCH 15 - PROGRESS: at 8.80% examples, 712963 words/s, in_qsize 15, out_qsize 0\n",
      "2022-04-18 13:54:12,389 : INFO : EPOCH 15 - PROGRESS: at 18.76% examples, 764011 words/s, in_qsize 12, out_qsize 7\n",
      "2022-04-18 13:54:13,392 : INFO : EPOCH 15 - PROGRESS: at 29.48% examples, 802511 words/s, in_qsize 14, out_qsize 1\n",
      "2022-04-18 13:54:14,407 : INFO : EPOCH 15 - PROGRESS: at 39.11% examples, 796978 words/s, in_qsize 13, out_qsize 2\n",
      "2022-04-18 13:54:15,424 : INFO : EPOCH 15 - PROGRESS: at 51.32% examples, 835842 words/s, in_qsize 15, out_qsize 0\n",
      "2022-04-18 13:54:16,426 : INFO : EPOCH 15 - PROGRESS: at 62.68% examples, 852039 words/s, in_qsize 15, out_qsize 0\n",
      "2022-04-18 13:54:17,446 : INFO : EPOCH 15 - PROGRESS: at 74.81% examples, 870240 words/s, in_qsize 14, out_qsize 1\n",
      "2022-04-18 13:54:18,464 : INFO : EPOCH 15 - PROGRESS: at 85.66% examples, 870740 words/s, in_qsize 13, out_qsize 2\n",
      "2022-04-18 13:54:19,469 : INFO : EPOCH 15 - PROGRESS: at 95.55% examples, 863599 words/s, in_qsize 14, out_qsize 1\n"
     ]
    },
    {
     "name": "stderr",
     "output_type": "stream",
     "text": [
      "2022-04-18 13:54:19,778 : INFO : worker thread finished; awaiting finish of 7 more threads\n",
      "2022-04-18 13:54:19,790 : INFO : worker thread finished; awaiting finish of 6 more threads\n",
      "2022-04-18 13:54:19,792 : INFO : worker thread finished; awaiting finish of 5 more threads\n",
      "2022-04-18 13:54:19,796 : INFO : worker thread finished; awaiting finish of 4 more threads\n",
      "2022-04-18 13:54:19,805 : INFO : worker thread finished; awaiting finish of 3 more threads\n",
      "2022-04-18 13:54:19,806 : INFO : worker thread finished; awaiting finish of 2 more threads\n",
      "2022-04-18 13:54:19,820 : INFO : worker thread finished; awaiting finish of 1 more threads\n",
      "2022-04-18 13:54:19,823 : INFO : worker thread finished; awaiting finish of 0 more threads\n",
      "2022-04-18 13:54:19,824 : INFO : EPOCH - 15 : training on 9227204 raw words (8222830 effective words) took 9.5s, 869904 effective words/s\n",
      "2022-04-18 13:54:20,850 : INFO : EPOCH 16 - PROGRESS: at 11.29% examples, 916024 words/s, in_qsize 14, out_qsize 1\n",
      "2022-04-18 13:54:21,855 : INFO : EPOCH 16 - PROGRESS: at 25.26% examples, 1029548 words/s, in_qsize 16, out_qsize 0\n",
      "2022-04-18 13:54:22,857 : INFO : EPOCH 16 - PROGRESS: at 39.54% examples, 1077112 words/s, in_qsize 16, out_qsize 0\n",
      "2022-04-18 13:54:23,860 : INFO : EPOCH 16 - PROGRESS: at 53.81% examples, 1101139 words/s, in_qsize 16, out_qsize 0\n",
      "2022-04-18 13:54:24,861 : INFO : EPOCH 16 - PROGRESS: at 67.23% examples, 1101521 words/s, in_qsize 15, out_qsize 0\n",
      "2022-04-18 13:54:25,885 : INFO : EPOCH 16 - PROGRESS: at 82.10% examples, 1116694 words/s, in_qsize 15, out_qsize 0\n",
      "2022-04-18 13:54:26,890 : INFO : EPOCH 16 - PROGRESS: at 98.57% examples, 1149522 words/s, in_qsize 14, out_qsize 0\n",
      "2022-04-18 13:54:26,922 : INFO : worker thread finished; awaiting finish of 7 more threads\n",
      "2022-04-18 13:54:26,932 : INFO : worker thread finished; awaiting finish of 6 more threads\n",
      "2022-04-18 13:54:26,934 : INFO : worker thread finished; awaiting finish of 5 more threads\n",
      "2022-04-18 13:54:26,937 : INFO : worker thread finished; awaiting finish of 4 more threads\n",
      "2022-04-18 13:54:26,939 : INFO : worker thread finished; awaiting finish of 3 more threads\n",
      "2022-04-18 13:54:26,949 : INFO : worker thread finished; awaiting finish of 2 more threads\n",
      "2022-04-18 13:54:26,950 : INFO : worker thread finished; awaiting finish of 1 more threads\n",
      "2022-04-18 13:54:26,957 : INFO : worker thread finished; awaiting finish of 0 more threads\n",
      "2022-04-18 13:54:26,958 : INFO : EPOCH - 16 : training on 9227204 raw words (8222502 effective words) took 7.1s, 1154880 effective words/s\n",
      "2022-04-18 13:54:27,972 : INFO : EPOCH 17 - PROGRESS: at 14.76% examples, 1208781 words/s, in_qsize 15, out_qsize 0\n",
      "2022-04-18 13:54:29,003 : INFO : EPOCH 17 - PROGRESS: at 24.50% examples, 990222 words/s, in_qsize 14, out_qsize 1\n",
      "2022-04-18 13:54:30,008 : INFO : EPOCH 17 - PROGRESS: at 39.54% examples, 1070443 words/s, in_qsize 16, out_qsize 2\n",
      "2022-04-18 13:54:31,011 : INFO : EPOCH 17 - PROGRESS: at 52.62% examples, 1071427 words/s, in_qsize 14, out_qsize 1\n",
      "2022-04-18 13:54:32,013 : INFO : EPOCH 17 - PROGRESS: at 63.11% examples, 1029918 words/s, in_qsize 13, out_qsize 2\n",
      "2022-04-18 13:54:33,021 : INFO : EPOCH 17 - PROGRESS: at 78.29% examples, 1064474 words/s, in_qsize 15, out_qsize 0\n",
      "2022-04-18 13:54:34,028 : INFO : EPOCH 17 - PROGRESS: at 90.43% examples, 1053868 words/s, in_qsize 15, out_qsize 0\n",
      "2022-04-18 13:54:34,704 : INFO : worker thread finished; awaiting finish of 7 more threads\n",
      "2022-04-18 13:54:34,706 : INFO : worker thread finished; awaiting finish of 6 more threads\n",
      "2022-04-18 13:54:34,707 : INFO : worker thread finished; awaiting finish of 5 more threads\n",
      "2022-04-18 13:54:34,709 : INFO : worker thread finished; awaiting finish of 4 more threads\n",
      "2022-04-18 13:54:34,722 : INFO : worker thread finished; awaiting finish of 3 more threads\n",
      "2022-04-18 13:54:34,724 : INFO : worker thread finished; awaiting finish of 2 more threads\n",
      "2022-04-18 13:54:34,727 : INFO : worker thread finished; awaiting finish of 1 more threads\n",
      "2022-04-18 13:54:34,732 : INFO : worker thread finished; awaiting finish of 0 more threads\n",
      "2022-04-18 13:54:34,733 : INFO : EPOCH - 17 : training on 9227204 raw words (8222423 effective words) took 7.8s, 1059248 effective words/s\n",
      "2022-04-18 13:54:35,759 : INFO : EPOCH 18 - PROGRESS: at 12.39% examples, 1008782 words/s, in_qsize 15, out_qsize 0\n",
      "2022-04-18 13:54:36,776 : INFO : EPOCH 18 - PROGRESS: at 26.34% examples, 1069349 words/s, in_qsize 15, out_qsize 0\n",
      "2022-04-18 13:54:37,785 : INFO : EPOCH 18 - PROGRESS: at 39.33% examples, 1066101 words/s, in_qsize 15, out_qsize 0\n",
      "2022-04-18 13:54:38,788 : INFO : EPOCH 18 - PROGRESS: at 50.78% examples, 1035079 words/s, in_qsize 15, out_qsize 0\n",
      "2022-04-18 13:54:39,791 : INFO : EPOCH 18 - PROGRESS: at 63.65% examples, 1039418 words/s, in_qsize 14, out_qsize 1\n",
      "2022-04-18 13:54:40,804 : INFO : EPOCH 18 - PROGRESS: at 74.80% examples, 1017010 words/s, in_qsize 15, out_qsize 0\n",
      "2022-04-18 13:54:41,811 : INFO : EPOCH 18 - PROGRESS: at 86.86% examples, 1011965 words/s, in_qsize 16, out_qsize 1\n",
      "2022-04-18 13:54:42,823 : INFO : EPOCH 18 - PROGRESS: at 99.01% examples, 1008623 words/s, in_qsize 9, out_qsize 1\n",
      "2022-04-18 13:54:42,839 : INFO : worker thread finished; awaiting finish of 7 more threads\n",
      "2022-04-18 13:54:42,854 : INFO : worker thread finished; awaiting finish of 6 more threads\n",
      "2022-04-18 13:54:42,857 : INFO : worker thread finished; awaiting finish of 5 more threads\n",
      "2022-04-18 13:54:42,860 : INFO : worker thread finished; awaiting finish of 4 more threads\n",
      "2022-04-18 13:54:42,862 : INFO : worker thread finished; awaiting finish of 3 more threads\n",
      "2022-04-18 13:54:42,863 : INFO : worker thread finished; awaiting finish of 2 more threads\n",
      "2022-04-18 13:54:42,881 : INFO : worker thread finished; awaiting finish of 1 more threads\n",
      "2022-04-18 13:54:42,885 : INFO : worker thread finished; awaiting finish of 0 more threads\n",
      "2022-04-18 13:54:42,886 : INFO : EPOCH - 18 : training on 9227204 raw words (8221820 effective words) took 8.1s, 1010814 effective words/s\n",
      "2022-04-18 13:54:43,909 : INFO : EPOCH 19 - PROGRESS: at 11.73% examples, 955413 words/s, in_qsize 13, out_qsize 2\n",
      "2022-04-18 13:54:44,930 : INFO : EPOCH 19 - PROGRESS: at 23.84% examples, 965994 words/s, in_qsize 14, out_qsize 1\n",
      "2022-04-18 13:54:45,932 : INFO : EPOCH 19 - PROGRESS: at 34.68% examples, 940472 words/s, in_qsize 15, out_qsize 0\n",
      "2022-04-18 13:54:46,949 : INFO : EPOCH 19 - PROGRESS: at 45.48% examples, 924406 words/s, in_qsize 14, out_qsize 1\n",
      "2022-04-18 13:54:47,957 : INFO : EPOCH 19 - PROGRESS: at 58.58% examples, 953344 words/s, in_qsize 13, out_qsize 2\n",
      "2022-04-18 13:54:48,958 : INFO : EPOCH 19 - PROGRESS: at 72.53% examples, 985482 words/s, in_qsize 15, out_qsize 0\n",
      "2022-04-18 13:54:49,959 : INFO : EPOCH 19 - PROGRESS: at 86.86% examples, 1012271 words/s, in_qsize 16, out_qsize 0\n",
      "2022-04-18 13:54:50,837 : INFO : worker thread finished; awaiting finish of 7 more threads\n",
      "2022-04-18 13:54:50,839 : INFO : worker thread finished; awaiting finish of 6 more threads\n",
      "2022-04-18 13:54:50,843 : INFO : worker thread finished; awaiting finish of 5 more threads\n",
      "2022-04-18 13:54:50,847 : INFO : worker thread finished; awaiting finish of 4 more threads\n",
      "2022-04-18 13:54:50,848 : INFO : worker thread finished; awaiting finish of 3 more threads\n",
      "2022-04-18 13:54:50,855 : INFO : worker thread finished; awaiting finish of 2 more threads\n",
      "2022-04-18 13:54:50,862 : INFO : worker thread finished; awaiting finish of 1 more threads\n",
      "2022-04-18 13:54:50,870 : INFO : worker thread finished; awaiting finish of 0 more threads\n",
      "2022-04-18 13:54:50,871 : INFO : EPOCH - 19 : training on 9227204 raw words (8223060 effective words) took 8.0s, 1031752 effective words/s\n",
      "2022-04-18 13:54:51,906 : INFO : EPOCH 20 - PROGRESS: at 12.28% examples, 995192 words/s, in_qsize 13, out_qsize 2\n",
      "2022-04-18 13:54:52,911 : INFO : EPOCH 20 - PROGRESS: at 24.94% examples, 1015636 words/s, in_qsize 12, out_qsize 3\n",
      "2022-04-18 13:54:53,927 : INFO : EPOCH 20 - PROGRESS: at 40.51% examples, 1098457 words/s, in_qsize 16, out_qsize 1\n",
      "2022-04-18 13:54:54,932 : INFO : EPOCH 20 - PROGRESS: at 56.40% examples, 1149534 words/s, in_qsize 16, out_qsize 0\n",
      "2022-04-18 13:54:55,935 : INFO : EPOCH 20 - PROGRESS: at 71.57% examples, 1168134 words/s, in_qsize 14, out_qsize 1\n"
     ]
    },
    {
     "name": "stderr",
     "output_type": "stream",
     "text": [
      "2022-04-18 13:54:56,936 : INFO : EPOCH 20 - PROGRESS: at 86.21% examples, 1173533 words/s, in_qsize 14, out_qsize 1\n",
      "2022-04-18 13:54:57,796 : INFO : worker thread finished; awaiting finish of 7 more threads\n",
      "2022-04-18 13:54:57,798 : INFO : worker thread finished; awaiting finish of 6 more threads\n",
      "2022-04-18 13:54:57,804 : INFO : worker thread finished; awaiting finish of 5 more threads\n",
      "2022-04-18 13:54:57,816 : INFO : worker thread finished; awaiting finish of 4 more threads\n",
      "2022-04-18 13:54:57,817 : INFO : worker thread finished; awaiting finish of 3 more threads\n",
      "2022-04-18 13:54:57,818 : INFO : worker thread finished; awaiting finish of 2 more threads\n",
      "2022-04-18 13:54:57,827 : INFO : worker thread finished; awaiting finish of 1 more threads\n",
      "2022-04-18 13:54:57,828 : INFO : worker thread finished; awaiting finish of 0 more threads\n",
      "2022-04-18 13:54:57,829 : INFO : EPOCH - 20 : training on 9227204 raw words (8222764 effective words) took 6.9s, 1185717 effective words/s\n",
      "2022-04-18 13:54:58,869 : INFO : EPOCH 21 - PROGRESS: at 14.43% examples, 1165633 words/s, in_qsize 14, out_qsize 1\n",
      "2022-04-18 13:54:59,870 : INFO : EPOCH 21 - PROGRESS: at 28.50% examples, 1161290 words/s, in_qsize 16, out_qsize 0\n",
      "2022-04-18 13:55:00,890 : INFO : EPOCH 21 - PROGRESS: at 43.11% examples, 1166857 words/s, in_qsize 14, out_qsize 1\n",
      "2022-04-18 13:55:01,902 : INFO : EPOCH 21 - PROGRESS: at 58.58% examples, 1189927 words/s, in_qsize 13, out_qsize 2\n",
      "2022-04-18 13:55:02,923 : INFO : EPOCH 21 - PROGRESS: at 73.30% examples, 1189261 words/s, in_qsize 14, out_qsize 1\n",
      "2022-04-18 13:55:03,930 : INFO : EPOCH 21 - PROGRESS: at 87.29% examples, 1181127 words/s, in_qsize 14, out_qsize 1\n",
      "2022-04-18 13:55:04,709 : INFO : worker thread finished; awaiting finish of 7 more threads\n",
      "2022-04-18 13:55:04,711 : INFO : worker thread finished; awaiting finish of 6 more threads\n",
      "2022-04-18 13:55:04,715 : INFO : worker thread finished; awaiting finish of 5 more threads\n",
      "2022-04-18 13:55:04,726 : INFO : worker thread finished; awaiting finish of 4 more threads\n",
      "2022-04-18 13:55:04,729 : INFO : worker thread finished; awaiting finish of 3 more threads\n",
      "2022-04-18 13:55:04,730 : INFO : worker thread finished; awaiting finish of 2 more threads\n",
      "2022-04-18 13:55:04,736 : INFO : worker thread finished; awaiting finish of 1 more threads\n",
      "2022-04-18 13:55:04,743 : INFO : worker thread finished; awaiting finish of 0 more threads\n",
      "2022-04-18 13:55:04,744 : INFO : EPOCH - 21 : training on 9227204 raw words (8222143 effective words) took 6.9s, 1193043 effective words/s\n",
      "2022-04-18 13:55:05,757 : INFO : EPOCH 22 - PROGRESS: at 13.47% examples, 1103837 words/s, in_qsize 13, out_qsize 2\n",
      "2022-04-18 13:55:06,776 : INFO : EPOCH 22 - PROGRESS: at 28.40% examples, 1155656 words/s, in_qsize 14, out_qsize 1\n",
      "2022-04-18 13:55:07,781 : INFO : EPOCH 22 - PROGRESS: at 42.89% examples, 1166223 words/s, in_qsize 15, out_qsize 0\n",
      "2022-04-18 13:55:08,802 : INFO : EPOCH 22 - PROGRESS: at 56.08% examples, 1140562 words/s, in_qsize 15, out_qsize 0\n",
      "2022-04-18 13:55:09,841 : INFO : EPOCH 22 - PROGRESS: at 67.99% examples, 1100073 words/s, in_qsize 16, out_qsize 1\n",
      "2022-04-18 13:55:10,849 : INFO : EPOCH 22 - PROGRESS: at 80.03% examples, 1080422 words/s, in_qsize 13, out_qsize 1\n",
      "2022-04-18 13:55:11,879 : INFO : EPOCH 22 - PROGRESS: at 94.90% examples, 1095401 words/s, in_qsize 14, out_qsize 1\n",
      "2022-04-18 13:55:12,161 : INFO : worker thread finished; awaiting finish of 7 more threads\n",
      "2022-04-18 13:55:12,163 : INFO : worker thread finished; awaiting finish of 6 more threads\n",
      "2022-04-18 13:55:12,164 : INFO : worker thread finished; awaiting finish of 5 more threads\n",
      "2022-04-18 13:55:12,166 : INFO : worker thread finished; awaiting finish of 4 more threads\n",
      "2022-04-18 13:55:12,176 : INFO : worker thread finished; awaiting finish of 3 more threads\n",
      "2022-04-18 13:55:12,181 : INFO : worker thread finished; awaiting finish of 2 more threads\n",
      "2022-04-18 13:55:12,185 : INFO : worker thread finished; awaiting finish of 1 more threads\n",
      "2022-04-18 13:55:12,195 : INFO : worker thread finished; awaiting finish of 0 more threads\n",
      "2022-04-18 13:55:12,196 : INFO : EPOCH - 22 : training on 9227204 raw words (8222038 effective words) took 7.4s, 1105088 effective words/s\n",
      "2022-04-18 13:55:13,215 : INFO : EPOCH 23 - PROGRESS: at 13.90% examples, 1133842 words/s, in_qsize 13, out_qsize 2\n",
      "2022-04-18 13:55:14,228 : INFO : EPOCH 23 - PROGRESS: at 27.86% examples, 1133988 words/s, in_qsize 15, out_qsize 0\n",
      "2022-04-18 13:55:15,234 : INFO : EPOCH 23 - PROGRESS: at 43.11% examples, 1172319 words/s, in_qsize 15, out_qsize 0\n",
      "2022-04-18 13:55:16,246 : INFO : EPOCH 23 - PROGRESS: at 57.92% examples, 1180890 words/s, in_qsize 16, out_qsize 1\n",
      "2022-04-18 13:55:17,252 : INFO : EPOCH 23 - PROGRESS: at 72.21% examples, 1178464 words/s, in_qsize 15, out_qsize 0\n",
      "2022-04-18 13:55:18,271 : INFO : EPOCH 23 - PROGRESS: at 86.75% examples, 1177137 words/s, in_qsize 13, out_qsize 2\n",
      "2022-04-18 13:55:19,158 : INFO : worker thread finished; awaiting finish of 7 more threads\n",
      "2022-04-18 13:55:19,168 : INFO : worker thread finished; awaiting finish of 6 more threads\n",
      "2022-04-18 13:55:19,171 : INFO : worker thread finished; awaiting finish of 5 more threads\n",
      "2022-04-18 13:55:19,176 : INFO : worker thread finished; awaiting finish of 4 more threads\n",
      "2022-04-18 13:55:19,182 : INFO : worker thread finished; awaiting finish of 3 more threads\n",
      "2022-04-18 13:55:19,189 : INFO : worker thread finished; awaiting finish of 2 more threads\n",
      "2022-04-18 13:55:19,192 : INFO : worker thread finished; awaiting finish of 1 more threads\n",
      "2022-04-18 13:55:19,200 : INFO : worker thread finished; awaiting finish of 0 more threads\n",
      "2022-04-18 13:55:19,202 : INFO : EPOCH - 23 : training on 9227204 raw words (8222273 effective words) took 7.0s, 1175800 effective words/s\n",
      "2022-04-18 13:55:20,222 : INFO : EPOCH 24 - PROGRESS: at 12.93% examples, 1057276 words/s, in_qsize 15, out_qsize 0\n",
      "2022-04-18 13:55:21,224 : INFO : EPOCH 24 - PROGRESS: at 27.86% examples, 1142265 words/s, in_qsize 16, out_qsize 0\n",
      "2022-04-18 13:55:22,225 : INFO : EPOCH 24 - PROGRESS: at 43.43% examples, 1188406 words/s, in_qsize 15, out_qsize 0\n",
      "2022-04-18 13:55:23,239 : INFO : EPOCH 24 - PROGRESS: at 60.09% examples, 1230203 words/s, in_qsize 15, out_qsize 2\n",
      "2022-04-18 13:55:24,242 : INFO : EPOCH 24 - PROGRESS: at 75.35% examples, 1234264 words/s, in_qsize 16, out_qsize 1\n",
      "2022-04-18 13:55:25,247 : INFO : EPOCH 24 - PROGRESS: at 90.65% examples, 1236884 words/s, in_qsize 13, out_qsize 2\n",
      "2022-04-18 13:55:25,765 : INFO : worker thread finished; awaiting finish of 7 more threads\n",
      "2022-04-18 13:55:25,767 : INFO : worker thread finished; awaiting finish of 6 more threads\n",
      "2022-04-18 13:55:25,772 : INFO : worker thread finished; awaiting finish of 5 more threads\n",
      "2022-04-18 13:55:25,784 : INFO : worker thread finished; awaiting finish of 4 more threads\n",
      "2022-04-18 13:55:25,786 : INFO : worker thread finished; awaiting finish of 3 more threads\n",
      "2022-04-18 13:55:25,788 : INFO : worker thread finished; awaiting finish of 2 more threads\n",
      "2022-04-18 13:55:25,801 : INFO : worker thread finished; awaiting finish of 1 more threads\n",
      "2022-04-18 13:55:25,804 : INFO : worker thread finished; awaiting finish of 0 more threads\n",
      "2022-04-18 13:55:25,806 : INFO : EPOCH - 24 : training on 9227204 raw words (8221710 effective words) took 6.6s, 1248258 effective words/s\n",
      "2022-04-18 13:55:26,825 : INFO : EPOCH 25 - PROGRESS: at 15.95% examples, 1304547 words/s, in_qsize 15, out_qsize 0\n",
      "2022-04-18 13:55:27,836 : INFO : EPOCH 25 - PROGRESS: at 32.62% examples, 1330999 words/s, in_qsize 15, out_qsize 0\n",
      "2022-04-18 13:55:28,846 : INFO : EPOCH 25 - PROGRESS: at 49.81% examples, 1354828 words/s, in_qsize 14, out_qsize 1\n",
      "2022-04-18 13:55:29,866 : INFO : EPOCH 25 - PROGRESS: at 67.02% examples, 1363166 words/s, in_qsize 15, out_qsize 0\n",
      "2022-04-18 13:55:30,871 : INFO : EPOCH 25 - PROGRESS: at 84.05% examples, 1368816 words/s, in_qsize 13, out_qsize 2\n",
      "2022-04-18 13:55:31,760 : INFO : worker thread finished; awaiting finish of 7 more threads\n",
      "2022-04-18 13:55:31,762 : INFO : worker thread finished; awaiting finish of 6 more threads\n",
      "2022-04-18 13:55:31,764 : INFO : worker thread finished; awaiting finish of 5 more threads\n"
     ]
    },
    {
     "name": "stderr",
     "output_type": "stream",
     "text": [
      "2022-04-18 13:55:31,765 : INFO : worker thread finished; awaiting finish of 4 more threads\n",
      "2022-04-18 13:55:31,776 : INFO : worker thread finished; awaiting finish of 3 more threads\n",
      "2022-04-18 13:55:31,778 : INFO : worker thread finished; awaiting finish of 2 more threads\n",
      "2022-04-18 13:55:31,780 : INFO : worker thread finished; awaiting finish of 1 more threads\n",
      "2022-04-18 13:55:31,787 : INFO : worker thread finished; awaiting finish of 0 more threads\n",
      "2022-04-18 13:55:31,787 : INFO : EPOCH - 25 : training on 9227204 raw words (8222711 effective words) took 6.0s, 1378118 effective words/s\n",
      "2022-04-18 13:55:32,814 : INFO : EPOCH 26 - PROGRESS: at 14.97% examples, 1213586 words/s, in_qsize 15, out_qsize 0\n",
      "2022-04-18 13:55:33,819 : INFO : EPOCH 26 - PROGRESS: at 29.70% examples, 1209804 words/s, in_qsize 14, out_qsize 1\n",
      "2022-04-18 13:55:34,826 : INFO : EPOCH 26 - PROGRESS: at 46.13% examples, 1254546 words/s, in_qsize 15, out_qsize 0\n",
      "2022-04-18 13:55:35,843 : INFO : EPOCH 26 - PROGRESS: at 61.50% examples, 1251922 words/s, in_qsize 15, out_qsize 0\n",
      "2022-04-18 13:55:36,863 : INFO : EPOCH 26 - PROGRESS: at 77.86% examples, 1265354 words/s, in_qsize 15, out_qsize 0\n",
      "2022-04-18 13:55:37,870 : INFO : EPOCH 26 - PROGRESS: at 93.59% examples, 1268086 words/s, in_qsize 14, out_qsize 1\n",
      "2022-04-18 13:55:38,213 : INFO : worker thread finished; awaiting finish of 7 more threads\n",
      "2022-04-18 13:55:38,215 : INFO : worker thread finished; awaiting finish of 6 more threads\n",
      "2022-04-18 13:55:38,219 : INFO : worker thread finished; awaiting finish of 5 more threads\n",
      "2022-04-18 13:55:38,231 : INFO : worker thread finished; awaiting finish of 4 more threads\n",
      "2022-04-18 13:55:38,235 : INFO : worker thread finished; awaiting finish of 3 more threads\n",
      "2022-04-18 13:55:38,238 : INFO : worker thread finished; awaiting finish of 2 more threads\n",
      "2022-04-18 13:55:38,243 : INFO : worker thread finished; awaiting finish of 1 more threads\n",
      "2022-04-18 13:55:38,255 : INFO : worker thread finished; awaiting finish of 0 more threads\n",
      "2022-04-18 13:55:38,257 : INFO : EPOCH - 26 : training on 9227204 raw words (8222762 effective words) took 6.5s, 1273553 effective words/s\n",
      "2022-04-18 13:55:39,296 : INFO : EPOCH 27 - PROGRESS: at 13.14% examples, 1065663 words/s, in_qsize 15, out_qsize 0\n",
      "2022-04-18 13:55:40,311 : INFO : EPOCH 27 - PROGRESS: at 26.45% examples, 1072095 words/s, in_qsize 15, out_qsize 0\n",
      "2022-04-18 13:55:41,315 : INFO : EPOCH 27 - PROGRESS: at 41.91% examples, 1137450 words/s, in_qsize 13, out_qsize 2\n",
      "2022-04-18 13:55:42,317 : INFO : EPOCH 27 - PROGRESS: at 56.62% examples, 1155240 words/s, in_qsize 15, out_qsize 0\n",
      "2022-04-18 13:55:43,331 : INFO : EPOCH 27 - PROGRESS: at 72.21% examples, 1177237 words/s, in_qsize 15, out_qsize 0\n",
      "2022-04-18 13:55:44,335 : INFO : EPOCH 27 - PROGRESS: at 87.51% examples, 1189389 words/s, in_qsize 14, out_qsize 1\n",
      "2022-04-18 13:55:45,071 : INFO : worker thread finished; awaiting finish of 7 more threads\n",
      "2022-04-18 13:55:45,085 : INFO : worker thread finished; awaiting finish of 6 more threads\n",
      "2022-04-18 13:55:45,090 : INFO : worker thread finished; awaiting finish of 5 more threads\n",
      "2022-04-18 13:55:45,091 : INFO : worker thread finished; awaiting finish of 4 more threads\n",
      "2022-04-18 13:55:45,093 : INFO : worker thread finished; awaiting finish of 3 more threads\n",
      "2022-04-18 13:55:45,102 : INFO : worker thread finished; awaiting finish of 2 more threads\n",
      "2022-04-18 13:55:45,103 : INFO : worker thread finished; awaiting finish of 1 more threads\n",
      "2022-04-18 13:55:45,113 : INFO : worker thread finished; awaiting finish of 0 more threads\n",
      "2022-04-18 13:55:45,114 : INFO : EPOCH - 27 : training on 9227204 raw words (8221740 effective words) took 6.8s, 1203782 effective words/s\n",
      "2022-04-18 13:55:46,137 : INFO : EPOCH 28 - PROGRESS: at 11.51% examples, 936338 words/s, in_qsize 15, out_qsize 0\n",
      "2022-04-18 13:55:47,139 : INFO : EPOCH 28 - PROGRESS: at 25.48% examples, 1041058 words/s, in_qsize 16, out_qsize 5\n",
      "2022-04-18 13:55:48,146 : INFO : EPOCH 28 - PROGRESS: at 39.97% examples, 1089298 words/s, in_qsize 15, out_qsize 0\n",
      "2022-04-18 13:55:49,148 : INFO : EPOCH 28 - PROGRESS: at 52.51% examples, 1074966 words/s, in_qsize 15, out_qsize 0\n",
      "2022-04-18 13:55:50,152 : INFO : EPOCH 28 - PROGRESS: at 61.60% examples, 1009075 words/s, in_qsize 14, out_qsize 1\n",
      "2022-04-18 13:55:51,169 : INFO : EPOCH 28 - PROGRESS: at 69.39% examples, 945347 words/s, in_qsize 15, out_qsize 0\n",
      "2022-04-18 13:55:52,193 : INFO : EPOCH 28 - PROGRESS: at 79.16% examples, 921757 words/s, in_qsize 16, out_qsize 0\n",
      "2022-04-18 13:55:53,194 : INFO : EPOCH 28 - PROGRESS: at 89.45% examples, 912230 words/s, in_qsize 15, out_qsize 0\n",
      "2022-04-18 13:55:53,873 : INFO : worker thread finished; awaiting finish of 7 more threads\n",
      "2022-04-18 13:55:53,876 : INFO : worker thread finished; awaiting finish of 6 more threads\n",
      "2022-04-18 13:55:53,895 : INFO : worker thread finished; awaiting finish of 5 more threads\n",
      "2022-04-18 13:55:53,903 : INFO : worker thread finished; awaiting finish of 4 more threads\n",
      "2022-04-18 13:55:53,905 : INFO : worker thread finished; awaiting finish of 3 more threads\n",
      "2022-04-18 13:55:53,906 : INFO : worker thread finished; awaiting finish of 2 more threads\n",
      "2022-04-18 13:55:53,908 : INFO : worker thread finished; awaiting finish of 1 more threads\n",
      "2022-04-18 13:55:53,911 : INFO : worker thread finished; awaiting finish of 0 more threads\n",
      "2022-04-18 13:55:53,913 : INFO : EPOCH - 28 : training on 9227204 raw words (8222431 effective words) took 8.8s, 935941 effective words/s\n",
      "2022-04-18 13:55:54,942 : INFO : EPOCH 29 - PROGRESS: at 11.40% examples, 927191 words/s, in_qsize 16, out_qsize 0\n",
      "2022-04-18 13:55:55,972 : INFO : EPOCH 29 - PROGRESS: at 18.76% examples, 755729 words/s, in_qsize 13, out_qsize 2\n",
      "2022-04-18 13:55:56,978 : INFO : EPOCH 29 - PROGRESS: at 31.97% examples, 862847 words/s, in_qsize 15, out_qsize 0\n",
      "2022-04-18 13:55:57,986 : INFO : EPOCH 29 - PROGRESS: at 39.22% examples, 795444 words/s, in_qsize 13, out_qsize 2\n",
      "2022-04-18 13:55:58,990 : INFO : EPOCH 29 - PROGRESS: at 48.40% examples, 787264 words/s, in_qsize 14, out_qsize 1\n",
      "2022-04-18 13:56:00,010 : INFO : EPOCH 29 - PROGRESS: at 57.71% examples, 781324 words/s, in_qsize 12, out_qsize 3\n",
      "2022-04-18 13:56:01,082 : INFO : EPOCH 29 - PROGRESS: at 67.34% examples, 775039 words/s, in_qsize 12, out_qsize 3\n",
      "2022-04-18 13:56:02,094 : INFO : EPOCH 29 - PROGRESS: at 77.96% examples, 785887 words/s, in_qsize 15, out_qsize 0\n",
      "2022-04-18 13:56:03,125 : INFO : EPOCH 29 - PROGRESS: at 87.18% examples, 780083 words/s, in_qsize 16, out_qsize 0\n",
      "2022-04-18 13:56:04,007 : INFO : worker thread finished; awaiting finish of 7 more threads\n",
      "2022-04-18 13:56:04,009 : INFO : worker thread finished; awaiting finish of 6 more threads\n",
      "2022-04-18 13:56:04,011 : INFO : worker thread finished; awaiting finish of 5 more threads\n",
      "2022-04-18 13:56:04,012 : INFO : worker thread finished; awaiting finish of 4 more threads\n",
      "2022-04-18 13:56:04,020 : INFO : worker thread finished; awaiting finish of 3 more threads\n",
      "2022-04-18 13:56:04,029 : INFO : worker thread finished; awaiting finish of 2 more threads\n",
      "2022-04-18 13:56:04,029 : INFO : worker thread finished; awaiting finish of 1 more threads\n",
      "2022-04-18 13:56:04,034 : INFO : worker thread finished; awaiting finish of 0 more threads\n",
      "2022-04-18 13:56:04,035 : INFO : EPOCH - 29 : training on 9227204 raw words (8222091 effective words) took 10.1s, 813892 effective words/s\n",
      "2022-04-18 13:56:05,052 : INFO : EPOCH 30 - PROGRESS: at 14.33% examples, 1171912 words/s, in_qsize 15, out_qsize 0\n",
      "2022-04-18 13:56:06,067 : INFO : EPOCH 30 - PROGRESS: at 27.32% examples, 1111718 words/s, in_qsize 15, out_qsize 0\n",
      "2022-04-18 13:56:07,092 : INFO : EPOCH 30 - PROGRESS: at 43.32% examples, 1170500 words/s, in_qsize 16, out_qsize 2\n",
      "2022-04-18 13:56:08,095 : INFO : EPOCH 30 - PROGRESS: at 59.01% examples, 1199963 words/s, in_qsize 16, out_qsize 1\n",
      "2022-04-18 13:56:09,096 : INFO : EPOCH 30 - PROGRESS: at 74.92% examples, 1221265 words/s, in_qsize 16, out_qsize 0\n",
      "2022-04-18 13:56:10,099 : INFO : EPOCH 30 - PROGRESS: at 90.98% examples, 1236657 words/s, in_qsize 15, out_qsize 0\n",
      "2022-04-18 13:56:10,598 : INFO : worker thread finished; awaiting finish of 7 more threads\n"
     ]
    },
    {
     "name": "stderr",
     "output_type": "stream",
     "text": [
      "2022-04-18 13:56:10,611 : INFO : worker thread finished; awaiting finish of 6 more threads\n",
      "2022-04-18 13:56:10,613 : INFO : worker thread finished; awaiting finish of 5 more threads\n",
      "2022-04-18 13:56:10,614 : INFO : worker thread finished; awaiting finish of 4 more threads\n",
      "2022-04-18 13:56:10,615 : INFO : worker thread finished; awaiting finish of 3 more threads\n",
      "2022-04-18 13:56:10,625 : INFO : worker thread finished; awaiting finish of 2 more threads\n",
      "2022-04-18 13:56:10,626 : INFO : worker thread finished; awaiting finish of 1 more threads\n",
      "2022-04-18 13:56:10,632 : INFO : worker thread finished; awaiting finish of 0 more threads\n",
      "2022-04-18 13:56:10,633 : INFO : EPOCH - 30 : training on 9227204 raw words (8223131 effective words) took 6.6s, 1248817 effective words/s\n",
      "2022-04-18 13:56:11,645 : INFO : EPOCH 31 - PROGRESS: at 16.16% examples, 1325986 words/s, in_qsize 15, out_qsize 0\n",
      "2022-04-18 13:56:12,647 : INFO : EPOCH 31 - PROGRESS: at 33.16% examples, 1360868 words/s, in_qsize 15, out_qsize 0\n",
      "2022-04-18 13:56:13,651 : INFO : EPOCH 31 - PROGRESS: at 48.40% examples, 1324505 words/s, in_qsize 13, out_qsize 2\n",
      "2022-04-18 13:56:14,657 : INFO : EPOCH 31 - PROGRESS: at 63.43% examples, 1301307 words/s, in_qsize 14, out_qsize 2\n",
      "2022-04-18 13:56:15,667 : INFO : EPOCH 31 - PROGRESS: at 79.38% examples, 1300310 words/s, in_qsize 14, out_qsize 1\n",
      "2022-04-18 13:56:16,679 : INFO : EPOCH 31 - PROGRESS: at 96.63% examples, 1316697 words/s, in_qsize 15, out_qsize 0\n",
      "2022-04-18 13:56:16,827 : INFO : worker thread finished; awaiting finish of 7 more threads\n",
      "2022-04-18 13:56:16,830 : INFO : worker thread finished; awaiting finish of 6 more threads\n",
      "2022-04-18 13:56:16,832 : INFO : worker thread finished; awaiting finish of 5 more threads\n",
      "2022-04-18 13:56:16,833 : INFO : worker thread finished; awaiting finish of 4 more threads\n",
      "2022-04-18 13:56:16,842 : INFO : worker thread finished; awaiting finish of 3 more threads\n",
      "2022-04-18 13:56:16,843 : INFO : worker thread finished; awaiting finish of 2 more threads\n",
      "2022-04-18 13:56:16,852 : INFO : worker thread finished; awaiting finish of 1 more threads\n",
      "2022-04-18 13:56:16,853 : INFO : worker thread finished; awaiting finish of 0 more threads\n",
      "2022-04-18 13:56:16,854 : INFO : EPOCH - 31 : training on 9227204 raw words (8223547 effective words) took 6.2s, 1324336 effective words/s\n",
      "2022-04-18 13:56:17,867 : INFO : EPOCH 32 - PROGRESS: at 15.30% examples, 1254436 words/s, in_qsize 15, out_qsize 0\n",
      "2022-04-18 13:56:18,868 : INFO : EPOCH 32 - PROGRESS: at 31.32% examples, 1286224 words/s, in_qsize 13, out_qsize 4\n",
      "2022-04-18 13:56:19,899 : INFO : EPOCH 32 - PROGRESS: at 44.94% examples, 1218956 words/s, in_qsize 15, out_qsize 0\n",
      "2022-04-18 13:56:20,900 : INFO : EPOCH 32 - PROGRESS: at 59.01% examples, 1203793 words/s, in_qsize 15, out_qsize 0\n",
      "2022-04-18 13:56:21,918 : INFO : EPOCH 32 - PROGRESS: at 74.05% examples, 1206193 words/s, in_qsize 14, out_qsize 1\n",
      "2022-04-18 13:56:22,922 : INFO : EPOCH 32 - PROGRESS: at 87.40% examples, 1187107 words/s, in_qsize 15, out_qsize 0\n",
      "2022-04-18 13:56:23,811 : INFO : worker thread finished; awaiting finish of 7 more threads\n",
      "2022-04-18 13:56:23,821 : INFO : worker thread finished; awaiting finish of 6 more threads\n",
      "2022-04-18 13:56:23,834 : INFO : worker thread finished; awaiting finish of 5 more threads\n",
      "2022-04-18 13:56:23,844 : INFO : worker thread finished; awaiting finish of 4 more threads\n",
      "2022-04-18 13:56:23,861 : INFO : worker thread finished; awaiting finish of 3 more threads\n",
      "2022-04-18 13:56:23,863 : INFO : worker thread finished; awaiting finish of 2 more threads\n",
      "2022-04-18 13:56:23,867 : INFO : worker thread finished; awaiting finish of 1 more threads\n",
      "2022-04-18 13:56:23,869 : INFO : worker thread finished; awaiting finish of 0 more threads\n",
      "2022-04-18 13:56:23,871 : INFO : EPOCH - 32 : training on 9227204 raw words (8222493 effective words) took 7.0s, 1173704 effective words/s\n",
      "2022-04-18 13:56:23,876 : INFO : Word2Vec lifecycle event {'msg': 'training on 295270528 raw words (263121545 effective words) took 242.1s, 1086895 effective words/s', 'datetime': '2022-04-18T13:56:23.876033', 'gensim': '4.1.2', 'python': '3.7.10 (default, Feb 26 2021, 10:16:00) \\n[Clang 10.0.0 ]', 'platform': 'Darwin-21.3.0-x86_64-i386-64bit', 'event': 'train'}\n"
     ]
    },
    {
     "name": "stdout",
     "output_type": "stream",
     "text": [
      "CPU times: user 17min 27s, sys: 13.5 s, total: 17min 41s\n",
      "Wall time: 4min 2s\n"
     ]
    },
    {
     "data": {
      "text/plain": [
       "(263121545, 295270528)"
      ]
     },
     "execution_count": 23,
     "metadata": {},
     "output_type": "execute_result"
    }
   ],
   "source": [
    "%%time\n",
    "w2v_model.train(documents, total_examples=len(documents), epochs=W2V_EPOCH)"
   ]
  },
  {
   "cell_type": "code",
   "execution_count": 27,
   "id": "14d307a2",
   "metadata": {
    "ExecuteTime": {
     "end_time": "2022-04-18T12:57:21.504391Z",
     "start_time": "2022-04-18T12:57:21.494679Z"
    }
   },
   "outputs": [
    {
     "data": {
      "text/plain": [
       "[('hates', 0.5546269416809082),\n",
       " ('sucks', 0.48955845832824707),\n",
       " ('dislike', 0.487255722284317),\n",
       " ('stupid', 0.47296908497810364),\n",
       " ('suck', 0.4653506875038147),\n",
       " ('hating', 0.4363325834274292),\n",
       " ('despise', 0.43234485387802124),\n",
       " ('h8', 0.4300643801689148),\n",
       " ('ugh', 0.41833963990211487),\n",
       " ('annoying', 0.3964358866214752)]"
      ]
     },
     "execution_count": 27,
     "metadata": {},
     "output_type": "execute_result"
    }
   ],
   "source": [
    "w2v_model.wv.most_similar(\"hate\")"
   ]
  },
  {
   "cell_type": "markdown",
   "id": "e59922b1",
   "metadata": {},
   "source": [
    "# Tokenize Text"
   ]
  },
  {
   "cell_type": "code",
   "execution_count": 28,
   "id": "1a3d239e",
   "metadata": {
    "ExecuteTime": {
     "end_time": "2022-04-18T12:57:52.366640Z",
     "start_time": "2022-04-18T12:57:34.761719Z"
    }
   },
   "outputs": [
    {
     "name": "stdout",
     "output_type": "stream",
     "text": [
      "Total words 290419\n",
      "CPU times: user 17 s, sys: 305 ms, total: 17.3 s\n",
      "Wall time: 17.6 s\n"
     ]
    }
   ],
   "source": [
    "%%time\n",
    "tokenizer = Tokenizer()\n",
    "tokenizer.fit_on_texts(df_train.text)\n",
    "\n",
    "vocab_size = len(tokenizer.word_index) + 1\n",
    "print(\"Total words\", vocab_size)"
   ]
  },
  {
   "cell_type": "code",
   "execution_count": 29,
   "id": "2d7cbfd9",
   "metadata": {
    "ExecuteTime": {
     "end_time": "2022-04-18T12:58:14.642404Z",
     "start_time": "2022-04-18T12:57:54.253305Z"
    }
   },
   "outputs": [
    {
     "name": "stdout",
     "output_type": "stream",
     "text": [
      "CPU times: user 19.5 s, sys: 724 ms, total: 20.3 s\n",
      "Wall time: 20.4 s\n"
     ]
    }
   ],
   "source": [
    "%%time\n",
    "x_train = pad_sequences(tokenizer.texts_to_sequences(df_train.text), maxlen=SEQUENCE_LENGTH)\n",
    "x_test = pad_sequences(tokenizer.texts_to_sequences(df_test.text), maxlen=SEQUENCE_LENGTH)"
   ]
  },
  {
   "cell_type": "markdown",
   "id": "37c73072",
   "metadata": {},
   "source": [
    "# Label Encoder"
   ]
  },
  {
   "cell_type": "code",
   "execution_count": 30,
   "id": "1d873adc",
   "metadata": {
    "ExecuteTime": {
     "end_time": "2022-04-18T12:58:41.460491Z",
     "start_time": "2022-04-18T12:58:41.391177Z"
    }
   },
   "outputs": [
    {
     "data": {
      "text/plain": [
       "['POSITIVE', 'NEGATIVE', 'NEUTRAL']"
      ]
     },
     "execution_count": 30,
     "metadata": {},
     "output_type": "execute_result"
    }
   ],
   "source": [
    "labels = df_train.target.unique().tolist()\n",
    "labels.append(NEUTRAL)\n",
    "labels"
   ]
  },
  {
   "cell_type": "code",
   "execution_count": 31,
   "id": "6bb218d6",
   "metadata": {
    "ExecuteTime": {
     "end_time": "2022-04-18T12:59:21.745832Z",
     "start_time": "2022-04-18T12:59:20.463013Z"
    }
   },
   "outputs": [
    {
     "name": "stdout",
     "output_type": "stream",
     "text": [
      "y_train (1280000, 1)\n",
      "y_test (320000, 1)\n"
     ]
    }
   ],
   "source": [
    "encoder = LabelEncoder()\n",
    "encoder.fit(df_train.target.tolist())\n",
    "\n",
    "y_train = encoder.transform(df_train.target.tolist())\n",
    "y_test = encoder.transform(df_test.target.tolist())\n",
    "\n",
    "y_train = y_train.reshape(-1,1)\n",
    "y_test = y_test.reshape(-1,1)\n",
    "\n",
    "print(\"y_train\",y_train.shape)\n",
    "print(\"y_test\",y_test.shape)"
   ]
  },
  {
   "cell_type": "code",
   "execution_count": 32,
   "id": "5ca2ce6a",
   "metadata": {
    "ExecuteTime": {
     "end_time": "2022-04-18T12:59:28.332842Z",
     "start_time": "2022-04-18T12:59:28.326606Z"
    }
   },
   "outputs": [
    {
     "name": "stdout",
     "output_type": "stream",
     "text": [
      "x_train (1280000, 300)\n",
      "y_train (1280000, 1)\n",
      "\n",
      "x_test (320000, 300)\n",
      "y_test (320000, 1)\n"
     ]
    }
   ],
   "source": [
    "print(\"x_train\", x_train.shape)\n",
    "print(\"y_train\", y_train.shape)\n",
    "print()\n",
    "print(\"x_test\", x_test.shape)\n",
    "print(\"y_test\", y_test.shape)"
   ]
  },
  {
   "cell_type": "markdown",
   "id": "c05f253b",
   "metadata": {},
   "source": [
    "# Embedding layer"
   ]
  },
  {
   "cell_type": "code",
   "execution_count": 33,
   "id": "09ba7b8b",
   "metadata": {
    "ExecuteTime": {
     "end_time": "2022-04-18T13:00:30.950264Z",
     "start_time": "2022-04-18T13:00:30.582484Z"
    }
   },
   "outputs": [
    {
     "name": "stdout",
     "output_type": "stream",
     "text": [
      "(290419, 300)\n"
     ]
    }
   ],
   "source": [
    "embedding_matrix = np.zeros((vocab_size, W2V_SIZE))\n",
    "for word, i in tokenizer.word_index.items():\n",
    "    if word in w2v_model.wv:\n",
    "        embedding_matrix[i] = w2v_model.wv[word]\n",
    "print(embedding_matrix.shape)\n"
   ]
  },
  {
   "cell_type": "code",
   "execution_count": 34,
   "id": "0bfff18c",
   "metadata": {
    "ExecuteTime": {
     "end_time": "2022-04-18T13:00:56.710885Z",
     "start_time": "2022-04-18T13:00:56.701250Z"
    }
   },
   "outputs": [],
   "source": [
    "embedding_layer = Embedding(vocab_size, \n",
    "                            W2V_SIZE, \n",
    "                            weights=[embedding_matrix], \n",
    "                            input_length=SEQUENCE_LENGTH, \n",
    "                            trainable=False)"
   ]
  },
  {
   "cell_type": "markdown",
   "id": "4c3735ab",
   "metadata": {},
   "source": [
    "# Build Model"
   ]
  },
  {
   "cell_type": "code",
   "execution_count": 35,
   "id": "b2fa30b7",
   "metadata": {
    "ExecuteTime": {
     "end_time": "2022-04-18T13:01:39.106503Z",
     "start_time": "2022-04-18T13:01:37.963802Z"
    }
   },
   "outputs": [
    {
     "name": "stdout",
     "output_type": "stream",
     "text": [
      "Model: \"sequential\"\n",
      "_________________________________________________________________\n",
      " Layer (type)                Output Shape              Param #   \n",
      "=================================================================\n",
      " embedding (Embedding)       (None, 300, 300)          87125700  \n",
      "                                                                 \n",
      " dropout (Dropout)           (None, 300, 300)          0         \n",
      "                                                                 \n",
      " lstm (LSTM)                 (None, 100)               160400    \n",
      "                                                                 \n",
      " dense (Dense)               (None, 1)                 101       \n",
      "                                                                 \n",
      "=================================================================\n",
      "Total params: 87,286,201\n",
      "Trainable params: 160,501\n",
      "Non-trainable params: 87,125,700\n",
      "_________________________________________________________________\n"
     ]
    }
   ],
   "source": [
    "model = Sequential()\n",
    "model.add(embedding_layer)\n",
    "model.add(Dropout(0.5))\n",
    "model.add(LSTM(100, dropout=0.2, recurrent_dropout=0.2))\n",
    "model.add(Dense(1, activation='sigmoid'))\n",
    "\n",
    "model.summary()"
   ]
  },
  {
   "cell_type": "markdown",
   "id": "75ac6645",
   "metadata": {},
   "source": [
    "# Compile model"
   ]
  },
  {
   "cell_type": "code",
   "execution_count": 36,
   "id": "2a567928",
   "metadata": {
    "ExecuteTime": {
     "end_time": "2022-04-18T13:02:04.348679Z",
     "start_time": "2022-04-18T13:02:04.331656Z"
    }
   },
   "outputs": [],
   "source": [
    "model.compile(loss='binary_crossentropy',\n",
    "              optimizer=\"adam\",\n",
    "              metrics=['accuracy'])"
   ]
  },
  {
   "cell_type": "markdown",
   "id": "2b6d2e75",
   "metadata": {},
   "source": [
    "# Callbacks"
   ]
  },
  {
   "cell_type": "code",
   "execution_count": 54,
   "id": "6358d297",
   "metadata": {
    "ExecuteTime": {
     "end_time": "2022-04-18T13:21:30.399370Z",
     "start_time": "2022-04-18T13:21:30.392936Z"
    }
   },
   "outputs": [],
   "source": [
    "callbacks = [ReduceLROnPlateau(monitor='val_loss', patience=5, cooldown=0),\n",
    "             EarlyStopping(monitor='val_accuracy', min_delta=1e-4, patience=5)]"
   ]
  },
  {
   "cell_type": "markdown",
   "id": "59c78bef",
   "metadata": {},
   "source": [
    "# Train"
   ]
  },
  {
   "cell_type": "code",
   "execution_count": 55,
   "id": "bf8516b4",
   "metadata": {
    "ExecuteTime": {
     "end_time": "2022-04-18T13:45:42.087947Z",
     "start_time": "2022-04-18T13:45:41.968060Z"
    }
   },
   "outputs": [
    {
     "ename": "TypeError",
     "evalue": "'NoneType' object is not callable",
     "output_type": "error",
     "traceback": [
      "\u001b[0;31m---------------------------------------------------------------------------\u001b[0m",
      "\u001b[0;31mTypeError\u001b[0m                                 Traceback (most recent call last)",
      "\u001b[0;32m<timed exec>\u001b[0m in \u001b[0;36m<module>\u001b[0;34m\u001b[0m\n",
      "\u001b[0;32m~/opt/anaconda3/lib/python3.7/site-packages/keras/utils/traceback_utils.py\u001b[0m in \u001b[0;36merror_handler\u001b[0;34m(*args, **kwargs)\u001b[0m\n\u001b[1;32m     65\u001b[0m     \u001b[0;32mexcept\u001b[0m \u001b[0mException\u001b[0m \u001b[0;32mas\u001b[0m \u001b[0me\u001b[0m\u001b[0;34m:\u001b[0m  \u001b[0;31m# pylint: disable=broad-except\u001b[0m\u001b[0;34m\u001b[0m\u001b[0;34m\u001b[0m\u001b[0m\n\u001b[1;32m     66\u001b[0m       \u001b[0mfiltered_tb\u001b[0m \u001b[0;34m=\u001b[0m \u001b[0m_process_traceback_frames\u001b[0m\u001b[0;34m(\u001b[0m\u001b[0me\u001b[0m\u001b[0;34m.\u001b[0m\u001b[0m__traceback__\u001b[0m\u001b[0;34m)\u001b[0m\u001b[0;34m\u001b[0m\u001b[0;34m\u001b[0m\u001b[0m\n\u001b[0;32m---> 67\u001b[0;31m       \u001b[0;32mraise\u001b[0m \u001b[0me\u001b[0m\u001b[0;34m.\u001b[0m\u001b[0mwith_traceback\u001b[0m\u001b[0;34m(\u001b[0m\u001b[0mfiltered_tb\u001b[0m\u001b[0;34m)\u001b[0m \u001b[0;32mfrom\u001b[0m \u001b[0;32mNone\u001b[0m\u001b[0;34m\u001b[0m\u001b[0;34m\u001b[0m\u001b[0m\n\u001b[0m\u001b[1;32m     68\u001b[0m     \u001b[0;32mfinally\u001b[0m\u001b[0;34m:\u001b[0m\u001b[0;34m\u001b[0m\u001b[0;34m\u001b[0m\u001b[0m\n\u001b[1;32m     69\u001b[0m       \u001b[0;32mdel\u001b[0m \u001b[0mfiltered_tb\u001b[0m\u001b[0;34m\u001b[0m\u001b[0;34m\u001b[0m\u001b[0m\n",
      "\u001b[0;32m~/opt/anaconda3/lib/python3.7/site-packages/tensorflow/python/eager/def_function.py\u001b[0m in \u001b[0;36m_call\u001b[0;34m(self, *args, **kwds)\u001b[0m\n\u001b[1;32m    940\u001b[0m       \u001b[0;31m# In this case we have created variables on the first call, so we run the\u001b[0m\u001b[0;34m\u001b[0m\u001b[0;34m\u001b[0m\u001b[0;34m\u001b[0m\u001b[0m\n\u001b[1;32m    941\u001b[0m       \u001b[0;31m# defunned version which is guaranteed to never create variables.\u001b[0m\u001b[0;34m\u001b[0m\u001b[0;34m\u001b[0m\u001b[0;34m\u001b[0m\u001b[0m\n\u001b[0;32m--> 942\u001b[0;31m       \u001b[0;32mreturn\u001b[0m \u001b[0mself\u001b[0m\u001b[0;34m.\u001b[0m\u001b[0m_stateless_fn\u001b[0m\u001b[0;34m(\u001b[0m\u001b[0;34m*\u001b[0m\u001b[0margs\u001b[0m\u001b[0;34m,\u001b[0m \u001b[0;34m**\u001b[0m\u001b[0mkwds\u001b[0m\u001b[0;34m)\u001b[0m  \u001b[0;31m# pylint: disable=not-callable\u001b[0m\u001b[0;34m\u001b[0m\u001b[0;34m\u001b[0m\u001b[0m\n\u001b[0m\u001b[1;32m    943\u001b[0m     \u001b[0;32melif\u001b[0m \u001b[0mself\u001b[0m\u001b[0;34m.\u001b[0m\u001b[0m_stateful_fn\u001b[0m \u001b[0;32mis\u001b[0m \u001b[0;32mnot\u001b[0m \u001b[0;32mNone\u001b[0m\u001b[0;34m:\u001b[0m\u001b[0;34m\u001b[0m\u001b[0;34m\u001b[0m\u001b[0m\n\u001b[1;32m    944\u001b[0m       \u001b[0;31m# Release the lock early so that multiple threads can perform the call\u001b[0m\u001b[0;34m\u001b[0m\u001b[0;34m\u001b[0m\u001b[0;34m\u001b[0m\u001b[0m\n",
      "\u001b[0;31mTypeError\u001b[0m: 'NoneType' object is not callable"
     ]
    }
   ],
   "source": [
    "%%time\n",
    "history = model.fit(x_train, y_train,\n",
    "                    batch_size=BATCH_SIZE,\n",
    "                    epochs=EPOCHS,\n",
    "                    validation_split=0.1,\n",
    "                    verbose=1,\n",
    "                    callbacks=callbacks)"
   ]
  },
  {
   "cell_type": "code",
   "execution_count": null,
   "id": "28853d13",
   "metadata": {},
   "outputs": [],
   "source": []
  },
  {
   "cell_type": "code",
   "execution_count": null,
   "id": "504cd7ba",
   "metadata": {},
   "outputs": [],
   "source": []
  },
  {
   "cell_type": "code",
   "execution_count": null,
   "id": "82391059",
   "metadata": {},
   "outputs": [],
   "source": []
  }
 ],
 "metadata": {
  "kernelspec": {
   "display_name": "Python 3",
   "language": "python",
   "name": "python3"
  },
  "language_info": {
   "codemirror_mode": {
    "name": "ipython",
    "version": 3
   },
   "file_extension": ".py",
   "mimetype": "text/x-python",
   "name": "python",
   "nbconvert_exporter": "python",
   "pygments_lexer": "ipython3",
   "version": "3.7.10"
  },
  "toc": {
   "base_numbering": 1,
   "nav_menu": {},
   "number_sections": true,
   "sideBar": true,
   "skip_h1_title": false,
   "title_cell": "Table of Contents",
   "title_sidebar": "Contents",
   "toc_cell": false,
   "toc_position": {},
   "toc_section_display": true,
   "toc_window_display": false
  },
  "varInspector": {
   "cols": {
    "lenName": 16,
    "lenType": 16,
    "lenVar": 40
   },
   "kernels_config": {
    "python": {
     "delete_cmd_postfix": "",
     "delete_cmd_prefix": "del ",
     "library": "var_list.py",
     "varRefreshCmd": "print(var_dic_list())"
    },
    "r": {
     "delete_cmd_postfix": ") ",
     "delete_cmd_prefix": "rm(",
     "library": "var_list.r",
     "varRefreshCmd": "cat(var_dic_list()) "
    }
   },
   "position": {
    "height": "144.844px",
    "left": "938.091px",
    "right": "20px",
    "top": "120px",
    "width": "350px"
   },
   "types_to_exclude": [
    "module",
    "function",
    "builtin_function_or_method",
    "instance",
    "_Feature"
   ],
   "window_display": false
  }
 },
 "nbformat": 4,
 "nbformat_minor": 5
}

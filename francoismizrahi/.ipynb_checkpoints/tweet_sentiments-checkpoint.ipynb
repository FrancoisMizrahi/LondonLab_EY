{
 "cells": [
  {
   "cell_type": "code",
   "execution_count": null,
   "id": "42cc46bc",
   "metadata": {
    "ExecuteTime": {
     "end_time": "2022-05-17T12:48:59.894205Z",
     "start_time": "2022-05-17T12:48:56.779251Z"
    }
   },
   "outputs": [],
   "source": [
    "import pandas as pd\n",
    "from datetime import datetime\n",
    "import glob\n",
    "import os\n",
    "from matplotlib import pyplot as plt\n",
    "from scipy import stats"
   ]
  },
  {
   "cell_type": "code",
   "execution_count": null,
   "id": "6e104476",
   "metadata": {
    "ExecuteTime": {
     "end_time": "2022-05-17T12:42:22.152113Z",
     "start_time": "2022-05-17T12:42:20.768836Z"
    }
   },
   "outputs": [],
   "source": [
    "path = r'/Users/francoismizrahi/Documents/LBS/Courses/London Lab/data/clean_tweets/'\n",
    "all_files = glob.glob(os.path.join(path, \"*.csv\"))\n",
    "\n",
    "df = pd.concat((pd.read_csv(f) for f in all_files))"
   ]
  },
  {
   "cell_type": "code",
   "execution_count": null,
   "id": "811ee498",
   "metadata": {
    "ExecuteTime": {
     "end_time": "2022-05-17T12:42:23.897186Z",
     "start_time": "2022-05-17T12:42:22.183515Z"
    }
   },
   "outputs": [],
   "source": [
    "df.drop_duplicates(subset=['Tweet Id'], inplace=True)\n",
    "df.sort_values(by=['Datetime'], inplace = True)\n",
    "df = df.reset_index().drop(columns=[\"index\", \"Unnamed: 0\", \"Unnamed: 0.1\"])\n",
    "df['date'] = pd.to_datetime(df['Datetime']).dt.date\n",
    "df['week'] = pd.to_datetime(df['Datetime']).dt.isocalendar().week\n",
    "df['month'] = pd.to_datetime(df['Datetime']).dt.month\n",
    "df['Text'] = df['Text'].astype('str')"
   ]
  },
  {
   "cell_type": "code",
   "execution_count": null,
   "id": "29810a3a",
   "metadata": {
    "ExecuteTime": {
     "end_time": "2022-05-17T12:42:23.936952Z",
     "start_time": "2022-05-17T12:42:23.932188Z"
    }
   },
   "outputs": [],
   "source": [
    "len(df)"
   ]
  },
  {
   "cell_type": "code",
   "execution_count": null,
   "id": "097faa53",
   "metadata": {
    "ExecuteTime": {
     "end_time": "2022-05-17T12:42:23.977770Z",
     "start_time": "2022-05-17T12:42:23.962113Z"
    }
   },
   "outputs": [],
   "source": [
    "df.head()"
   ]
  },
  {
   "cell_type": "code",
   "execution_count": null,
   "id": "77cc0e5b",
   "metadata": {
    "ExecuteTime": {
     "end_time": "2022-05-17T12:42:24.163789Z",
     "start_time": "2022-05-17T12:42:24.029366Z"
    }
   },
   "outputs": [],
   "source": [
    "df_group = df.groupby(['date']).mean()"
   ]
  },
  {
   "cell_type": "code",
   "execution_count": null,
   "id": "08fdf0e4",
   "metadata": {
    "ExecuteTime": {
     "end_time": "2022-05-17T13:08:02.831174Z",
     "start_time": "2022-05-17T13:08:02.622486Z"
    }
   },
   "outputs": [],
   "source": [
    "plt.figure(figsize=(15, 10))\n",
    "plt.plot(df_group.score, marker='o', alpha=0.4)"
   ]
  },
  {
   "cell_type": "code",
   "execution_count": null,
   "id": "811472db",
   "metadata": {
    "ExecuteTime": {
     "end_time": "2022-05-17T12:42:24.411030Z",
     "start_time": "2022-05-17T12:42:24.405496Z"
    }
   },
   "outputs": [],
   "source": [
    "rolling = df_group.rolling(30).mean().score[30:]"
   ]
  },
  {
   "cell_type": "code",
   "execution_count": null,
   "id": "7346a426",
   "metadata": {
    "ExecuteTime": {
     "end_time": "2022-05-17T13:08:13.060849Z",
     "start_time": "2022-05-17T13:08:12.824236Z"
    }
   },
   "outputs": [],
   "source": [
    "plt.figure(figsize=(15, 10))\n",
    "plt.plot(rolling, marker='o', alpha=0.4)\n",
    "plt.axvspan(datetime.strptime(\"2018-03-01\", '%Y-%m-%d').date(),datetime.strptime(\"2018-04-01\", '%Y-%m-%d').date(), color= \"red\", alpha=0.2)\n"
   ]
  },
  {
   "cell_type": "code",
   "execution_count": null,
   "id": "aedb8165",
   "metadata": {
    "ExecuteTime": {
     "end_time": "2022-05-17T12:42:24.711700Z",
     "start_time": "2022-05-17T12:42:24.632028Z"
    }
   },
   "outputs": [],
   "source": [
    "df_months_before = df[(df[\"date\"] < datetime.strptime(\"2018-03-01\", '%Y-%m-%d').date())]\n",
    "df_months_after = df[(df[\"date\"] >= datetime.strptime(\"2018-03-01\", '%Y-%m-%d').date()) & (df[\"date\"] < datetime.strptime(\"2018-04-01\", '%Y-%m-%d').date())]\n"
   ]
  },
  {
   "cell_type": "code",
   "execution_count": null,
   "id": "c9854c38",
   "metadata": {
    "ExecuteTime": {
     "end_time": "2022-05-17T12:42:24.799015Z",
     "start_time": "2022-05-17T12:42:24.790525Z"
    }
   },
   "outputs": [],
   "source": [
    "df_months_before.score.mean()"
   ]
  },
  {
   "cell_type": "code",
   "execution_count": null,
   "id": "8f464d40",
   "metadata": {
    "ExecuteTime": {
     "end_time": "2022-05-17T12:42:24.888153Z",
     "start_time": "2022-05-17T12:42:24.884865Z"
    }
   },
   "outputs": [],
   "source": [
    "df_months_after.score.mean()"
   ]
  },
  {
   "cell_type": "code",
   "execution_count": null,
   "id": "f07f14d0",
   "metadata": {
    "ExecuteTime": {
     "end_time": "2022-05-17T12:42:24.958611Z",
     "start_time": "2022-05-17T12:42:24.953277Z"
    }
   },
   "outputs": [],
   "source": [
    "(df_months_after.score.mean()-df_months_before.score.mean())/df_months_before.score.mean()*100"
   ]
  },
  {
   "cell_type": "code",
   "execution_count": null,
   "id": "a74d2bdb",
   "metadata": {
    "ExecuteTime": {
     "end_time": "2022-05-17T13:03:07.871819Z",
     "start_time": "2022-05-17T13:03:07.865096Z"
    }
   },
   "outputs": [],
   "source": [
    "stat, p = stats.ttest_ind(df_months_after.score, df_months_before.score)"
   ]
  },
  {
   "cell_type": "code",
   "execution_count": null,
   "id": "030b237e",
   "metadata": {
    "ExecuteTime": {
     "end_time": "2022-05-17T13:04:18.636484Z",
     "start_time": "2022-05-17T13:04:18.633575Z"
    }
   },
   "outputs": [],
   "source": [
    "print(f\"p-value of: {p}\")\n",
    "print(f\"t-stat of: {stat}\")"
   ]
  },
  {
   "cell_type": "markdown",
   "id": "8e8771a8",
   "metadata": {},
   "source": [
    "## Cambridge Analytica"
   ]
  },
  {
   "cell_type": "code",
   "execution_count": null,
   "id": "ef9b4fc1",
   "metadata": {
    "ExecuteTime": {
     "end_time": "2022-05-17T14:16:14.607005Z",
     "start_time": "2022-05-17T14:16:14.221256Z"
    }
   },
   "outputs": [],
   "source": [
    "plt.figure(figsize=(15, 10))\n",
    "df.groupby(df[\"week\"]).count().month.plot(kind=\"bar\", alpha=0.4)"
   ]
  },
  {
   "cell_type": "code",
   "execution_count": null,
   "id": "6bf16065",
   "metadata": {
    "ExecuteTime": {
     "end_time": "2022-05-17T14:16:21.382066Z",
     "start_time": "2022-05-17T14:16:20.297963Z"
    }
   },
   "outputs": [],
   "source": [
    "plt.figure(figsize=(15, 10))\n",
    "df.groupby(df[df['Text'].str.contains('Cambridge Analytica', case=False)][\"week\"]).count().month.plot(kind=\"bar\", alpha=0.4)\n"
   ]
  },
  {
   "cell_type": "code",
   "execution_count": null,
   "id": "aa3b2241",
   "metadata": {
    "ExecuteTime": {
     "end_time": "2022-05-17T14:49:20.038191Z",
     "start_time": "2022-05-17T14:49:19.339690Z"
    }
   },
   "outputs": [],
   "source": [
    "len(df[df['Text'].str.contains('Cambridge Analytica', case=False)])/len(df)*100"
   ]
  },
  {
   "cell_type": "code",
   "execution_count": null,
   "id": "cada458e",
   "metadata": {
    "ExecuteTime": {
     "end_time": "2022-05-17T15:02:37.709955Z",
     "start_time": "2022-05-17T15:02:36.575003Z"
    }
   },
   "outputs": [],
   "source": [
    "# Names of group and bar width\n",
    "barWidth = 1\n",
    "plt.figure(figsize=(15, 10))\n",
    "\n",
    "r = list(range(1,32))\n",
    "bar1 = df.groupby(df[\"week\"]).count().month\n",
    "bar2 = df.groupby(df[df['Text'].str.contains('Cambridge Analytica', case=False)][\"week\"]).count().month\n",
    "# Create brown bars\n",
    "plt.bar(r, bar1, color='blue', edgecolor='white', width=barWidth, alpha=0.4)\n",
    "# Create green bars (middle), on top of the first ones\n",
    "plt.bar(r, bar2, color='red', edgecolor='white', width=barWidth)\n",
    " \n",
    "# Custom X axis\n",
    "plt.xlabel(\"group\")\n",
    " \n",
    "# Show graphic\n",
    "plt.show()"
   ]
  },
  {
   "cell_type": "code",
   "execution_count": null,
   "id": "8e5d2d81",
   "metadata": {},
   "outputs": [],
   "source": []
  }
 ],
 "metadata": {
  "kernelspec": {
   "display_name": "Python 3",
   "language": "python",
   "name": "python3"
  },
  "language_info": {
   "codemirror_mode": {
    "name": "ipython",
    "version": 3
   },
   "file_extension": ".py",
   "mimetype": "text/x-python",
   "name": "python",
   "nbconvert_exporter": "python",
   "pygments_lexer": "ipython3",
   "version": "3.7.10"
  },
  "toc": {
   "base_numbering": 1,
   "nav_menu": {},
   "number_sections": true,
   "sideBar": true,
   "skip_h1_title": false,
   "title_cell": "Table of Contents",
   "title_sidebar": "Contents",
   "toc_cell": false,
   "toc_position": {},
   "toc_section_display": true,
   "toc_window_display": false
  },
  "varInspector": {
   "cols": {
    "lenName": 16,
    "lenType": 16,
    "lenVar": 40
   },
   "kernels_config": {
    "python": {
     "delete_cmd_postfix": "",
     "delete_cmd_prefix": "del ",
     "library": "var_list.py",
     "varRefreshCmd": "print(var_dic_list())"
    },
    "r": {
     "delete_cmd_postfix": ") ",
     "delete_cmd_prefix": "rm(",
     "library": "var_list.r",
     "varRefreshCmd": "cat(var_dic_list()) "
    }
   },
   "types_to_exclude": [
    "module",
    "function",
    "builtin_function_or_method",
    "instance",
    "_Feature"
   ],
   "window_display": false
  }
 },
 "nbformat": 4,
 "nbformat_minor": 5
}

{
 "cells": [
  {
   "cell_type": "code",
   "execution_count": null,
   "id": "42cc46bc",
   "metadata": {
    "ExecuteTime": {
     "end_time": "2022-05-06T08:51:35.905232Z",
     "start_time": "2022-05-06T08:51:35.900727Z"
    }
   },
   "outputs": [],
   "source": [
    "import pandas as pd\n",
    "from datetime import datetime\n",
    "import glob\n",
    "import os\n",
    "from matplotlib import pyplot as plt"
   ]
  },
  {
   "cell_type": "code",
   "execution_count": null,
   "id": "6e104476",
   "metadata": {
    "ExecuteTime": {
     "end_time": "2022-05-06T08:49:00.421600Z",
     "start_time": "2022-05-06T08:48:59.173270Z"
    }
   },
   "outputs": [],
   "source": [
    "path = r'/Users/francoismizrahi/Documents/LBS/Courses/London Lab/data/clean_tweets/'\n",
    "all_files = glob.glob(os.path.join(path, \"*.csv\"))\n",
    "\n",
    "df = pd.concat((pd.read_csv(f) for f in all_files))"
   ]
  },
  {
   "cell_type": "code",
   "execution_count": null,
   "id": "811ee498",
   "metadata": {
    "ExecuteTime": {
     "end_time": "2022-05-06T08:49:02.027110Z",
     "start_time": "2022-05-06T08:49:00.502082Z"
    }
   },
   "outputs": [],
   "source": [
    "df.drop_duplicates(subset=['Tweet Id'], inplace=True)\n",
    "df.sort_values(by=['Datetime'], inplace = True)\n",
    "df = df.reset_index().drop(columns=[\"index\", \"Unnamed: 0\", \"Unnamed: 0.1\"])\n",
    "df['date'] = pd.to_datetime(df['Datetime']).dt.date\n",
    "df['week'] = pd.to_datetime(df['Datetime']).dt.isocalendar().week\n",
    "df['month'] = pd.to_datetime(df['Datetime']).dt.month"
   ]
  },
  {
   "cell_type": "code",
   "execution_count": null,
   "id": "29810a3a",
   "metadata": {
    "ExecuteTime": {
     "end_time": "2022-05-06T09:11:08.959782Z",
     "start_time": "2022-05-06T09:11:08.952706Z"
    }
   },
   "outputs": [],
   "source": [
    "len(df)"
   ]
  },
  {
   "cell_type": "code",
   "execution_count": null,
   "id": "097faa53",
   "metadata": {
    "ExecuteTime": {
     "end_time": "2022-05-06T08:49:02.080095Z",
     "start_time": "2022-05-06T08:49:02.068372Z"
    }
   },
   "outputs": [],
   "source": [
    "df.head()"
   ]
  },
  {
   "cell_type": "code",
   "execution_count": null,
   "id": "77cc0e5b",
   "metadata": {
    "ExecuteTime": {
     "end_time": "2022-05-06T08:54:15.413834Z",
     "start_time": "2022-05-06T08:54:15.338217Z"
    }
   },
   "outputs": [],
   "source": [
    "df_group = df.groupby(['date']).mean()"
   ]
  },
  {
   "cell_type": "code",
   "execution_count": null,
   "id": "08fdf0e4",
   "metadata": {
    "ExecuteTime": {
     "end_time": "2022-05-06T08:54:16.296682Z",
     "start_time": "2022-05-06T08:54:16.156345Z"
    }
   },
   "outputs": [],
   "source": [
    "plt.plot(df_group.score, marker='o', alpha=0.4)"
   ]
  },
  {
   "cell_type": "code",
   "execution_count": null,
   "id": "811472db",
   "metadata": {
    "ExecuteTime": {
     "end_time": "2022-05-06T09:22:52.577340Z",
     "start_time": "2022-05-06T09:22:52.571125Z"
    }
   },
   "outputs": [],
   "source": [
    "rolling = df_group.rolling(30).mean().score[30:]"
   ]
  },
  {
   "cell_type": "code",
   "execution_count": null,
   "id": "7346a426",
   "metadata": {
    "ExecuteTime": {
     "end_time": "2022-05-06T09:22:53.005158Z",
     "start_time": "2022-05-06T09:22:52.848274Z"
    }
   },
   "outputs": [],
   "source": [
    "plt.plot(rolling, marker='o', alpha=0.4)\n",
    "plt.axvspan(datetime.strptime(\"2018-03-01\", '%Y-%m-%d').date(),datetime.strptime(\"2018-04-01\", '%Y-%m-%d').date(), color= \"red\", alpha=0.2)\n"
   ]
  },
  {
   "cell_type": "code",
   "execution_count": null,
   "id": "aedb8165",
   "metadata": {
    "ExecuteTime": {
     "end_time": "2022-05-06T09:22:02.410531Z",
     "start_time": "2022-05-06T09:22:02.318937Z"
    }
   },
   "outputs": [],
   "source": [
    "df_months_before = df[(df[\"date\"] < datetime.strptime(\"2018-03-01\", '%Y-%m-%d').date())]\n",
    "df_months_after = df[(df[\"date\"] >= datetime.strptime(\"2018-03-01\", '%Y-%m-%d').date()) & (df[\"date\"] < datetime.strptime(\"2018-04-01\", '%Y-%m-%d').date())]\n"
   ]
  },
  {
   "cell_type": "code",
   "execution_count": null,
   "id": "c9854c38",
   "metadata": {
    "ExecuteTime": {
     "end_time": "2022-05-06T09:16:43.623643Z",
     "start_time": "2022-05-06T09:16:43.618214Z"
    }
   },
   "outputs": [],
   "source": [
    "df_months_before.score.mean()"
   ]
  },
  {
   "cell_type": "code",
   "execution_count": null,
   "id": "8f464d40",
   "metadata": {
    "ExecuteTime": {
     "end_time": "2022-05-06T09:16:44.208702Z",
     "start_time": "2022-05-06T09:16:44.201349Z"
    }
   },
   "outputs": [],
   "source": [
    "df_months_after.score.mean()"
   ]
  },
  {
   "cell_type": "code",
   "execution_count": null,
   "id": "f07f14d0",
   "metadata": {
    "ExecuteTime": {
     "end_time": "2022-05-06T09:16:44.799369Z",
     "start_time": "2022-05-06T09:16:44.788068Z"
    }
   },
   "outputs": [],
   "source": [
    "(df_months_after.score.mean()-df_months_before.score.mean())/df_months_before.score.mean()*100"
   ]
  },
  {
   "cell_type": "code",
   "execution_count": null,
   "id": "ed3ec32c",
   "metadata": {},
   "outputs": [],
   "source": []
  }
 ],
 "metadata": {
  "kernelspec": {
   "display_name": "Python 3",
   "language": "python",
   "name": "python3"
  },
  "language_info": {
   "codemirror_mode": {
    "name": "ipython",
    "version": 3
   },
   "file_extension": ".py",
   "mimetype": "text/x-python",
   "name": "python",
   "nbconvert_exporter": "python",
   "pygments_lexer": "ipython3",
   "version": "3.7.10"
  },
  "toc": {
   "base_numbering": 1,
   "nav_menu": {},
   "number_sections": true,
   "sideBar": true,
   "skip_h1_title": false,
   "title_cell": "Table of Contents",
   "title_sidebar": "Contents",
   "toc_cell": false,
   "toc_position": {},
   "toc_section_display": true,
   "toc_window_display": false
  },
  "varInspector": {
   "cols": {
    "lenName": 16,
    "lenType": 16,
    "lenVar": 40
   },
   "kernels_config": {
    "python": {
     "delete_cmd_postfix": "",
     "delete_cmd_prefix": "del ",
     "library": "var_list.py",
     "varRefreshCmd": "print(var_dic_list())"
    },
    "r": {
     "delete_cmd_postfix": ") ",
     "delete_cmd_prefix": "rm(",
     "library": "var_list.r",
     "varRefreshCmd": "cat(var_dic_list()) "
    }
   },
   "types_to_exclude": [
    "module",
    "function",
    "builtin_function_or_method",
    "instance",
    "_Feature"
   ],
   "window_display": false
  }
 },
 "nbformat": 4,
 "nbformat_minor": 5
}

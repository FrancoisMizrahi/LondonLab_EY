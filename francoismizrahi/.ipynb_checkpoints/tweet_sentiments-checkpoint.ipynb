{
 "cells": [
  {
   "cell_type": "code",
   "execution_count": 91,
   "id": "42cc46bc",
   "metadata": {
    "ExecuteTime": {
     "end_time": "2022-05-05T15:55:16.015238Z",
     "start_time": "2022-05-05T15:55:16.011563Z"
    }
   },
   "outputs": [],
   "source": [
    "import pandas as pd\n",
    "from datetime import datetime"
   ]
  },
  {
   "cell_type": "code",
   "execution_count": 92,
   "id": "ad35d7c6",
   "metadata": {
    "ExecuteTime": {
     "end_time": "2022-05-05T15:55:16.664486Z",
     "start_time": "2022-05-05T15:55:16.355423Z"
    }
   },
   "outputs": [],
   "source": [
    "df1 = pd.read_csv(\"/Users/francoismizrahi/Documents/LBS/Courses/London Lab/data/clean_tweets/clean_eng_facebook_data_2018-05-01_2018-05-31.csv\")\n",
    "df2 = pd.read_csv(\"/Users/francoismizrahi/Documents/LBS/Courses/London Lab/data/clean_tweets/clean_eng_facebook_data_2018-05-31_2018-06-30.csv\")\n",
    "df3 = pd.read_csv(\"/Users/francoismizrahi/Documents/LBS/Courses/London Lab/data/clean_tweets/clean_eng_facebook_data_2018-06-30_2018-07-30.csv\")\n",
    "df4 = pd.read_csv(\"/Users/francoismizrahi/Documents/LBS/Courses/London Lab/data/clean_tweets/clean_eng_facebook_data_2018-07-30_2018-08-01.csv\")\n"
   ]
  },
  {
   "cell_type": "code",
   "execution_count": 93,
   "id": "daaa074c",
   "metadata": {
    "ExecuteTime": {
     "end_time": "2022-05-05T15:55:17.118641Z",
     "start_time": "2022-05-05T15:55:17.093296Z"
    }
   },
   "outputs": [],
   "source": [
    "df = pd.concat([df1, df2, df3, df4])"
   ]
  },
  {
   "cell_type": "code",
   "execution_count": 94,
   "id": "811ee498",
   "metadata": {
    "ExecuteTime": {
     "end_time": "2022-05-05T15:55:17.962229Z",
     "start_time": "2022-05-05T15:55:17.737969Z"
    }
   },
   "outputs": [],
   "source": [
    "df.drop_duplicates(subset=['Tweet Id'], inplace=True)\n",
    "df.sort_values(by=['Datetime'], inplace = True)\n",
    "df = df.reset_index().drop(columns=[\"index\", \"Unnamed: 0\", \"Unnamed: 0.1\"])\n",
    "df['week'] = pd.to_datetime(df['Datetime']).dt.isocalendar().week "
   ]
  },
  {
   "cell_type": "code",
   "execution_count": 95,
   "id": "097faa53",
   "metadata": {
    "ExecuteTime": {
     "end_time": "2022-05-05T15:55:18.561236Z",
     "start_time": "2022-05-05T15:55:18.549016Z"
    }
   },
   "outputs": [
    {
     "data": {
      "text/html": [
       "<div>\n",
       "<style scoped>\n",
       "    .dataframe tbody tr th:only-of-type {\n",
       "        vertical-align: middle;\n",
       "    }\n",
       "\n",
       "    .dataframe tbody tr th {\n",
       "        vertical-align: top;\n",
       "    }\n",
       "\n",
       "    .dataframe thead th {\n",
       "        text-align: right;\n",
       "    }\n",
       "</style>\n",
       "<table border=\"1\" class=\"dataframe\">\n",
       "  <thead>\n",
       "    <tr style=\"text-align: right;\">\n",
       "      <th></th>\n",
       "      <th>Datetime</th>\n",
       "      <th>Tweet Id</th>\n",
       "      <th>Text</th>\n",
       "      <th>label</th>\n",
       "      <th>score</th>\n",
       "      <th>elapsed_time</th>\n",
       "      <th>week</th>\n",
       "    </tr>\n",
       "  </thead>\n",
       "  <tbody>\n",
       "    <tr>\n",
       "      <th>0</th>\n",
       "      <td>2018-05-01 00:00:12+00:00</td>\n",
       "      <td>9.911050e+17</td>\n",
       "      <td>whatsapp co founder leaving facebook board ami...</td>\n",
       "      <td>NEGATIVE</td>\n",
       "      <td>0.345260</td>\n",
       "      <td>4562.433628</td>\n",
       "      <td>18</td>\n",
       "    </tr>\n",
       "    <tr>\n",
       "      <th>1</th>\n",
       "      <td>2018-05-01 00:00:17+00:00</td>\n",
       "      <td>9.911050e+17</td>\n",
       "      <td>recent data breach long term negative impact f...</td>\n",
       "      <td>POSITIVE</td>\n",
       "      <td>0.725424</td>\n",
       "      <td>4562.330658</td>\n",
       "      <td>18</td>\n",
       "    </tr>\n",
       "    <tr>\n",
       "      <th>2</th>\n",
       "      <td>2018-05-01 00:00:42+00:00</td>\n",
       "      <td>9.911051e+17</td>\n",
       "      <td>whatsapp co founder jan koum leave facebook di...</td>\n",
       "      <td>POSITIVE</td>\n",
       "      <td>0.813729</td>\n",
       "      <td>4562.248483</td>\n",
       "      <td>18</td>\n",
       "    </tr>\n",
       "    <tr>\n",
       "      <th>3</th>\n",
       "      <td>2018-05-01 00:00:55+00:00</td>\n",
       "      <td>9.911051e+17</td>\n",
       "      <td>comes weeks mark zuckerberg swore senate whats...</td>\n",
       "      <td>NEUTRAL</td>\n",
       "      <td>0.495435</td>\n",
       "      <td>4562.167813</td>\n",
       "      <td>18</td>\n",
       "    </tr>\n",
       "    <tr>\n",
       "      <th>4</th>\n",
       "      <td>2018-05-01 00:00:58+00:00</td>\n",
       "      <td>9.911052e+17</td>\n",
       "      <td>facebook data dispute reportedly prompts whats...</td>\n",
       "      <td>NEUTRAL</td>\n",
       "      <td>0.487239</td>\n",
       "      <td>4562.059065</td>\n",
       "      <td>18</td>\n",
       "    </tr>\n",
       "  </tbody>\n",
       "</table>\n",
       "</div>"
      ],
      "text/plain": [
       "                    Datetime      Tweet Id  \\\n",
       "0  2018-05-01 00:00:12+00:00  9.911050e+17   \n",
       "1  2018-05-01 00:00:17+00:00  9.911050e+17   \n",
       "2  2018-05-01 00:00:42+00:00  9.911051e+17   \n",
       "3  2018-05-01 00:00:55+00:00  9.911051e+17   \n",
       "4  2018-05-01 00:00:58+00:00  9.911052e+17   \n",
       "\n",
       "                                                Text     label     score  \\\n",
       "0  whatsapp co founder leaving facebook board ami...  NEGATIVE  0.345260   \n",
       "1  recent data breach long term negative impact f...  POSITIVE  0.725424   \n",
       "2  whatsapp co founder jan koum leave facebook di...  POSITIVE  0.813729   \n",
       "3  comes weeks mark zuckerberg swore senate whats...   NEUTRAL  0.495435   \n",
       "4  facebook data dispute reportedly prompts whats...   NEUTRAL  0.487239   \n",
       "\n",
       "   elapsed_time  week  \n",
       "0   4562.433628    18  \n",
       "1   4562.330658    18  \n",
       "2   4562.248483    18  \n",
       "3   4562.167813    18  \n",
       "4   4562.059065    18  "
      ]
     },
     "execution_count": 95,
     "metadata": {},
     "output_type": "execute_result"
    }
   ],
   "source": [
    "df.head()"
   ]
  },
  {
   "cell_type": "code",
   "execution_count": 96,
   "id": "77cc0e5b",
   "metadata": {
    "ExecuteTime": {
     "end_time": "2022-05-05T15:55:23.318706Z",
     "start_time": "2022-05-05T15:55:23.304381Z"
    }
   },
   "outputs": [],
   "source": [
    "df_group_week = df.groupby(['week']).mean()"
   ]
  },
  {
   "cell_type": "code",
   "execution_count": 97,
   "id": "08fdf0e4",
   "metadata": {
    "ExecuteTime": {
     "end_time": "2022-05-05T15:55:26.061472Z",
     "start_time": "2022-05-05T15:55:25.933672Z"
    }
   },
   "outputs": [
    {
     "data": {
      "text/plain": [
       "[<matplotlib.lines.Line2D at 0x7f92d8692650>]"
      ]
     },
     "execution_count": 97,
     "metadata": {},
     "output_type": "execute_result"
    },
    {
     "data": {
      "image/png": "[encoded data removed]",
      "text/plain": [
       "<Figure size 432x288 with 1 Axes>"
      ]
     },
     "metadata": {
      "needs_background": "light"
     },
     "output_type": "display_data"
    }
   ],
   "source": [
    "# libraries\n",
    "import matplotlib.pyplot as plt\n",
    "\n",
    "# plot\n",
    "plt.plot(df_group_week.score)"
   ]
  },
  {
   "cell_type": "code",
   "execution_count": null,
   "id": "811472db",
   "metadata": {},
   "outputs": [],
   "source": [
    "df.rolling(10000).mean().score[10000:]"
   ]
  }
 ],
 "metadata": {
  "kernelspec": {
   "display_name": "Python 3",
   "language": "python",
   "name": "python3"
  },
  "language_info": {
   "codemirror_mode": {
    "name": "ipython",
    "version": 3
   },
   "file_extension": ".py",
   "mimetype": "text/x-python",
   "name": "python",
   "nbconvert_exporter": "python",
   "pygments_lexer": "ipython3",
   "version": "3.7.10"
  },
  "toc": {
   "base_numbering": 1,
   "nav_menu": {},
   "number_sections": true,
   "sideBar": true,
   "skip_h1_title": false,
   "title_cell": "Table of Contents",
   "title_sidebar": "Contents",
   "toc_cell": false,
   "toc_position": {},
   "toc_section_display": true,
   "toc_window_display": false
  },
  "varInspector": {
   "cols": {
    "lenName": 16,
    "lenType": 16,
    "lenVar": 40
   },
   "kernels_config": {
    "python": {
     "delete_cmd_postfix": "",
     "delete_cmd_prefix": "del ",
     "library": "var_list.py",
     "varRefreshCmd": "print(var_dic_list())"
    },
    "r": {
     "delete_cmd_postfix": ") ",
     "delete_cmd_prefix": "rm(",
     "library": "var_list.r",
     "varRefreshCmd": "cat(var_dic_list()) "
    }
   },
   "types_to_exclude": [
    "module",
    "function",
    "builtin_function_or_method",
    "instance",
    "_Feature"
   ],
   "window_display": false
  }
 },
 "nbformat": 4,
 "nbformat_minor": 5
}

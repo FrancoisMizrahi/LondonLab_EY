{
 "cells": [
  {
   "cell_type": "code",
   "execution_count": null,
   "id": "f96f173a",
   "metadata": {
    "ExecuteTime": {
     "end_time": "2022-06-05T14:22:09.803928Z",
     "start_time": "2022-06-05T14:22:07.844172Z"
    }
   },
   "outputs": [],
   "source": [
    "import pandas as pd\n",
    "import numpy as np\n",
    "import matplotlib.pyplot as plt\n",
    "from datetime import datetime\n",
    "import plotly.express as px\n",
    "import matplotlib as mpl\n",
    "from pycaret.anomaly import *\n",
    "import plotly.graph_objects as go\n",
    "mpl.rcParams['figure.figsize'] = (10, 8)\n",
    "mpl.rcParams['axes.grid'] = False"
   ]
  },
  {
   "cell_type": "code",
   "execution_count": null,
   "id": "178fe4e2",
   "metadata": {
    "ExecuteTime": {
     "end_time": "2022-06-05T14:22:09.821728Z",
     "start_time": "2022-06-05T14:22:09.818730Z"
    }
   },
   "outputs": [],
   "source": [
    "data_name = \"facebookdata_5y\""
   ]
  },
  {
   "cell_type": "code",
   "execution_count": null,
   "id": "c6149d18",
   "metadata": {
    "ExecuteTime": {
     "end_time": "2022-06-05T14:22:09.838981Z",
     "start_time": "2022-06-05T14:22:09.829580Z"
    }
   },
   "outputs": [],
   "source": [
    "df = pd.read_csv(f\"../data/google_trends_{data_name}.csv\")\n",
    "df = df.iloc[1:]\n",
    "df = df.reset_index(level=0)\n",
    "df.columns = ['date','value']\n",
    "df = df.replace(\"<\\xa01\", \"0\")\n",
    "df['value'] = df['value'].astype(int)\n",
    "df['date'] = pd.to_datetime(df['date'])"
   ]
  },
  {
   "cell_type": "code",
   "execution_count": null,
   "id": "07340d65",
   "metadata": {
    "ExecuteTime": {
     "end_time": "2022-06-05T14:22:09.853705Z",
     "start_time": "2022-06-05T14:22:09.851164Z"
    }
   },
   "outputs": [],
   "source": [
    "# #express to plot entire data\n",
    "# fig = px.line(df, x='date', y='value', template = 'plotly_dark')\n",
    "# #slider\n",
    "# fig.update_xaxes(\n",
    "#     rangeslider_visible = True,\n",
    "#     rangeselector = dict(\n",
    "#         buttons = list([\n",
    "#               dict(count=1, label='1y', step=\"year\", stepmode=\"backward\"),\n",
    "#               dict(count=2, label='2y', step=\"year\", stepmode=\"backward\"),\n",
    "#               dict(count=2, label='5y', step=\"year\", stepmode=\"backward\")\n",
    "#         ])\n",
    "#     )\n",
    "# )\n",
    "# fig.show()"
   ]
  },
  {
   "cell_type": "code",
   "execution_count": null,
   "id": "27592962",
   "metadata": {
    "ExecuteTime": {
     "end_time": "2022-06-05T14:22:09.888437Z",
     "start_time": "2022-06-05T14:22:09.866690Z"
    }
   },
   "outputs": [],
   "source": [
    "df"
   ]
  },
  {
   "cell_type": "code",
   "execution_count": null,
   "id": "39bc99fe",
   "metadata": {
    "ExecuteTime": {
     "end_time": "2022-06-05T14:22:10.301777Z",
     "start_time": "2022-06-05T14:22:09.902996Z"
    }
   },
   "outputs": [],
   "source": [
    "# create moving-averages\n",
    "df['rolling_3'] = df['value'].rolling(3).mean()\n",
    "df['rolling_12'] = df['value'].rolling(12).mean()\n",
    "# plot \n",
    "fig = px.line(df, \n",
    "              x=\"date\", \n",
    "              y=['value', 'rolling_3', 'rolling_12'], \n",
    "              template = 'plotly_dark', \n",
    "              title=f\"Anomalies {data_name}\")\n",
    "fig.show()"
   ]
  },
  {
   "cell_type": "code",
   "execution_count": null,
   "id": "9d5ebf85",
   "metadata": {
    "ExecuteTime": {
     "end_time": "2022-06-05T14:22:10.478455Z",
     "start_time": "2022-06-05T14:22:10.347939Z"
    }
   },
   "outputs": [],
   "source": [
    "smooth_path    = df.rolling(6).mean()\n",
    "path_deviation = 2 * df.rolling(6).std()\n",
    "under_line     = (smooth_path-path_deviation)[\"value\"]\n",
    "over_line      = (smooth_path+path_deviation)[\"value\"]\n",
    "plt.plot(smooth_path, linewidth=2) #mean curve.\n",
    "plt.fill_between(path_deviation.index, under_line, over_line, color='b', alpha=.1) #std curves."
   ]
  },
  {
   "cell_type": "code",
   "execution_count": null,
   "id": "9be29118",
   "metadata": {
    "ExecuteTime": {
     "end_time": "2022-06-05T14:22:12.809077Z",
     "start_time": "2022-06-05T14:22:10.551422Z"
    }
   },
   "outputs": [],
   "source": [
    "df.set_index('date', drop=True, inplace=True)\n",
    "s = setup(df, session_id = 123)\n",
    "iforest = create_model('iforest', fraction = 0.01)\n",
    "iforest_results = assign_model(iforest)\n",
    "\n",
    "# plot value on y-axis and date on x-axis\n",
    "fig = px.line(iforest_results, \n",
    "              x=iforest_results.index, \n",
    "              y=\"value\", \n",
    "              template = 'plotly_dark', \n",
    "              title=f\"Anomalies {data_name}\")\n",
    "\n",
    "# create list of outlier_dates\n",
    "outlier_dates = iforest_results[iforest_results['Anomaly'] == 1].index\n",
    "# obtain y value of anomalies to plot\n",
    "y_values = [iforest_results.loc[i]['value'] for i in outlier_dates]\n",
    "fig.add_trace(go.Scatter(x=outlier_dates, y=y_values, mode = 'markers', \n",
    "                name = 'Anomaly', \n",
    "                marker=dict(color='red',size=10)))\n",
    "\n",
    "fig.show()"
   ]
  },
  {
   "cell_type": "code",
   "execution_count": null,
   "id": "63780d62",
   "metadata": {
    "ExecuteTime": {
     "end_time": "2022-06-05T14:22:12.875423Z",
     "start_time": "2022-06-05T14:22:12.863885Z"
    }
   },
   "outputs": [],
   "source": [
    "iforest_results[iforest_results['Anomaly'] == 1].head()"
   ]
  },
  {
   "cell_type": "code",
   "execution_count": null,
   "id": "42394d04",
   "metadata": {
    "ExecuteTime": {
     "end_time": "2022-06-05T14:22:12.946130Z",
     "start_time": "2022-06-05T14:22:12.941255Z"
    }
   },
   "outputs": [],
   "source": [
    "iforest_results.Anomaly_Score"
   ]
  },
  {
   "cell_type": "code",
   "execution_count": null,
   "id": "7b756271",
   "metadata": {
    "ExecuteTime": {
     "end_time": "2022-06-05T14:22:13.134226Z",
     "start_time": "2022-06-05T14:22:13.001466Z"
    }
   },
   "outputs": [],
   "source": [
    "plt.plot(iforest_results.Anomaly_Score, linewidth=2)"
   ]
  },
  {
   "cell_type": "code",
   "execution_count": null,
   "id": "21bc5767",
   "metadata": {},
   "outputs": [],
   "source": []
  },
  {
   "cell_type": "code",
   "execution_count": null,
   "id": "aef3f313",
   "metadata": {},
   "outputs": [],
   "source": []
  },
  {
   "cell_type": "code",
   "execution_count": null,
   "id": "7b53f807",
   "metadata": {},
   "outputs": [],
   "source": []
  }
 ],
 "metadata": {
  "kernelspec": {
   "display_name": "Python 3",
   "language": "python",
   "name": "python3"
  },
  "language_info": {
   "codemirror_mode": {
    "name": "ipython",
    "version": 3
   },
   "file_extension": ".py",
   "mimetype": "text/x-python",
   "name": "python",
   "nbconvert_exporter": "python",
   "pygments_lexer": "ipython3",
   "version": "3.7.10"
  },
  "toc": {
   "base_numbering": 1,
   "nav_menu": {},
   "number_sections": true,
   "sideBar": true,
   "skip_h1_title": false,
   "title_cell": "Table of Contents",
   "title_sidebar": "Contents",
   "toc_cell": false,
   "toc_position": {},
   "toc_section_display": true,
   "toc_window_display": false
  },
  "varInspector": {
   "cols": {
    "lenName": 16,
    "lenType": 16,
    "lenVar": 40
   },
   "kernels_config": {
    "python": {
     "delete_cmd_postfix": "",
     "delete_cmd_prefix": "del ",
     "library": "var_list.py",
     "varRefreshCmd": "print(var_dic_list())"
    },
    "r": {
     "delete_cmd_postfix": ") ",
     "delete_cmd_prefix": "rm(",
     "library": "var_list.r",
     "varRefreshCmd": "cat(var_dic_list()) "
    }
   },
   "position": {
    "height": "381.84px",
    "left": "1230px",
    "right": "20px",
    "top": "120px",
    "width": "350px"
   },
   "types_to_exclude": [
    "module",
    "function",
    "builtin_function_or_method",
    "instance",
    "_Feature"
   ],
   "window_display": false
  }
 },
 "nbformat": 4,
 "nbformat_minor": 5
}

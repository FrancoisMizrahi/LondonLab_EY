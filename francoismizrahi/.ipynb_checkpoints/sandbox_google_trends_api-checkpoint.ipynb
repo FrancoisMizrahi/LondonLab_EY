{
 "cells": [
  {
   "cell_type": "code",
   "execution_count": 1,
   "id": "8ed930af",
   "metadata": {
    "ExecuteTime": {
     "end_time": "2022-04-21T16:52:07.011340Z",
     "start_time": "2022-04-21T16:52:02.783077Z"
    }
   },
   "outputs": [
    {
     "name": "stdout",
     "output_type": "stream",
     "text": [
      "Collecting pytrends\n",
      "  Downloading pytrends-4.8.0.tar.gz (19 kB)\n",
      "Requirement already satisfied: requests>=2.0 in /Users/francoismizrahi/opt/anaconda3/lib/python3.7/site-packages (from pytrends) (2.27.1)\n",
      "Requirement already satisfied: pandas>=0.25 in /Users/francoismizrahi/opt/anaconda3/lib/python3.7/site-packages (from pytrends) (1.3.5)\n",
      "Requirement already satisfied: lxml in /Users/francoismizrahi/opt/anaconda3/lib/python3.7/site-packages (from pytrends) (4.6.3)\n",
      "Requirement already satisfied: pytz>=2017.3 in /Users/francoismizrahi/opt/anaconda3/lib/python3.7/site-packages (from pandas>=0.25->pytrends) (2021.3)\n",
      "Requirement already satisfied: python-dateutil>=2.7.3 in /Users/francoismizrahi/opt/anaconda3/lib/python3.7/site-packages (from pandas>=0.25->pytrends) (2.8.2)\n",
      "Requirement already satisfied: numpy>=1.17.3 in /Users/francoismizrahi/opt/anaconda3/lib/python3.7/site-packages (from pandas>=0.25->pytrends) (1.21.5)\n",
      "Requirement already satisfied: six>=1.5 in /Users/francoismizrahi/opt/anaconda3/lib/python3.7/site-packages (from python-dateutil>=2.7.3->pandas>=0.25->pytrends) (1.16.0)\n",
      "Requirement already satisfied: urllib3<1.27,>=1.21.1 in /Users/francoismizrahi/opt/anaconda3/lib/python3.7/site-packages (from requests>=2.0->pytrends) (1.26.8)\n",
      "Requirement already satisfied: certifi>=2017.4.17 in /Users/francoismizrahi/opt/anaconda3/lib/python3.7/site-packages (from requests>=2.0->pytrends) (2021.10.8)\n",
      "Requirement already satisfied: idna<4,>=2.5 in /Users/francoismizrahi/opt/anaconda3/lib/python3.7/site-packages (from requests>=2.0->pytrends) (3.3)\n",
      "Requirement already satisfied: charset-normalizer~=2.0.0 in /Users/francoismizrahi/opt/anaconda3/lib/python3.7/site-packages (from requests>=2.0->pytrends) (2.0.11)\n",
      "Building wheels for collected packages: pytrends\n",
      "  Building wheel for pytrends (setup.py) ... \u001b[?25ldone\n",
      "\u001b[?25h  Created wheel for pytrends: filename=pytrends-4.8.0-py3-none-any.whl size=16126 sha256=9f043e9c513637606b5b088c42f046921bbb1aa4455c7316412a30639a503c14\n",
      "  Stored in directory: /Users/francoismizrahi/Library/Caches/pip/wheels/07/6f/5c/8174f98dec1bfbc7d5da4092854afcbcff4b26c3d9b66b5183\n",
      "Successfully built pytrends\n",
      "Installing collected packages: pytrends\n",
      "Successfully installed pytrends-4.8.0\n"
     ]
    }
   ],
   "source": [
    "!pip install pytrends"
   ]
  },
  {
   "cell_type": "code",
   "execution_count": 2,
   "id": "f96f173a",
   "metadata": {
    "ExecuteTime": {
     "end_time": "2022-04-21T17:08:42.804184Z",
     "start_time": "2022-04-21T17:08:41.951624Z"
    }
   },
   "outputs": [],
   "source": [
    "import pandas as pd"
   ]
  },
  {
   "cell_type": "code",
   "execution_count": 35,
   "id": "78df0c1b",
   "metadata": {
    "ExecuteTime": {
     "end_time": "2022-04-22T09:32:58.355457Z",
     "start_time": "2022-04-22T09:32:58.345918Z"
    }
   },
   "outputs": [],
   "source": [
    "df = pd.read_csv(\"../data/google_trends_gamestop.csv\")"
   ]
  },
  {
   "cell_type": "code",
   "execution_count": 36,
   "id": "6d876929",
   "metadata": {
    "ExecuteTime": {
     "end_time": "2022-04-22T09:32:58.770945Z",
     "start_time": "2022-04-22T09:32:58.767479Z"
    }
   },
   "outputs": [],
   "source": [
    "df = df.iloc[1:]"
   ]
  },
  {
   "cell_type": "code",
   "execution_count": 37,
   "id": "5976cd75",
   "metadata": {
    "ExecuteTime": {
     "end_time": "2022-04-22T09:32:59.119238Z",
     "start_time": "2022-04-22T09:32:59.116248Z"
    }
   },
   "outputs": [],
   "source": [
    "df.columns = ['values']"
   ]
  },
  {
   "cell_type": "code",
   "execution_count": 38,
   "id": "02b7321a",
   "metadata": {
    "ExecuteTime": {
     "end_time": "2022-04-22T09:32:59.488513Z",
     "start_time": "2022-04-22T09:32:59.483312Z"
    }
   },
   "outputs": [
    {
     "data": {
      "text/plain": [
       "array(['1', '0', '<\\xa01', '2', '3', '4', '5', '6', '7', '9', '8', '100',\n",
       "       '69', '29', '15', '12', '14'], dtype=object)"
      ]
     },
     "execution_count": 38,
     "metadata": {},
     "output_type": "execute_result"
    }
   ],
   "source": [
    "df[\"values\"].unique()"
   ]
  },
  {
   "cell_type": "code",
   "execution_count": 39,
   "id": "cc516d33",
   "metadata": {
    "ExecuteTime": {
     "end_time": "2022-04-22T09:33:00.415610Z",
     "start_time": "2022-04-22T09:33:00.406023Z"
    }
   },
   "outputs": [
    {
     "data": {
      "text/html": [
       "<div>\n",
       "<style scoped>\n",
       "    .dataframe tbody tr th:only-of-type {\n",
       "        vertical-align: middle;\n",
       "    }\n",
       "\n",
       "    .dataframe tbody tr th {\n",
       "        vertical-align: top;\n",
       "    }\n",
       "\n",
       "    .dataframe thead th {\n",
       "        text-align: right;\n",
       "    }\n",
       "</style>\n",
       "<table border=\"1\" class=\"dataframe\">\n",
       "  <thead>\n",
       "    <tr style=\"text-align: right;\">\n",
       "      <th></th>\n",
       "      <th>values</th>\n",
       "    </tr>\n",
       "  </thead>\n",
       "  <tbody>\n",
       "    <tr>\n",
       "      <th>2004-01</th>\n",
       "      <td>1</td>\n",
       "    </tr>\n",
       "    <tr>\n",
       "      <th>2004-02</th>\n",
       "      <td>0</td>\n",
       "    </tr>\n",
       "    <tr>\n",
       "      <th>2004-03</th>\n",
       "      <td>&lt; 1</td>\n",
       "    </tr>\n",
       "    <tr>\n",
       "      <th>2004-04</th>\n",
       "      <td>1</td>\n",
       "    </tr>\n",
       "    <tr>\n",
       "      <th>2004-05</th>\n",
       "      <td>&lt; 1</td>\n",
       "    </tr>\n",
       "    <tr>\n",
       "      <th>...</th>\n",
       "      <td>...</td>\n",
       "    </tr>\n",
       "    <tr>\n",
       "      <th>2021-12</th>\n",
       "      <td>5</td>\n",
       "    </tr>\n",
       "    <tr>\n",
       "      <th>2022-01</th>\n",
       "      <td>5</td>\n",
       "    </tr>\n",
       "    <tr>\n",
       "      <th>2022-02</th>\n",
       "      <td>4</td>\n",
       "    </tr>\n",
       "    <tr>\n",
       "      <th>2022-03</th>\n",
       "      <td>5</td>\n",
       "    </tr>\n",
       "    <tr>\n",
       "      <th>2022-04</th>\n",
       "      <td>5</td>\n",
       "    </tr>\n",
       "  </tbody>\n",
       "</table>\n",
       "<p>220 rows × 1 columns</p>\n",
       "</div>"
      ],
      "text/plain": [
       "        values\n",
       "2004-01      1\n",
       "2004-02      0\n",
       "2004-03    < 1\n",
       "2004-04      1\n",
       "2004-05    < 1\n",
       "...        ...\n",
       "2021-12      5\n",
       "2022-01      5\n",
       "2022-02      4\n",
       "2022-03      5\n",
       "2022-04      5\n",
       "\n",
       "[220 rows x 1 columns]"
      ]
     },
     "execution_count": 39,
     "metadata": {},
     "output_type": "execute_result"
    }
   ],
   "source": [
    "df"
   ]
  },
  {
   "cell_type": "code",
   "execution_count": 40,
   "id": "cc914c6d",
   "metadata": {
    "ExecuteTime": {
     "end_time": "2022-04-22T09:33:02.552694Z",
     "start_time": "2022-04-22T09:33:02.549276Z"
    }
   },
   "outputs": [],
   "source": [
    "df = df.replace(\"<\\xa01\", \"0\")"
   ]
  },
  {
   "cell_type": "code",
   "execution_count": 43,
   "id": "713b0b40",
   "metadata": {
    "ExecuteTime": {
     "end_time": "2022-04-22T09:34:02.500306Z",
     "start_time": "2022-04-22T09:34:02.492956Z"
    }
   },
   "outputs": [
    {
     "data": {
      "text/plain": [
       "array([  1,   0,   2,   3,   4,   5,   6,   7,   9,   8, 100,  69,  29,\n",
       "        15,  12,  14])"
      ]
     },
     "execution_count": 43,
     "metadata": {},
     "output_type": "execute_result"
    }
   ],
   "source": [
    "df[\"values\"].unique()"
   ]
  },
  {
   "cell_type": "code",
   "execution_count": 42,
   "id": "46f72874",
   "metadata": {
    "ExecuteTime": {
     "end_time": "2022-04-22T09:33:55.817130Z",
     "start_time": "2022-04-22T09:33:55.812920Z"
    }
   },
   "outputs": [],
   "source": [
    "df['values'] = df['values'].astype(int)"
   ]
  },
  {
   "cell_type": "code",
   "execution_count": 44,
   "id": "e3434cb1",
   "metadata": {
    "ExecuteTime": {
     "end_time": "2022-04-22T09:38:33.546348Z",
     "start_time": "2022-04-22T09:38:30.537995Z"
    }
   },
   "outputs": [
    {
     "data": {
      "text/plain": [
       "[<matplotlib.lines.Line2D at 0x7fb3f16c9dd0>]"
      ]
     },
     "execution_count": 44,
     "metadata": {},
     "output_type": "execute_result"
    },
    {
     "data": {
      "image/png": "[encoded data removed]",
      "text/plain": [
       "<Figure size 432x288 with 1 Axes>"
      ]
     },
     "metadata": {
      "needs_background": "light"
     },
     "output_type": "display_data"
    }
   ],
   "source": [
    "# libraries\n",
    "import matplotlib.pyplot as plt\n",
    "import numpy as np\n",
    "\n",
    "\n",
    "# use the plot function\n",
    "plt.plot(df[\"values\"])\n"
   ]
  },
  {
   "cell_type": "code",
   "execution_count": 45,
   "id": "796ffc07",
   "metadata": {
    "ExecuteTime": {
     "end_time": "2022-04-22T09:43:26.180923Z",
     "start_time": "2022-04-22T09:43:26.175223Z"
    }
   },
   "outputs": [
    {
     "name": "stdout",
     "output_type": "stream",
     "text": [
      "[0.2857142857142857, 0.2857142857142857, 0.42857142857142855, 0.42857142857142855, 0.42857142857142855, 0.5714285714285714, 0.7142857142857143, 0.8571428571428571, 0.8571428571428571, 1.0, 1.1428571428571428, 1.1428571428571428, 1.1428571428571428, 1.1428571428571428, 1.1428571428571428, 1.2857142857142858, 1.2857142857142858, 1.4285714285714286, 1.4285714285714286, 1.4285714285714286, 1.4285714285714286, 1.4285714285714286, 1.1428571428571428, 1.0, 0.8571428571428571, 1.0, 1.0, 1.1428571428571428, 1.4285714285714286, 1.8571428571428572, 2.0, 2.142857142857143, 2.142857142857143, 2.2857142857142856, 2.2857142857142856, 2.0, 1.8571428571428572, 1.8571428571428572, 2.0, 2.0, 2.2857142857142856, 2.5714285714285716, 2.857142857142857, 3.0, 3.142857142857143, 3.142857142857143, 3.2857142857142856, 3.0, 2.857142857142857, 3.0, 3.142857142857143, 3.4285714285714284, 3.7142857142857144, 4.142857142857143, 4.285714285714286, 4.285714285714286, 4.285714285714286, 4.142857142857143, 3.857142857142857, 3.5714285714285716, 3.142857142857143, 3.2857142857142856, 3.2857142857142856, 3.2857142857142856, 3.5714285714285716, 3.857142857142857, 4.0, 4.0, 4.0, 4.0, 4.0, 3.857142857142857, 3.7142857142857144, 3.857142857142857, 4.0, 4.285714285714286, 4.714285714285714, 5.0, 5.0, 5.142857142857143, 5.0, 5.142857142857143, 4.857142857142857, 4.571428571428571, 4.285714285714286, 4.571428571428571, 4.714285714285714, 5.142857142857143, 5.714285714285714, 6.285714285714286, 6.571428571428571, 6.857142857142857, 7.0, 6.714285714285714, 6.285714285714286, 5.714285714285714, 5.285714285714286, 5.0, 4.857142857142857, 4.571428571428571, 4.714285714285714, 5.0, 4.857142857142857, 4.571428571428571, 4.571428571428571, 4.285714285714286, 4.0, 4.0, 3.7142857142857144, 3.7142857142857144, 4.142857142857143, 4.142857142857143, 4.714285714285714, 5.285714285714286, 5.0, 5.142857142857143, 5.285714285714286, 5.0, 4.857142857142857, 4.285714285714286, 3.857142857142857, 4.142857142857143, 4.142857142857143, 3.857142857142857, 4.285714285714286, 4.571428571428571, 4.571428571428571, 4.428571428571429, 4.142857142857143, 3.857142857142857, 3.857142857142857, 3.2857142857142856, 3.0, 3.0, 3.0, 3.0, 3.4285714285714284, 3.5714285714285716, 3.4285714285714284, 3.2857142857142856, 3.142857142857143, 3.0, 2.857142857142857, 2.2857142857142856, 2.0, 2.0, 2.0, 2.142857142857143, 2.2857142857142856, 2.4285714285714284, 2.4285714285714284, 2.4285714285714284, 2.4285714285714284, 2.4285714285714284, 2.2857142857142856, 2.142857142857143, 2.0, 2.0, 2.0, 2.0, 2.0, 2.0, 1.8571428571428572, 1.7142857142857142, 1.5714285714285714, 1.4285714285714286, 1.2857142857142858, 1.1428571428571428, 1.1428571428571428, 1.2857142857142858, 1.4285714285714286, 1.5714285714285714, 1.7142857142857142, 2.0, 2.142857142857143, 2.142857142857143, 2.0, 2.0, 1.8571428571428572, 1.8571428571428572, 1.7142857142857142, 1.7142857142857142, 1.8571428571428572, 2.2857142857142856, 2.7142857142857144, 3.142857142857143, 3.142857142857143, 3.142857142857143, 3.2857142857142856, 3.2857142857142856, 3.142857142857143, 2.857142857142857, 2.7142857142857144, 2.857142857142857, 3.142857142857143, 3.142857142857143, 3.5714285714285716, 3.7142857142857144, 17.571428571428573, 27.0, 30.714285714285715, 32.285714285714285, 33.57142857142857, 34.714285714285715, 35.142857142857146, 21.714285714285715, 12.714285714285714, 9.285714285714286, 8.0, 7.0, 5.714285714285714, 5.285714285714286, 5.142857142857143, 5.0]\n"
     ]
    }
   ],
   "source": [
    "window_size = 7\n",
    "\n",
    "  \n",
    "# Get the window of series\n",
    "# of observations of specified window size\n",
    "windows = df[\"values\"].rolling(window_size)\n",
    "  \n",
    "# Create a series of moving\n",
    "# averages of each window\n",
    "moving_averages = windows.mean()\n",
    "  \n",
    "# Convert pandas series back to list\n",
    "moving_averages_list = moving_averages.tolist()\n",
    "  \n",
    "# Remove null entries from the list\n",
    "final_list = moving_averages_list[window_size - 1:]\n",
    "  \n",
    "print(final_list)"
   ]
  },
  {
   "cell_type": "code",
   "execution_count": 46,
   "id": "a75dda6b",
   "metadata": {
    "ExecuteTime": {
     "end_time": "2022-04-22T09:44:59.234967Z",
     "start_time": "2022-04-22T09:44:59.113526Z"
    }
   },
   "outputs": [
    {
     "data": {
      "text/plain": [
       "[<matplotlib.lines.Line2D at 0x7fb4001e92d0>]"
      ]
     },
     "execution_count": 46,
     "metadata": {},
     "output_type": "execute_result"
    },
    {
     "data": {
      "image/png": "[encoded data removed]",
      "text/plain": [
       "<Figure size 432x288 with 1 Axes>"
      ]
     },
     "metadata": {
      "needs_background": "light"
     },
     "output_type": "display_data"
    }
   ],
   "source": [
    "plt.plot(final_list)"
   ]
  },
  {
   "cell_type": "code",
   "execution_count": 47,
   "id": "5c63e150",
   "metadata": {
    "ExecuteTime": {
     "end_time": "2022-04-22T09:49:31.216236Z",
     "start_time": "2022-04-22T09:49:31.210012Z"
    }
   },
   "outputs": [
    {
     "data": {
      "text/plain": [
       "214"
      ]
     },
     "execution_count": 47,
     "metadata": {},
     "output_type": "execute_result"
    }
   ],
   "source": [
    "len(final_list)"
   ]
  },
  {
   "cell_type": "code",
   "execution_count": null,
   "id": "9be29118",
   "metadata": {},
   "outputs": [],
   "source": []
  }
 ],
 "metadata": {
  "kernelspec": {
   "display_name": "Python 3",
   "language": "python",
   "name": "python3"
  },
  "language_info": {
   "codemirror_mode": {
    "name": "ipython",
    "version": 3
   },
   "file_extension": ".py",
   "mimetype": "text/x-python",
   "name": "python",
   "nbconvert_exporter": "python",
   "pygments_lexer": "ipython3",
   "version": "3.7.10"
  },
  "toc": {
   "base_numbering": 1,
   "nav_menu": {},
   "number_sections": true,
   "sideBar": true,
   "skip_h1_title": false,
   "title_cell": "Table of Contents",
   "title_sidebar": "Contents",
   "toc_cell": false,
   "toc_position": {},
   "toc_section_display": true,
   "toc_window_display": false
  },
  "varInspector": {
   "cols": {
    "lenName": 16,
    "lenType": 16,
    "lenVar": 40
   },
   "kernels_config": {
    "python": {
     "delete_cmd_postfix": "",
     "delete_cmd_prefix": "del ",
     "library": "var_list.py",
     "varRefreshCmd": "print(var_dic_list())"
    },
    "r": {
     "delete_cmd_postfix": ") ",
     "delete_cmd_prefix": "rm(",
     "library": "var_list.r",
     "varRefreshCmd": "cat(var_dic_list()) "
    }
   },
   "types_to_exclude": [
    "module",
    "function",
    "builtin_function_or_method",
    "instance",
    "_Feature"
   ],
   "window_display": false
  }
 },
 "nbformat": 4,
 "nbformat_minor": 5
}

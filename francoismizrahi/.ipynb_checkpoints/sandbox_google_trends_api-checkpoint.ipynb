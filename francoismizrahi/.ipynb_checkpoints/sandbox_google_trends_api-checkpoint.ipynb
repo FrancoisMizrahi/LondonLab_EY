{
 "cells": [
  {
   "cell_type": "code",
   "execution_count": null,
   "id": "f96f173a",
   "metadata": {
    "ExecuteTime": {
     "end_time": "2022-05-17T15:33:44.330511Z",
     "start_time": "2022-05-17T15:33:40.663636Z"
    }
   },
   "outputs": [],
   "source": [
    "import pandas as pd\n",
    "import numpy as np\n",
    "import matplotlib.pyplot as plt\n",
    "from datetime import datetime\n",
    "import plotly.express as px\n",
    "import matplotlib as mpl\n",
    "from pycaret.anomaly import *\n",
    "import plotly.graph_objects as go\n",
    "mpl.rcParams['figure.figsize'] = (10, 8)\n",
    "mpl.rcParams['axes.grid'] = False"
   ]
  },
  {
   "cell_type": "markdown",
   "id": "b35879bf",
   "metadata": {
    "heading_collapsed": true
   },
   "source": [
    "## Boeing"
   ]
  },
  {
   "cell_type": "code",
   "execution_count": null,
   "id": "78df0c1b",
   "metadata": {
    "ExecuteTime": {
     "start_time": "2022-05-17T13:44:33.466Z"
    },
    "hidden": true
   },
   "outputs": [],
   "source": [
    "df = pd.read_csv(\"../data/google_trends_boeing_5y.csv\")\n",
    "df = df.iloc[1:]\n",
    "df = df.reset_index(level=0)\n",
    "df.columns = ['date','value']\n",
    "df = df.replace(\"<\\xa01\", \"0\")\n",
    "df['value'] = df['value'].astype(int)\n",
    "df['date'] = pd.to_datetime(df['date'])"
   ]
  },
  {
   "cell_type": "code",
   "execution_count": null,
   "id": "db8f2e5e",
   "metadata": {
    "ExecuteTime": {
     "end_time": "2022-05-17T13:10:28.631477Z",
     "start_time": "2022-05-17T13:10:28.618588Z"
    },
    "hidden": true
   },
   "outputs": [],
   "source": [
    "df.head()"
   ]
  },
  {
   "cell_type": "code",
   "execution_count": null,
   "id": "e31145c0",
   "metadata": {
    "ExecuteTime": {
     "end_time": "2022-05-17T13:10:29.805435Z",
     "start_time": "2022-05-17T13:10:28.670390Z"
    },
    "hidden": true
   },
   "outputs": [],
   "source": [
    "#express to plot entire data\n",
    "fig = px.line(df, x='date', y='value', template = 'plotly_dark')\n",
    "#slider\n",
    "fig.update_xaxes(\n",
    "    rangeslider_visible = True,\n",
    "    rangeselector = dict(\n",
    "        buttons = list([\n",
    "              dict(count=1, label='1y', step=\"year\", stepmode=\"backward\"),\n",
    "              dict(count=2, label='2y', step=\"year\", stepmode=\"backward\"),\n",
    "              dict(count=2, label='5y', step=\"year\", stepmode=\"backward\")\n",
    "        ])\n",
    "    )\n",
    ")\n",
    "fig.show()"
   ]
  },
  {
   "cell_type": "code",
   "execution_count": null,
   "id": "502937dc",
   "metadata": {
    "ExecuteTime": {
     "end_time": "2022-05-17T13:10:29.935988Z",
     "start_time": "2022-05-17T13:10:29.840077Z"
    },
    "hidden": true
   },
   "outputs": [],
   "source": [
    "# create moving-averages\n",
    "df['rolling_3'] = df['value'].rolling(3).mean()\n",
    "df['rolling_12'] = df['value'].rolling(12).mean()\n",
    "# plot \n",
    "import plotly.express as px\n",
    "fig = px.line(df, x=\"date\", y=['value', 'rolling_3', 'rolling_12'], template = 'plotly_dark')\n",
    "fig.show()"
   ]
  },
  {
   "cell_type": "code",
   "execution_count": null,
   "id": "1b2213a0",
   "metadata": {
    "ExecuteTime": {
     "end_time": "2022-05-17T13:12:13.436217Z",
     "start_time": "2022-05-17T13:12:13.428515Z"
    },
    "hidden": true,
    "scrolled": true
   },
   "outputs": [],
   "source": [
    "smooth_path    = df.rolling(6).mean()\n",
    "path_deviation = 2 * df.rolling(6).std()"
   ]
  },
  {
   "cell_type": "code",
   "execution_count": null,
   "id": "4a5da12e",
   "metadata": {
    "ExecuteTime": {
     "end_time": "2022-05-17T13:12:14.709637Z",
     "start_time": "2022-05-17T13:12:14.668146Z"
    },
    "hidden": true
   },
   "outputs": [],
   "source": [
    "(smooth_path-path_deviation)"
   ]
  },
  {
   "cell_type": "code",
   "execution_count": null,
   "id": "7b5e8654",
   "metadata": {
    "ExecuteTime": {
     "end_time": "2022-05-17T13:12:19.045717Z",
     "start_time": "2022-05-17T13:12:19.038741Z"
    },
    "hidden": true
   },
   "outputs": [],
   "source": [
    "under_line     = (smooth_path-path_deviation)[\"value\"]\n",
    "over_line      = (smooth_path+path_deviation)[\"value\"]"
   ]
  },
  {
   "cell_type": "code",
   "execution_count": null,
   "id": "49a7350c",
   "metadata": {
    "ExecuteTime": {
     "end_time": "2022-05-17T13:12:19.565028Z",
     "start_time": "2022-05-17T13:12:19.418907Z"
    },
    "hidden": true
   },
   "outputs": [],
   "source": [
    "plt.plot(smooth_path, linewidth=2) #mean curve.\n",
    "plt.fill_between(path_deviation.index, under_line, over_line, color='b', alpha=.1) #std curves."
   ]
  },
  {
   "cell_type": "code",
   "execution_count": null,
   "id": "d5366a7e",
   "metadata": {
    "ExecuteTime": {
     "end_time": "2022-05-17T13:12:21.754616Z",
     "start_time": "2022-05-17T13:12:21.717862Z"
    },
    "hidden": true
   },
   "outputs": [],
   "source": [
    "df"
   ]
  },
  {
   "cell_type": "code",
   "execution_count": null,
   "id": "ec317809",
   "metadata": {
    "ExecuteTime": {
     "end_time": "2022-05-17T13:12:22.069111Z",
     "start_time": "2022-05-17T13:12:22.065147Z"
    },
    "hidden": true
   },
   "outputs": [],
   "source": [
    "df.set_index('date', drop=True, inplace=True)"
   ]
  },
  {
   "cell_type": "code",
   "execution_count": null,
   "id": "27fa3dea",
   "metadata": {
    "ExecuteTime": {
     "end_time": "2022-05-17T13:12:22.685844Z",
     "start_time": "2022-05-17T13:12:22.682375Z"
    },
    "hidden": true
   },
   "outputs": [],
   "source": [
    "#df = df.resample('M').sum()"
   ]
  },
  {
   "cell_type": "code",
   "execution_count": null,
   "id": "d2592bff",
   "metadata": {
    "ExecuteTime": {
     "end_time": "2022-05-17T13:12:22.969954Z",
     "start_time": "2022-05-17T13:12:22.937006Z"
    },
    "hidden": true
   },
   "outputs": [],
   "source": [
    "df"
   ]
  },
  {
   "cell_type": "code",
   "execution_count": null,
   "id": "509cc135",
   "metadata": {
    "ExecuteTime": {
     "end_time": "2022-05-17T13:12:23.467492Z",
     "start_time": "2022-05-17T13:12:23.452225Z"
    },
    "hidden": true
   },
   "outputs": [],
   "source": [
    "# creature features from date\n",
    "df['month'] = [i.month for i in df.index]\n",
    "df.head()"
   ]
  },
  {
   "cell_type": "code",
   "execution_count": null,
   "id": "26264b3e",
   "metadata": {
    "ExecuteTime": {
     "end_time": "2022-05-17T13:12:23.970286Z",
     "start_time": "2022-05-17T13:12:23.914884Z"
    },
    "hidden": true
   },
   "outputs": [],
   "source": [
    "s = setup(df, session_id = 123)"
   ]
  },
  {
   "cell_type": "code",
   "execution_count": null,
   "id": "9954cfcb",
   "metadata": {
    "ExecuteTime": {
     "end_time": "2022-05-17T13:12:24.221740Z",
     "start_time": "2022-05-17T13:12:24.202331Z"
    },
    "hidden": true
   },
   "outputs": [],
   "source": [
    "iforest = create_model('iforest', fraction = 0.01)\n",
    "iforest_results = assign_model(iforest)\n",
    "iforest_results.head()"
   ]
  },
  {
   "cell_type": "code",
   "execution_count": null,
   "id": "abfb1382",
   "metadata": {
    "ExecuteTime": {
     "end_time": "2022-05-17T13:10:30.480909Z",
     "start_time": "2022-05-17T13:10:21.664Z"
    },
    "hidden": true
   },
   "outputs": [],
   "source": [
    "iforest_results[iforest_results['Anomaly'] == 1].head()"
   ]
  },
  {
   "cell_type": "code",
   "execution_count": null,
   "id": "c835ea63",
   "metadata": {
    "ExecuteTime": {
     "end_time": "2022-05-17T13:10:30.484005Z",
     "start_time": "2022-05-17T13:10:21.899Z"
    },
    "hidden": true
   },
   "outputs": [],
   "source": [
    "import plotly.graph_objects as go\n",
    "# plot value on y-axis and date on x-axis\n",
    "fig = px.line(iforest_results, x=iforest_results.index, y=\"value\", template = 'plotly_dark')\n",
    "# create list of outlier_dates\n",
    "outlier_dates = iforest_results[iforest_results['Anomaly'] == 1].index\n",
    "# obtain y value of anomalies to plot\n",
    "y_values = [iforest_results.loc[i]['value'] for i in outlier_dates]\n",
    "fig.add_trace(go.Scatter(x=outlier_dates, y=y_values, mode = 'markers', \n",
    "                name = 'Anomaly', \n",
    "                marker=dict(color='red',size=10)))\n",
    "        \n",
    "fig.show()"
   ]
  },
  {
   "cell_type": "markdown",
   "id": "e007d25f",
   "metadata": {},
   "source": [
    "## General"
   ]
  },
  {
   "cell_type": "code",
   "execution_count": null,
   "id": "178fe4e2",
   "metadata": {
    "ExecuteTime": {
     "end_time": "2022-05-17T15:33:50.127720Z",
     "start_time": "2022-05-17T15:33:50.125191Z"
    }
   },
   "outputs": [],
   "source": [
    "data_name = \"facebookdata_5y\""
   ]
  },
  {
   "cell_type": "code",
   "execution_count": null,
   "id": "c6149d18",
   "metadata": {
    "ExecuteTime": {
     "end_time": "2022-05-17T15:33:50.485355Z",
     "start_time": "2022-05-17T15:33:50.473104Z"
    }
   },
   "outputs": [],
   "source": [
    "df = pd.read_csv(f\"../data/google_trends_{data_name}.csv\")\n",
    "df = df.iloc[1:]\n",
    "df = df.reset_index(level=0)\n",
    "df.columns = ['date','value']\n",
    "df = df.replace(\"<\\xa01\", \"0\")\n",
    "df['value'] = df['value'].astype(int)\n",
    "df['date'] = pd.to_datetime(df['date'])"
   ]
  },
  {
   "cell_type": "code",
   "execution_count": null,
   "id": "07340d65",
   "metadata": {
    "ExecuteTime": {
     "end_time": "2022-05-17T15:33:50.975055Z",
     "start_time": "2022-05-17T15:33:50.972963Z"
    }
   },
   "outputs": [],
   "source": [
    "# #express to plot entire data\n",
    "# fig = px.line(df, x='date', y='value', template = 'plotly_dark')\n",
    "# #slider\n",
    "# fig.update_xaxes(\n",
    "#     rangeslider_visible = True,\n",
    "#     rangeselector = dict(\n",
    "#         buttons = list([\n",
    "#               dict(count=1, label='1y', step=\"year\", stepmode=\"backward\"),\n",
    "#               dict(count=2, label='2y', step=\"year\", stepmode=\"backward\"),\n",
    "#               dict(count=2, label='5y', step=\"year\", stepmode=\"backward\")\n",
    "#         ])\n",
    "#     )\n",
    "# )\n",
    "# fig.show()"
   ]
  },
  {
   "cell_type": "code",
   "execution_count": null,
   "id": "39bc99fe",
   "metadata": {
    "ExecuteTime": {
     "end_time": "2022-05-17T15:33:52.514860Z",
     "start_time": "2022-05-17T15:33:51.334656Z"
    }
   },
   "outputs": [],
   "source": [
    "# create moving-averages\n",
    "df['rolling_3'] = df['value'].rolling(3).mean()\n",
    "df['rolling_12'] = df['value'].rolling(12).mean()\n",
    "# plot \n",
    "fig = px.line(df, \n",
    "              x=\"date\", \n",
    "              y=['value', 'rolling_3', 'rolling_12'], \n",
    "              template = 'plotly_dark', \n",
    "              title=f\"Anomalies {data_name}\")\n",
    "fig.show()"
   ]
  },
  {
   "cell_type": "code",
   "execution_count": null,
   "id": "9d5ebf85",
   "metadata": {
    "ExecuteTime": {
     "end_time": "2022-05-17T15:33:52.757096Z",
     "start_time": "2022-05-17T15:33:52.605966Z"
    }
   },
   "outputs": [],
   "source": [
    "smooth_path    = df.rolling(6).mean()\n",
    "path_deviation = 2 * df.rolling(6).std()\n",
    "under_line     = (smooth_path-path_deviation)[\"value\"]\n",
    "over_line      = (smooth_path+path_deviation)[\"value\"]\n",
    "plt.plot(smooth_path, linewidth=2) #mean curve.\n",
    "plt.fill_between(path_deviation.index, under_line, over_line, color='b', alpha=.1) #std curves."
   ]
  },
  {
   "cell_type": "code",
   "execution_count": null,
   "id": "9be29118",
   "metadata": {
    "ExecuteTime": {
     "end_time": "2022-05-17T15:33:55.975514Z",
     "start_time": "2022-05-17T15:33:52.914902Z"
    }
   },
   "outputs": [],
   "source": [
    "df.set_index('date', drop=True, inplace=True)\n",
    "s = setup(df, session_id = 123)\n",
    "iforest = create_model('iforest', fraction = 0.01)\n",
    "iforest_results = assign_model(iforest)\n",
    "\n",
    "# plot value on y-axis and date on x-axis\n",
    "fig = px.line(iforest_results, \n",
    "              x=iforest_results.index, \n",
    "              y=\"value\", \n",
    "              template = 'plotly_dark', \n",
    "              title=f\"Anomalies {data_name}\")\n",
    "\n",
    "# create list of outlier_dates\n",
    "outlier_dates = iforest_results[iforest_results['Anomaly'] == 1].index\n",
    "# obtain y value of anomalies to plot\n",
    "y_values = [iforest_results.loc[i]['value'] for i in outlier_dates]\n",
    "fig.add_trace(go.Scatter(x=outlier_dates, y=y_values, mode = 'markers', \n",
    "                name = 'Anomaly', \n",
    "                marker=dict(color='red',size=10)))\n",
    "\n",
    "fig.show()"
   ]
  },
  {
   "cell_type": "code",
   "execution_count": null,
   "id": "63780d62",
   "metadata": {
    "ExecuteTime": {
     "end_time": "2022-05-17T15:33:56.118764Z",
     "start_time": "2022-05-17T15:33:56.106417Z"
    }
   },
   "outputs": [],
   "source": [
    "iforest_results[iforest_results['Anomaly'] == 1].head()"
   ]
  },
  {
   "cell_type": "code",
   "execution_count": null,
   "id": "42394d04",
   "metadata": {
    "ExecuteTime": {
     "end_time": "2022-05-17T15:33:56.230013Z",
     "start_time": "2022-05-17T15:33:56.224406Z"
    }
   },
   "outputs": [],
   "source": [
    "iforest_results.Anomaly_Score"
   ]
  },
  {
   "cell_type": "code",
   "execution_count": null,
   "id": "7b756271",
   "metadata": {
    "ExecuteTime": {
     "end_time": "2022-05-17T15:33:56.470959Z",
     "start_time": "2022-05-17T15:33:56.337091Z"
    }
   },
   "outputs": [],
   "source": [
    "plt.plot(iforest_results.Anomaly_Score, linewidth=2)"
   ]
  },
  {
   "cell_type": "code",
   "execution_count": null,
   "id": "21bc5767",
   "metadata": {},
   "outputs": [],
   "source": []
  },
  {
   "cell_type": "code",
   "execution_count": null,
   "id": "aef3f313",
   "metadata": {},
   "outputs": [],
   "source": []
  }
 ],
 "metadata": {
  "kernelspec": {
   "display_name": "Python 3",
   "language": "python",
   "name": "python3"
  },
  "language_info": {
   "codemirror_mode": {
    "name": "ipython",
    "version": 3
   },
   "file_extension": ".py",
   "mimetype": "text/x-python",
   "name": "python",
   "nbconvert_exporter": "python",
   "pygments_lexer": "ipython3",
   "version": "3.7.10"
  },
  "toc": {
   "base_numbering": 1,
   "nav_menu": {},
   "number_sections": true,
   "sideBar": true,
   "skip_h1_title": false,
   "title_cell": "Table of Contents",
   "title_sidebar": "Contents",
   "toc_cell": false,
   "toc_position": {},
   "toc_section_display": true,
   "toc_window_display": false
  },
  "varInspector": {
   "cols": {
    "lenName": 16,
    "lenType": 16,
    "lenVar": 40
   },
   "kernels_config": {
    "python": {
     "delete_cmd_postfix": "",
     "delete_cmd_prefix": "del ",
     "library": "var_list.py",
     "varRefreshCmd": "print(var_dic_list())"
    },
    "r": {
     "delete_cmd_postfix": ") ",
     "delete_cmd_prefix": "rm(",
     "library": "var_list.r",
     "varRefreshCmd": "cat(var_dic_list()) "
    }
   },
   "types_to_exclude": [
    "module",
    "function",
    "builtin_function_or_method",
    "instance",
    "_Feature"
   ],
   "window_display": false
  }
 },
 "nbformat": 4,
 "nbformat_minor": 5
}
